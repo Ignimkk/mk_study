{
 "cells": [
  {
   "cell_type": "markdown",
   "metadata": {},
   "source": [
    "캘리브레이션 적용\n"
   ]
  },
  {
   "cell_type": "code",
   "execution_count": 21,
   "metadata": {},
   "outputs": [],
   "source": [
    "import cv2\n",
    "import numpy as np\n",
    "\n",
    "mtx  = np.array([[756.3836, 0, 337.0657],\n",
    "                 [0, 757.1828, 243.6923],\n",
    "                 [0, 0, 1]])  # Camera matrix\n",
    "\n",
    "dist = np.array([[0.1844, 0.2477, 0, 0, 0]])  # Distortion coefficients\n",
    "\n",
    "cap = cv2.VideoCapture(2)  # Open camera at index 1 (adjust as needed)\n",
    "# cap.set(cv2.CAP_PROP_FRAME_WIDTH, 1280)  # Set frame width to 1280 (720p)\n",
    "# cap.set(cv2.CAP_PROP_FRAME_HEIGHT, 720)   # Set frame height to 720 (720p)\n",
    "\n",
    "while True:\n",
    "    ret, frame = cap.read()\n",
    "    if not ret:\n",
    "        break\n",
    "\n",
    "    if ret:\n",
    "        img_undist = cv2.undistort(frame, mtx, dist, None, mtx)\n",
    "        cv2.imshow('frame_calibration', img_undist)\n",
    "        cv2.imshow('frame_original', frame)\n",
    "        if cv2.waitKey(20) & 0xFF == ord('q'):\n",
    "            break\n",
    "    else:\n",
    "        break\n",
    "\n",
    "cv2.destroyAllWindows()\n",
    "cap.release()\n"
   ]
  },
  {
   "cell_type": "markdown",
   "metadata": {},
   "source": [
    "캡쳐"
   ]
  },
  {
   "cell_type": "code",
   "execution_count": 19,
   "metadata": {},
   "outputs": [
    {
     "name": "stdout",
     "output_type": "stream",
     "text": [
      "이미지 캡처됨:  captured_image_1.jpg\n",
      "이미지 캡처됨:  captured_image_2.jpg\n",
      "이미지 캡처됨:  captured_image_3.jpg\n",
      "이미지 캡처됨:  captured_image_4.jpg\n",
      "이미지 캡처됨:  captured_image_5.jpg\n",
      "이미지 캡처됨:  captured_image_6.jpg\n",
      "이미지 캡처됨:  captured_image_7.jpg\n",
      "이미지 캡처됨:  captured_image_8.jpg\n",
      "이미지 캡처됨:  captured_image_9.jpg\n",
      "이미지 캡처됨:  captured_image_10.jpg\n",
      "이미지 캡처됨:  captured_image_11.jpg\n",
      "이미지 캡처됨:  captured_image_12.jpg\n",
      "이미지 캡처됨:  captured_image_13.jpg\n",
      "이미지 캡처됨:  captured_image_14.jpg\n",
      "이미지 캡처됨:  captured_image_15.jpg\n",
      "이미지 캡처됨:  captured_image_16.jpg\n",
      "이미지 캡처됨:  captured_image_17.jpg\n",
      "이미지 캡처됨:  captured_image_18.jpg\n",
      "이미지 캡처됨:  captured_image_19.jpg\n",
      "이미지 캡처됨:  captured_image_20.jpg\n",
      "이미지 캡처됨:  captured_image_21.jpg\n",
      "이미지 캡처됨:  captured_image_22.jpg\n",
      "이미지 캡처됨:  captured_image_23.jpg\n",
      "이미지 캡처됨:  captured_image_24.jpg\n",
      "이미지 캡처됨:  captured_image_25.jpg\n",
      "이미지 캡처됨:  captured_image_26.jpg\n",
      "이미지 캡처됨:  captured_image_27.jpg\n",
      "이미지 캡처됨:  captured_image_28.jpg\n",
      "이미지 캡처됨:  captured_image_29.jpg\n",
      "이미지 캡처됨:  captured_image_30.jpg\n"
     ]
    }
   ],
   "source": [
    "import cv2\n",
    "import numpy as np\n",
    "\n",
    "# mtx  = np.array([[1368.0039, 0, 676.3987],\n",
    "#                  [0, 363.1988, 1368.2914],\n",
    "#                  [0, 0, 1]])  # 카메라 매트릭스\n",
    "\n",
    "# dist = np.array([[0.01654, -0.05883, 0, 0, 0]])  # 왜곡 계수\n",
    "\n",
    "cap = cv2.VideoCapture(2)  # 인덱스 2의 카메라 열기 (필요에 따라 조정)\n",
    "\n",
    "count = 0  # 이미지 카운터 초기화\n",
    "\n",
    "while True:\n",
    "    ret, frame = cap.read()\n",
    "    if not ret:\n",
    "        break\n",
    "\n",
    "    if ret:\n",
    "        # img_undist = cv2.undistort(frame, mtx, dist, None, mtx)\n",
    "        # cv2.imshow('frame_calibration', img_undist)\n",
    "        cv2.imshow('frame_original', frame)\n",
    "\n",
    "        key = cv2.waitKey(20)\n",
    "        if key & 0xFF == ord('q'):  # 'q'를 누르면 종료\n",
    "            break\n",
    "        elif key & 0xFF == ord('c'):  # 'c'를 누르면 이미지 캡처\n",
    "            count += 1\n",
    "            filename = \"captured_image_\" + str(count) + \".jpg\"\n",
    "            cv2.imwrite(filename, frame)\n",
    "            print(\"이미지 캡처됨: \", filename)\n",
    "\n",
    "    else:\n",
    "        break\n",
    "\n",
    "cv2.destroyAllWindows()\n",
    "cap.release()\n",
    "\n"
   ]
  }
 ],
 "metadata": {
  "kernelspec": {
   "display_name": "eda_venv",
   "language": "python",
   "name": "python3"
  },
  "language_info": {
   "codemirror_mode": {
    "name": "ipython",
    "version": 3
   },
   "file_extension": ".py",
   "mimetype": "text/x-python",
   "name": "python",
   "nbconvert_exporter": "python",
   "pygments_lexer": "ipython3",
   "version": "3.8.10"
  }
 },
 "nbformat": 4,
 "nbformat_minor": 2
}
