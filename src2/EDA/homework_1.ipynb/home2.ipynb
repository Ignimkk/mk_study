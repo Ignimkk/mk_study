{
 "cells": [
  {
   "cell_type": "code",
   "execution_count": 15,
   "metadata": {},
   "outputs": [],
   "source": [
    "from selenium import webdriver\n",
    "from selenium.webdriver.chrome.service import Service\n",
    "from selenium.webdriver.chrome.options import Options\n",
    "from selenium.webdriver.common.by import By\n",
    "from bs4 import BeautifulSoup\n",
    "import time\n",
    "from tqdm import tqdm \n",
    "import re\n",
    "\n",
    "url = \"https://www.applyhome.co.kr/co/coa/selectMainView.do\"\n",
    "driver = webdriver.Chrome(service=Service(\"/home/addinedu/dev_ws/driver/chromedriver-linux64/chromedriver\"))\n",
    "\n",
    " \n",
    "\n",
    "   \n",
    "\n",
    "driver. get(url)"
   ]
  },
  {
   "cell_type": "code",
   "execution_count": 16,
   "metadata": {},
   "outputs": [],
   "source": [
    "\n",
    "op = driver.find_element(By.XPATH, '//*[@id=\"subContent\"]/div/div/div[4]/div[3]/div[2]/ul/li[1]/a')\n",
    "op.click()"
   ]
  },
  {
   "cell_type": "code",
   "execution_count": 17,
   "metadata": {},
   "outputs": [],
   "source": [
    "# 세부사항 누르기\n",
    "table_all = driver.find_element(By.CLASS_NAME,\"tbl_st.tbl_tb.tbl_bg_n.tbl_center.mTbl.type35\")\n",
    "op_list = table_all.find_elements(By.TAG_NAME, 'a')\n",
    "op_list[0].click() # 인덱스에 for문 돌리기"
   ]
  },
  {
   "cell_type": "code",
   "execution_count": 27,
   "metadata": {},
   "outputs": [],
   "source": [
    "# go = driver.find_element(By.XPATH,'//*[@id=\"subContent\"]/div[4]/table/tbody/tr[1]/td[3]/a/b' )\n",
    "\n",
    "recruit_list = []\n",
    "receive_list = []\n",
    "ann_list = []\n",
    "contract_list = []\n",
    "\n",
    "\n",
    "req = driver.page_source\n",
    "soup = BeautifulSoup(req,'html.parser')\n",
    "# time.sleep(2)\n",
    "\n",
    "# all = soup.find('d', attrs={'role':'dialog'} )\n",
    "# all2 = all.find('iframe', id='iframeDialog')\n",
    "all = soup.find('div',class_='ui-dialog ui-corner-all ui-widget ui-widget-content ui-front ui-draggable pop_w_900')\n",
    "all2 = all.find(id = 'iframeDialog')\n",
    "all3 = all2.find('body', class_= 'popBody')"
   ]
  },
  {
   "cell_type": "code",
   "execution_count": 28,
   "metadata": {},
   "outputs": [],
   "source": [
    "# print(all2.prettify())\n",
    "all3"
   ]
  },
  {
   "cell_type": "code",
   "execution_count": 14,
   "metadata": {},
   "outputs": [],
   "source": [
    "back = driver.find_element(By.CLASS_NAME, \"ui-button-icon.ui-icon.ui-icon-closethick\")\n",
    "back.click()"
   ]
  }
 ],
 "metadata": {
  "kernelspec": {
   "display_name": "eda_venv",
   "language": "python",
   "name": "python3"
  },
  "language_info": {
   "codemirror_mode": {
    "name": "ipython",
    "version": 3
   },
   "file_extension": ".py",
   "mimetype": "text/x-python",
   "name": "python",
   "nbconvert_exporter": "python",
   "pygments_lexer": "ipython3",
   "version": "3.10.12"
  }
 },
 "nbformat": 4,
 "nbformat_minor": 2
}
