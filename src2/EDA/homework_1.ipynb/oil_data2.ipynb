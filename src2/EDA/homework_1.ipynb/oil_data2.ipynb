{
 "cells": [
  {
   "cell_type": "code",
   "execution_count": 1,
   "metadata": {},
   "outputs": [],
   "source": [
    "from selenium import webdriver\n",
    "from selenium.webdriver.chrome.service import Service\n",
    "from selenium.webdriver.chrome.options import Options\n",
    "from selenium.webdriver.common.by import By\n",
    "from bs4 import BeautifulSoup\n",
    "\n",
    "url = \"https://www.opinet.co.kr/searRgSelect.do\"\n",
    "driver = webdriver.Chrome(service=Service(\"/home/addinedu/dev_ws/driver/chromedriver-linux64/chromedriver\"))\n",
    "\n",
    " \n",
    "\n",
    "   \n",
    "\n",
    "driver. get(url)"
   ]
  },
  {
   "cell_type": "code",
   "execution_count": 8,
   "metadata": {},
   "outputs": [],
   "source": []
  },
  {
   "cell_type": "code",
   "execution_count": 2,
   "metadata": {},
   "outputs": [],
   "source": [
    "driver. get(url)"
   ]
  },
  {
   "cell_type": "code",
   "execution_count": 9,
   "metadata": {},
   "outputs": [
    {
     "name": "stdout",
     "output_type": "stream",
     "text": [
      "25 ['강남구', '강동구', '강북구', '강서구', '관악구', '광진구', '구로구', '금천구', '노원구', '도봉구', '동대문구', '동작구', '마포구', '서대문구', '서초구', '성동구', '성북구', '송파구', '양천구', '영등포구', '용산구', '은평구', '종로구', '중구', '중랑구']\n"
     ]
    }
   ],
   "source": [
    "gu = driver.find_element(By.ID, \"SIGUNGU_NM0\")\n",
    "gu_lists = gu.find_elements(By.TAG_NAME, \"option\")\n",
    "\n",
    "gu_names = [gu_name.get_attribute(\"value\") for gu_name in gu_lists]\n",
    "gu_names.remove('')\n",
    "print(len(gu_names), gu_names)\n",
    "\n",
    "# gu.send_keys(gu_names[2])"
   ]
  },
  {
   "cell_type": "code",
   "execution_count": 9,
   "metadata": {},
   "outputs": [
    {
     "name": "stdout",
     "output_type": "stream",
     "text": [
      "['', '강남구', '강동구', '강북구', '강서구', '관악구', '광진구', '구로구', '금천구', '노원구', '도봉구', '동대문구', '동작구', '마포구', '서대문구', '서초구', '성동구', '성북구', '송파구', '양천구', '영등포구', '용산구', '은평구', '종로구', '중구', '중랑구']\n"
     ]
    }
   ],
   "source": [
    "# import time\n",
    "\n",
    "# # sido_select=driver.find_element_by_id(\"SIDO_NM0\")\n",
    "# # sido_select.send_keys('서울')\n",
    "\n",
    "# time.sleep(2)\n",
    "\n",
    "# sigungu_select=driver.find_element(By.ID,'SIGUNGU_NM0')\n",
    "# sigungu_options=sigungu_select.find_elements(By.TAG_NAME,'option')\n",
    "# sigungu_list= [ option.get_attribute('value') for option in sigungu_options] # 서울시 구 리스트 \n",
    "# print(sigungu_list)"
   ]
  },
  {
   "cell_type": "code",
   "execution_count": 26,
   "metadata": {},
   "outputs": [],
   "source": []
  },
  {
   "cell_type": "code",
   "execution_count": 10,
   "metadata": {},
   "outputs": [],
   "source": [
    "import time\n",
    "\n",
    "req = driver.page_source\n",
    "soup = BeautifulSoup(req,'html.parser')         #페이지 html 가져오기\n",
    "oil_info = soup.find('div', class_='result_gis') # 상자 표 가져오기\n",
    "oil_info2 = oil_info.find('div', id='os_price1') # 보통휘발유 가져오기\n",
    "oil_info3 = oil_info2.find('tbody', id='body1')   # 주유소 이름별 모든정보\n",
    "\n",
    "time.sleep(2) \n",
    "\n",
    "#주유소명, 브랜드, 주소 \n",
    "oil_detail_list=oil_info3.find_all('td', class_='rlist') #주유소명 브랜드, 세부링크 있음\n",
    "    \n",
    "##구 리스트\n",
    "gu_list=[gu_names for i in range(len(oil_detail_list))]\n"
   ]
  },
  {
   "cell_type": "code",
   "execution_count": 48,
   "metadata": {},
   "outputs": [],
   "source": [
    "# for i in range(len(gu_names)):\n",
    "#     gu = driver.find_element(By.ID, \"SIGUNGU_NM0\")\n",
    "\n",
    "#     gu.send_keys(gu_names[i])\n",
    "#     time.sleep(2)"
   ]
  },
  {
   "cell_type": "code",
   "execution_count": null,
   "metadata": {},
   "outputs": [],
   "source": []
  },
  {
   "cell_type": "markdown",
   "metadata": {},
   "source": [
    "XPATH 규칙\n",
    "\n",
    "//*[@id=\"body1\"]/tr[1]/td[1]/a  #index[0] \n",
    "\n",
    "//*[@id=\"body1\"]/tr[2]/td[1]/a  #index[1]"
   ]
  },
  {
   "cell_type": "code",
   "execution_count": null,
   "metadata": {},
   "outputs": [],
   "source": [
    "seoul_oil_station_dict={}\n",
    "\n",
    "def getStationInfo(driver,sigungu_list):\n",
    "            \n",
    "    for gu in tqdm(gu_names[:]):\n",
    "        # 서울시 구 선택\n",
    "        sigungu_select=driver.find_element(By.ID,'SIGUNGU_NM0')\n",
    "        sigungu_select.send_keys(gu)\n",
    "        time.sleep(2)\n",
    "        # # 군/구 버튼 클릭 \n",
    "        # sigungu_btn = driver.find_element(By.CSS_SELECTOR,'#searRgSelect')\n",
    "        # sigungu_btn.click()\n",
    "        time.sleep(3)"
   ]
  },
  {
   "cell_type": "code",
   "execution_count": null,
   "metadata": {},
   "outputs": [],
   "source": [
    "//*[@id=\"body1\"]/tr[1]/td[1]/a\n",
    "\n",
    "//*[@id=\"body1\"]/tr[2]/td[1]/a"
   ]
  },
  {
   "cell_type": "code",
   "execution_count": 11,
   "metadata": {},
   "outputs": [
    {
     "name": "stderr",
     "output_type": "stream",
     "text": [
      "0it [00:00, ?it/s]\n"
     ]
    },
    {
     "ename": "NoSuchElementException",
     "evalue": "Message: no such element: Unable to locate element: {\"method\":\"css selector\",\"selector\":\"#body1 > tr:nth-child(1) > td.rlis\"}\n  (Session info: chrome=122.0.6261.94); For documentation on this error, please visit: https://www.selenium.dev/documentation/webdriver/troubleshooting/errors#no-such-element-exception\nStacktrace:\n#0 0x564749b99793 <unknown>\n#1 0x56474988d1c6 <unknown>\n#2 0x5647498d8358 <unknown>\n#3 0x5647498d8411 <unknown>\n#4 0x56474991b934 <unknown>\n#5 0x5647498fa3fd <unknown>\n#6 0x564749918dd9 <unknown>\n#7 0x5647498fa173 <unknown>\n#8 0x5647498cb2d3 <unknown>\n#9 0x5647498cbc9e <unknown>\n#10 0x564749b5d8cb <unknown>\n#11 0x564749b61745 <unknown>\n#12 0x564749b4a2e1 <unknown>\n#13 0x564749b622d2 <unknown>\n#14 0x564749b2e17f <unknown>\n#15 0x564749b87dc8 <unknown>\n#16 0x564749b87fc3 <unknown>\n#17 0x564749b98944 <unknown>\n#18 0x7fa700494ac3 <unknown>\n",
     "output_type": "error",
     "traceback": [
      "\u001b[0;31m---------------------------------------------------------------------------\u001b[0m",
      "\u001b[0;31mNoSuchElementException\u001b[0m                    Traceback (most recent call last)",
      "Cell \u001b[0;32mIn[11], line 12\u001b[0m\n\u001b[1;32m      8\u001b[0m time\u001b[38;5;241m.\u001b[39msleep(\u001b[38;5;241m2\u001b[39m)\n\u001b[1;32m      9\u001b[0m \u001b[38;5;28;01mfor\u001b[39;00m idx, each \u001b[38;5;129;01min\u001b[39;00m tqdm(\u001b[38;5;28menumerate\u001b[39m(oil_detail_list)):\n\u001b[1;32m     10\u001b[0m     \n\u001b[1;32m     11\u001b[0m     \u001b[38;5;66;03m# rlist=driver.find_element(By.XPATH, f'//*[@id=\"body1\"]/tr[{idx+1}]/td[1]/a') #이너에 있는 녀석들 가져올 준비\u001b[39;00m\n\u001b[0;32m---> 12\u001b[0m     rlist \u001b[38;5;241m=\u001b[39m \u001b[43mdriver\u001b[49m\u001b[38;5;241;43m.\u001b[39;49m\u001b[43mfind_element\u001b[49m\u001b[43m(\u001b[49m\u001b[43mBy\u001b[49m\u001b[38;5;241;43m.\u001b[39;49m\u001b[43mCSS_SELECTOR\u001b[49m\u001b[43m,\u001b[49m\u001b[43m \u001b[49m\u001b[38;5;124;43mf\u001b[39;49m\u001b[38;5;124;43m'\u001b[39;49m\u001b[38;5;124;43m#body1 > tr:nth-child(\u001b[39;49m\u001b[38;5;132;43;01m{\u001b[39;49;00m\u001b[43midx\u001b[49m\u001b[38;5;241;43m+\u001b[39;49m\u001b[38;5;241;43m1\u001b[39;49m\u001b[38;5;132;43;01m}\u001b[39;49;00m\u001b[38;5;124;43m) > td.rlis\u001b[39;49m\u001b[38;5;124;43m'\u001b[39;49m\u001b[43m)\u001b[49m\n\u001b[1;32m     13\u001b[0m     time\u001b[38;5;241m.\u001b[39msleep(\u001b[38;5;241m1\u001b[39m)\n\u001b[1;32m     14\u001b[0m     rlist\u001b[38;5;241m.\u001b[39mclick()\n",
      "File \u001b[0;32m~/venv/eda_venv/lib/python3.10/site-packages/selenium/webdriver/remote/webdriver.py:741\u001b[0m, in \u001b[0;36mWebDriver.find_element\u001b[0;34m(self, by, value)\u001b[0m\n\u001b[1;32m    738\u001b[0m     by \u001b[38;5;241m=\u001b[39m By\u001b[38;5;241m.\u001b[39mCSS_SELECTOR\n\u001b[1;32m    739\u001b[0m     value \u001b[38;5;241m=\u001b[39m \u001b[38;5;124mf\u001b[39m\u001b[38;5;124m'\u001b[39m\u001b[38;5;124m[name=\u001b[39m\u001b[38;5;124m\"\u001b[39m\u001b[38;5;132;01m{\u001b[39;00mvalue\u001b[38;5;132;01m}\u001b[39;00m\u001b[38;5;124m\"\u001b[39m\u001b[38;5;124m]\u001b[39m\u001b[38;5;124m'\u001b[39m\n\u001b[0;32m--> 741\u001b[0m \u001b[38;5;28;01mreturn\u001b[39;00m \u001b[38;5;28;43mself\u001b[39;49m\u001b[38;5;241;43m.\u001b[39;49m\u001b[43mexecute\u001b[49m\u001b[43m(\u001b[49m\u001b[43mCommand\u001b[49m\u001b[38;5;241;43m.\u001b[39;49m\u001b[43mFIND_ELEMENT\u001b[49m\u001b[43m,\u001b[49m\u001b[43m \u001b[49m\u001b[43m{\u001b[49m\u001b[38;5;124;43m\"\u001b[39;49m\u001b[38;5;124;43musing\u001b[39;49m\u001b[38;5;124;43m\"\u001b[39;49m\u001b[43m:\u001b[49m\u001b[43m \u001b[49m\u001b[43mby\u001b[49m\u001b[43m,\u001b[49m\u001b[43m \u001b[49m\u001b[38;5;124;43m\"\u001b[39;49m\u001b[38;5;124;43mvalue\u001b[39;49m\u001b[38;5;124;43m\"\u001b[39;49m\u001b[43m:\u001b[49m\u001b[43m \u001b[49m\u001b[43mvalue\u001b[49m\u001b[43m}\u001b[49m\u001b[43m)\u001b[49m[\u001b[38;5;124m\"\u001b[39m\u001b[38;5;124mvalue\u001b[39m\u001b[38;5;124m\"\u001b[39m]\n",
      "File \u001b[0;32m~/venv/eda_venv/lib/python3.10/site-packages/selenium/webdriver/remote/webdriver.py:347\u001b[0m, in \u001b[0;36mWebDriver.execute\u001b[0;34m(self, driver_command, params)\u001b[0m\n\u001b[1;32m    345\u001b[0m response \u001b[38;5;241m=\u001b[39m \u001b[38;5;28mself\u001b[39m\u001b[38;5;241m.\u001b[39mcommand_executor\u001b[38;5;241m.\u001b[39mexecute(driver_command, params)\n\u001b[1;32m    346\u001b[0m \u001b[38;5;28;01mif\u001b[39;00m response:\n\u001b[0;32m--> 347\u001b[0m     \u001b[38;5;28;43mself\u001b[39;49m\u001b[38;5;241;43m.\u001b[39;49m\u001b[43merror_handler\u001b[49m\u001b[38;5;241;43m.\u001b[39;49m\u001b[43mcheck_response\u001b[49m\u001b[43m(\u001b[49m\u001b[43mresponse\u001b[49m\u001b[43m)\u001b[49m\n\u001b[1;32m    348\u001b[0m     response[\u001b[38;5;124m\"\u001b[39m\u001b[38;5;124mvalue\u001b[39m\u001b[38;5;124m\"\u001b[39m] \u001b[38;5;241m=\u001b[39m \u001b[38;5;28mself\u001b[39m\u001b[38;5;241m.\u001b[39m_unwrap_value(response\u001b[38;5;241m.\u001b[39mget(\u001b[38;5;124m\"\u001b[39m\u001b[38;5;124mvalue\u001b[39m\u001b[38;5;124m\"\u001b[39m, \u001b[38;5;28;01mNone\u001b[39;00m))\n\u001b[1;32m    349\u001b[0m     \u001b[38;5;28;01mreturn\u001b[39;00m response\n",
      "File \u001b[0;32m~/venv/eda_venv/lib/python3.10/site-packages/selenium/webdriver/remote/errorhandler.py:229\u001b[0m, in \u001b[0;36mErrorHandler.check_response\u001b[0;34m(self, response)\u001b[0m\n\u001b[1;32m    227\u001b[0m         alert_text \u001b[38;5;241m=\u001b[39m value[\u001b[38;5;124m\"\u001b[39m\u001b[38;5;124malert\u001b[39m\u001b[38;5;124m\"\u001b[39m]\u001b[38;5;241m.\u001b[39mget(\u001b[38;5;124m\"\u001b[39m\u001b[38;5;124mtext\u001b[39m\u001b[38;5;124m\"\u001b[39m)\n\u001b[1;32m    228\u001b[0m     \u001b[38;5;28;01mraise\u001b[39;00m exception_class(message, screen, stacktrace, alert_text)  \u001b[38;5;66;03m# type: ignore[call-arg]  # mypy is not smart enough here\u001b[39;00m\n\u001b[0;32m--> 229\u001b[0m \u001b[38;5;28;01mraise\u001b[39;00m exception_class(message, screen, stacktrace)\n",
      "\u001b[0;31mNoSuchElementException\u001b[0m: Message: no such element: Unable to locate element: {\"method\":\"css selector\",\"selector\":\"#body1 > tr:nth-child(1) > td.rlis\"}\n  (Session info: chrome=122.0.6261.94); For documentation on this error, please visit: https://www.selenium.dev/documentation/webdriver/troubleshooting/errors#no-such-element-exception\nStacktrace:\n#0 0x564749b99793 <unknown>\n#1 0x56474988d1c6 <unknown>\n#2 0x5647498d8358 <unknown>\n#3 0x5647498d8411 <unknown>\n#4 0x56474991b934 <unknown>\n#5 0x5647498fa3fd <unknown>\n#6 0x564749918dd9 <unknown>\n#7 0x5647498fa173 <unknown>\n#8 0x5647498cb2d3 <unknown>\n#9 0x5647498cbc9e <unknown>\n#10 0x564749b5d8cb <unknown>\n#11 0x564749b61745 <unknown>\n#12 0x564749b4a2e1 <unknown>\n#13 0x564749b622d2 <unknown>\n#14 0x564749b2e17f <unknown>\n#15 0x564749b87dc8 <unknown>\n#16 0x564749b87fc3 <unknown>\n#17 0x564749b98944 <unknown>\n#18 0x7fa700494ac3 <unknown>\n"
     ]
    }
   ],
   "source": [
    "from tqdm import tqdm\n",
    "\n",
    "# a= '//*[@id=\"body1\"]/div['\n",
    "# b= ']/div[1]/a'\n",
    "def\n",
    "for i in range(len(gu_names)):\n",
    "    gu = driver.find_element(By.ID, \"SIGUNGU_NM0\")\n",
    "    gu.send_keys(gu_names[i])\n",
    "    time.sleep(2)\n",
    "    \n",
    "    seoul_oil_station=[]\n",
    "    gu_list=[] # 구 \n",
    "    car_wash_list=[] # 세차장\n",
    "    charging_list=[] #충전소\n",
    "    maintenance_list=[] #경정비\n",
    "    convenience_list=[] #편의점\n",
    "    sel24_list=[] #24시 영업\n",
    "    self_list=[] #셀프 \n",
    "    phone_list=[] #전화번호\n",
    "\n",
    "    name_list = [] #주유소 명\n",
    "    brand_list=[] #브랜드\n",
    "    address_list=[] #주소\n",
    "    gas_list=[] # 가솔린가격\n",
    "    diesel_list=[] #경유가격\n",
    "\n",
    "    car_wash='' \n",
    "    charging='' \n",
    "    maintenance='' \n",
    "    convenience='' \n",
    "    sel24='' \n",
    "    self='' \n",
    "    for idx, each in tqdm(enumerate(oil_detail_list)):\n",
    "    \n",
    "        rlist=driver.find_element(By.XPATH, f'//*[@id=\"body1\"]/tr[{idx+1}]/td[1]/a') #이너에 있는 녀석들 가져올 준비\n",
    "        time.sleep(1)\n",
    "        rlist.click()\n",
    "        time.sleep(1)\n",
    "\n",
    "        req=driver.page_source \n",
    "        soup=BeautifulSoup(req,'html.parser')  #이너로 오면서 html 바뀔수도 있으니 다시 파서 함\n",
    "        inner_info=soup.find('div', class_='ollehmap-info') \n",
    "        inner_info2 = inner_info.find('div', id='os_dtail_info') \n",
    "        \n",
    "        #정보추출 및 리스트에 추가\n",
    "        name = inner_info2.find(id='os_nm').text          #주유소명\n",
    "        name_list.append(name)\n",
    "        phone = inner_info2.find(id='phn_no').text         #전화번호\n",
    "        phone_list.append(phone)\n",
    "        address = inner_info2.find(id='rd_addr').text       #주소\n",
    "        address_list.append(address)\n",
    "        brand = inner_info2.find(id='poll_div_nm').text     #브랜드\n",
    "        brand_list.append(brand)\n",
    "        gas = inner_info2.find(id='b027_p').text            #휘발유\n",
    "        gas_list.append(gas)\n",
    "        disel = inner_info2.find(id='d047_p').text          #경유\n",
    "        diesel_list.append(disel)\n",
    "        \n",
    "        a = each.text.strip()\n",
    "        # 셀프 여부 \n",
    "        if '셀프' in a:\n",
    "            self='Y'\n",
    "        else:\n",
    "            self='N'\n",
    "                \n",
    "        self_list.append(self)\n",
    "\n",
    "        Service = inner_info2.find('div', class_='service')\n",
    "\n",
    "        car_wash='' \n",
    "        charging='' \n",
    "        maintenance='' \n",
    "        convenience='' \n",
    "        sel24='' \n",
    "        self='' \n",
    "\n",
    "        warsh = Service.find('img', id=\"cwsh_yn\")['src'] #alt 아니면 src\n",
    "        if 'off' in warsh:\n",
    "            car_wash = 'NO'\n",
    "        else:\n",
    "            car_wash = \"Yes\"\n",
    "        car_wash_list.append(car_wash)\n",
    "\n",
    "        charg = Service.find(id=\"lpg_yn\")['src']\n",
    "        if 'off' in charg:\n",
    "            charging = 'NO'\n",
    "        else:\n",
    "            charging = \"Yes\"\n",
    "        charging_list.append(charging)\n",
    "\n",
    "        maint = Service.find(id=\"maint_yn\")['src']\n",
    "        if 'off' in maint:\n",
    "            maintenance = 'NO'\n",
    "        else:\n",
    "            maintenance = \"Yes\"\n",
    "        maintenance_list.append(maintenance)\n",
    "\n",
    "        GS25 = Service.find(id=\"cvs_yn\")['src']\n",
    "        if 'off' in warsh:\n",
    "            convenience = 'NO'\n",
    "        else:\n",
    "            convenience = \"Yes\"\n",
    "        convenience_list.append(convenience)\n",
    "\n",
    "        self24_info = Service.find(id=\"sel24_yn\")['src']\n",
    "        if 'off' in warsh:\n",
    "            sel24 = 'NO'\n",
    "        else:\n",
    "            sel24 = \"Yes\"\n",
    "        sel24_list.append(sel24)\n",
    "        \n",
    "        data={\n",
    "            '주유소명' : name_list,\n",
    "            '전화번호' : phone_list,\n",
    "            '주소' : address_list,\n",
    "            '브랜드' : brand_list,\n",
    "            '휘발유 가격' : gas_list,\n",
    "            '경유 가격' : diesel_list,\n",
    "            '셀프 여부' : self_list,\n",
    "            '세차장 여부' : car_wash_list,\n",
    "            '충전소 여부' : charging_list,\n",
    "            '경정비 여부' : maintenance_list,\n",
    "            '편의점 여부' : convenience_list,\n",
    "            '24시간 운영 여부' : sel24_list,\n",
    "            '구' : gu_list\n",
    "        }\n",
    "        \n",
    "        print(data)\n",
    "    \n",
    "    \n",
    "\n",
    "\n"
   ]
  }
 ],
 "metadata": {
  "kernelspec": {
   "display_name": "eda_venv",
   "language": "python",
   "name": "python3"
  },
  "language_info": {
   "codemirror_mode": {
    "name": "ipython",
    "version": 3
   },
   "file_extension": ".py",
   "mimetype": "text/x-python",
   "name": "python",
   "nbconvert_exporter": "python",
   "pygments_lexer": "ipython3",
   "version": "3.10.12"
  }
 },
 "nbformat": 4,
 "nbformat_minor": 2
}
