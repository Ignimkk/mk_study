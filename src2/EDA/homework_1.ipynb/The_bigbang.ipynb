{
 "cells": [
  {
   "cell_type": "code",
   "execution_count": null,
   "metadata": {},
   "outputs": [],
   "source": [
    "from selenium import webdriver\n",
    "from selenium.webdriver.chrome.service import Service\n",
    "from selenium.webdriver.chrome.options import Options\n",
    "from selenium.webdriver.common.by import By\n",
    "from bs4 import BeautifulSoup\n",
    "import time\n",
    "from tqdm import tqdm \n",
    "\n",
    "url = \"https://www.imdb.com/title/tt0898266/episodes/?ref_=tt_eps_sm\"\n",
    "driver = webdriver.Chrome(service=Service(\"/home/addinedu/dev_ws/driver/chromedriver-linux64/chromedriver\"))\n",
    "\n",
    " \n",
    "\n",
    "   \n",
    "\n",
    "driver. get(url)"
   ]
  },
  {
   "cell_type": "markdown",
   "metadata": {},
   "source": [
    "페이지 이동"
   ]
  },
  {
   "cell_type": "code",
   "execution_count": null,
   "metadata": {},
   "outputs": [],
   "source": [
    "# all_box = driver.find_element(By.CLASS_NAME, \"ipc-page-section ipc-page-section--base ipc-page-section--sp-pageMargin\")\n",
    "# # page_move = all_box.find_element(By.CLASS_NAME, 'ipc-tabs ipc-tabs--base ipc-tabs--align-left ipc-tabs--display-chip ipc-tabs--inherit')\n",
    "# # move_on = page_move.find_elements(By.CLASS_NAME, 'ipc-tab ipc-tab-link ipc-tab--on-base')"
   ]
  },
  {
   "cell_type": "code",
   "execution_count": null,
   "metadata": {},
   "outputs": [],
   "source": [
    "req = driver.page_source\n",
    "soup = BeautifulSoup(req,'html.parser')  \n",
    "all_box = soup.find(class_= \"ipc-page-section ipc-page-section--base ipc-page-section--sp-pageMargin\")\n",
    "page_move = all_box.find(class_= 'ipc-tabs ipc-tabs--base ipc-tabs--align-left ipc-tabs--display-chip ipc-tabs--inherit')\n",
    "move_on = page_move.find_all(class_= 'ipc-tab ipc-tab-link ipc-tab--on-base')"
   ]
  },
  {
   "cell_type": "code",
   "execution_count": 28,
   "metadata": {},
   "outputs": [
    {
     "data": {
      "text/plain": [
       "12"
      ]
     },
     "execution_count": 28,
     "metadata": {},
     "output_type": "execute_result"
    }
   ],
   "source": [
    "len(move_on)"
   ]
  },
  {
   "cell_type": "code",
   "execution_count": null,
   "metadata": {},
   "outputs": [],
   "source": [
    "//*[@id=\"__next\"]/main/div/section/div/section/div/div[1]/section[2]/section[1]/div[2]/ul/a[1]\n",
    "//*[@id=\"__next\"]/main/div/section/div/section/div/div[1]/section[2]/section[1]/div[2]/ul/a[2]\n"
   ]
  },
  {
   "cell_type": "code",
   "execution_count": null,
   "metadata": {},
   "outputs": [],
   "source": [
    "for i in range(len(move_on)):\n",
    "    page_2dong = driver.find_element(By.XPATH, f'//*[@id=\"__next\"]/main/div/section/div/section/div/div[1]/section[2]/section[1]/div[2]/ul/a[{i+1}]')\n",
    "    # driver.execute_script(\"arguments[0].scrollIntoView(true);\", page_2dong)\n",
    "    try:\n",
    "        page_2dong.click()\n",
    "    except:\n",
    "        print(\"z\")\n",
    "\n",
    "    time.sleep(2)"
   ]
  },
  {
   "cell_type": "code",
   "execution_count": null,
   "metadata": {},
   "outputs": [],
   "source": []
  },
  {
   "cell_type": "code",
   "execution_count": 57,
   "metadata": {},
   "outputs": [],
   "source": [
    "req = driver.page_source\n",
    "soup = BeautifulSoup(req,'html.parser')  \n",
    "all_box = soup.find(class_= \"ipc-page-section ipc-page-section--base ipc-page-section--sp-pageMargin\")\n",
    "all_inf =all_box.find(class_='sc-7b9ed960-0 jNjsLo')\n",
    "all_inf_2= all_inf.find_all(class_='sc-282bae8e-1 dSEzwa episode-item-wrapper')\n",
    "\n",
    "all_inf_list = []\n",
    "\n",
    "title_list = []\n",
    "day_list=[]\n",
    "rating_list=[]\n",
    "\n",
    "all_inf_list = [i for i in all_inf_2]\n",
    "\n",
    "for Episode  in all_inf_list:\n",
    "    title = Episode.find('div', class_=\"ipc-title__text\").get_text()\n",
    "    title_list.append(title)\n",
    "    day = Episode.find('span', class_=\"sc-f2169d65-10 iZXnmI\").get_text()\n",
    "    day_list.append(day)\n",
    "    rating = Episode.find('span').get_text()\n",
    "    number = rating.split('\\n')[-1]\n",
    "    rating_list.append(number)\n",
    "\n"
   ]
  },
  {
   "cell_type": "code",
   "execution_count": 58,
   "metadata": {},
   "outputs": [
    {
     "data": {
      "text/plain": [
       "'Mon, May 19, 2008'"
      ]
     },
     "execution_count": 58,
     "metadata": {},
     "output_type": "execute_result"
    }
   ],
   "source": [
    "rating"
   ]
  },
  {
   "cell_type": "code",
   "execution_count": 40,
   "metadata": {},
   "outputs": [
    {
     "data": {
      "text/plain": [
       "'S1.E17 ∙ The Tangerine Factor'"
      ]
     },
     "execution_count": 40,
     "metadata": {},
     "output_type": "execute_result"
    }
   ],
   "source": [
    "title"
   ]
  },
  {
   "cell_type": "code",
   "execution_count": 31,
   "metadata": {},
   "outputs": [
    {
     "data": {
      "text/plain": [
       "17"
      ]
     },
     "execution_count": 31,
     "metadata": {},
     "output_type": "execute_result"
    }
   ],
   "source": [
    "all_inf_2\n",
    "len(all_inf_2)"
   ]
  },
  {
   "cell_type": "code",
   "execution_count": null,
   "metadata": {},
   "outputs": [],
   "source": []
  }
 ],
 "metadata": {
  "kernelspec": {
   "display_name": "eda_venv",
   "language": "python",
   "name": "python3"
  },
  "language_info": {
   "codemirror_mode": {
    "name": "ipython",
    "version": 3
   },
   "file_extension": ".py",
   "mimetype": "text/x-python",
   "name": "python",
   "nbconvert_exporter": "python",
   "pygments_lexer": "ipython3",
   "version": "3.10.12"
  }
 },
 "nbformat": 4,
 "nbformat_minor": 2
}
