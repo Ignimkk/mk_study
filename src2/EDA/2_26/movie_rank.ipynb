{
 "cells": [
  {
   "cell_type": "code",
   "execution_count": null,
   "metadata": {},
   "outputs": [],
   "source": [
    "from bs4 import BeautifulSoup\n",
    "from urllib.request import urlopen\n",
    "\n",
    "import urllib\n",
    "from urllib.request import Request\n",
    "\n",
    "url = \"https://search.naver.com/search.naver?where=nexearch&sm=top_hty&fbm=0&ie=utf8&query={search_words}\"\n",
    "req = Request(url.format(search_words = urllib.parse.quote(\"박스오피스 평점순\")))\n",
    "res = urlopen(req)\n",
    "\n",
    "soup = BeautifulSoup(res, \"html.parser\")\n",
    "print(soup.prettify())\n"
   ]
  },
  {
   "cell_type": "code",
   "execution_count": null,
   "metadata": {},
   "outputs": [],
   "source": [
    "movie_panel = soup.find_all(class_=\"_panel\")\n",
    "movie_panel"
   ]
  },
  {
   "cell_type": "code",
   "execution_count": null,
   "metadata": {},
   "outputs": [],
   "source": [
    "rating = soup.find(class_=\"_panel_rating _tab_content\")\n",
    "for each in rating.find_all(\"li\"):\n",
    "    print(each.prettify())"
   ]
  },
  {
   "cell_type": "code",
   "execution_count": null,
   "metadata": {},
   "outputs": [],
   "source": [
    "rating = soup.find(class_=\"_panel_rating _tab_content\")\n",
    "for idx, each in enumerate(rating.find_all(\"li\")):\n",
    "    print(\"[\" + str(idx) + \"]\")\n",
    "    print(\"title : \" + each.find(\"strong\", class_=\"name\").string)\n",
    "    "
   ]
  },
  {
   "cell_type": "code",
   "execution_count": null,
   "metadata": {},
   "outputs": [],
   "source": [
    "rating = soup.find(class_=\"_panel_rating _tab_content\")\n",
    "for idx, each in enumerate(rating.find_all(\"li\")):\n",
    "    print(\"[\" + str(idx) + \"]\")\n",
    "    print(\"title : \" + each.find(\"strong\", class_=\"name\").string)\n",
    "    print(\"rating : \" + each.find(\"span\", class_=\"sub_text\").get_text())"
   ]
  },
  {
   "cell_type": "code",
   "execution_count": null,
   "metadata": {},
   "outputs": [],
   "source": [
    "rating = soup.find(class_=\"_panel_rating _tab_content\")\n",
    "for idx, each in enumerate(rating.find_all(\"li\")):\n",
    "    print(\"[\" + str(idx) + \"]\")\n",
    "    print(\"title : \" + each.find(\"strong\", class_=\"name\").string)\n",
    "    print(\"rating : \" + each.find(\"span\", class_=\"sub_text\").get_text())\n",
    "    print(\"link : \" + each.find(\"a\")[\"href\"])"
   ]
  },
  {
   "cell_type": "code",
   "execution_count": null,
   "metadata": {},
   "outputs": [],
   "source": [
    "prefix = \"https://search.naver.com/search.naver\"\n",
    "\n",
    "rating = soup.find(class_=\"_panel_rating _tab_content\")\n",
    "for idx, each in enumerate(rating.find_all(\"li\")):\n",
    "    print(\"[\" + str(idx) + \"]\")\n",
    "    print(\"title : \" + each.find(\"strong\", class_=\"name\").string)\n",
    "    print(\"rating : \" + each.find(\"span\", class_=\"sub_text\").get_text())\n",
    "    print(\"link : \" + prefix + each.find(\"a\")[\"href\"])"
   ]
  },
  {
   "cell_type": "code",
   "execution_count": null,
   "metadata": {},
   "outputs": [],
   "source": [
    "prefix = \"https://search.naver.com/search.naver\"\n",
    "movie_list = []\n",
    "rating = soup.find(class_=\"_panel_rating _tab_content\")\n",
    "for each in rating.find_all(\"li\"):\n",
    "    movie = []\n",
    "    movie.append(each.find(\"strong\", class_=\"name\").string)\n",
    "    movie.append(each.find(\"span\", class_=\"sub_text\").get_text())\n",
    "    movie.append(prefix + each.find(\"a\")[\"href\"])\n",
    "\n",
    "    movie_list.append(movie)\n",
    "movie_list"
   ]
  },
  {
   "cell_type": "code",
   "execution_count": null,
   "metadata": {},
   "outputs": [],
   "source": [
    "def get_title(url):       \n",
    "    res = urlopen(url)\n",
    "    soup = BeautifulSoup(res, \"html.parser\")\n",
    "    return soup.find(\"strong\", class_=\"_text\").string"
   ]
  },
  {
   "cell_type": "code",
   "execution_count": null,
   "metadata": {},
   "outputs": [],
   "source": [
    "get_title(movie_list[15][2])"
   ]
  },
  {
   "cell_type": "code",
   "execution_count": null,
   "metadata": {},
   "outputs": [],
   "source": [
    "import time\n",
    "\n",
    "for movie in movie_list:\n",
    "    movie[0] = get_title(movie[2])\n",
    "    time.sleep(0.5)\n",
    "movie_list"
   ]
  },
  {
   "cell_type": "code",
   "execution_count": null,
   "metadata": {},
   "outputs": [],
   "source": [
    "import pandas as pd\n",
    "df = pd.DataFrame(movie_list, columns = ['name', 'rating', 'link'])\n",
    "df"
   ]
  },
  {
   "cell_type": "markdown",
   "metadata": {},
   "source": [
    "<b>dictionary로 해보기~"
   ]
  },
  {
   "cell_type": "code",
   "execution_count": null,
   "metadata": {},
   "outputs": [],
   "source": [
    "from bs4 import BeautifulSoup\n",
    "from urllib.request import urlopen\n",
    "import re\n",
    "import urllib\n",
    "from urllib.request import Request\n",
    "\n",
    "url = \"https://search.naver.com/search.naver?where=nexearch&sm=top_hty&fbm=0&ie=utf8&query={search_words}\"\n",
    "req = Request(url.format(search_words = urllib.parse.quote(\"영화순위\")))\n",
    "res = urlopen(req)\n",
    "\n",
    "soup = BeautifulSoup(res, \"html.parser\")\n",
    "print(soup.prettify())\n",
    "\n",
    "\n"
   ]
  },
  {
   "cell_type": "code",
   "execution_count": null,
   "metadata": {},
   "outputs": [],
   "source": [
    "movie_dict = {}\n",
    "for strong_tag, span_tag in zip(soup.find_all('strong', class_='name'), soup.find_all('span', class_='sub_text')):\n",
    "    movie_title = strong_tag.get_text()\n",
    "    match = re.search(r'(\\d+\\.\\d+)', span_tag.get_text())\n",
    "    if match:\n",
    "        rating = float(match.group(1))\n",
    "        movie_dict[movie_title] = rating\n",
    "print(movie_dict)\n"
   ]
  },
  {
   "cell_type": "code",
   "execution_count": null,
   "metadata": {},
   "outputs": [],
   "source": [
    "def get_title(url):       \n",
    "    res = urlopen(url)\n",
    "    soup = BeautifulSoup(res, \"html.parser\")\n",
    "    return soup.find(\"strong\", class_=\"_text\").string"
   ]
  },
  {
   "cell_type": "code",
   "execution_count": null,
   "metadata": {},
   "outputs": [],
   "source": [
    "sort_dict = dict(sorted(movie_dict.items(), key=lambda item: item[1], reverse=True))\n",
    "sort_dict\n"
   ]
  },
  {
   "cell_type": "code",
   "execution_count": null,
   "metadata": {},
   "outputs": [],
   "source": [
    "import pandas as pd\n",
    "df = pd.DataFrame(list(sort_dict.items()), columns = ['name', 'rating'])\n",
    "df"
   ]
  },
  {
   "cell_type": "code",
   "execution_count": null,
   "metadata": {},
   "outputs": [],
   "source": []
  }
 ],
 "metadata": {
  "kernelspec": {
   "display_name": "eda_venv",
   "language": "python",
   "name": "python3"
  },
  "language_info": {
   "codemirror_mode": {
    "name": "ipython",
    "version": 3
   },
   "file_extension": ".py",
   "mimetype": "text/x-python",
   "name": "python",
   "nbconvert_exporter": "python",
   "pygments_lexer": "ipython3",
   "version": "3.10.12"
  }
 },
 "nbformat": 4,
 "nbformat_minor": 2
}
