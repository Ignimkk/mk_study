{
 "cells": [
  {
   "cell_type": "code",
   "execution_count": 28,
   "metadata": {},
   "outputs": [
    {
     "data": {
      "text/plain": [
       "datetime.date(1994, 9, 23)"
      ]
     },
     "execution_count": 28,
     "metadata": {},
     "output_type": "execute_result"
    }
   ],
   "source": [
    "import mysql.connector\n",
    "import pandas as pd\n",
    "amrbase = mysql.connector.connect(\n",
    "    host = \"database-1.cdsoiiswk6c2.ap-northeast-2.rds.amazonaws.com\",\n",
    "    port = 3306,\n",
    "    user = \"robot\",\n",
    "    password = \"6074\",\n",
    "    database = \"amrbase\"\n",
    ")\n",
    "\n",
    "cursor = amrbase.cursor(buffered=True)\n",
    "\n",
    "cursor.execute(\"SELECT * FROM celeb WHERE birthday BETWEEN (SELECT MIN(birthday) FROM celeb) AND (SELECT MAX(birthday) FROM celeb);\")\n",
    "\n",
    "result = cursor.fetchall()\n",
    "result[1][2]"
   ]
  },
  {
   "cell_type": "code",
   "execution_count": 1,
   "metadata": {},
   "outputs": [
    {
     "ename": "ImportError",
     "evalue": "/home/addinedu/venv/pyQt_venv/lib/python3.10/site-packages/PyQt5/QtWidgets.abi3.so: undefined symbol: _ZdlPvm, version Qt_5",
     "output_type": "error",
     "traceback": [
      "\u001b[0;31m---------------------------------------------------------------------------\u001b[0m",
      "\u001b[0;31mImportError\u001b[0m                               Traceback (most recent call last)",
      "Cell \u001b[0;32mIn[1], line 17\u001b[0m\n\u001b[1;32m     14\u001b[0m result \u001b[38;5;241m=\u001b[39m cursor\u001b[38;5;241m.\u001b[39mfetchall()\n\u001b[1;32m     16\u001b[0m \u001b[38;5;28;01mimport\u001b[39;00m \u001b[38;5;21;01msys\u001b[39;00m\n\u001b[0;32m---> 17\u001b[0m \u001b[38;5;28;01mfrom\u001b[39;00m \u001b[38;5;21;01mPyQt5\u001b[39;00m\u001b[38;5;21;01m.\u001b[39;00m\u001b[38;5;21;01mQtWidgets\u001b[39;00m \u001b[38;5;28;01mimport\u001b[39;00m \u001b[38;5;241m*\u001b[39m\n\u001b[1;32m     18\u001b[0m \u001b[38;5;28;01mfrom\u001b[39;00m \u001b[38;5;21;01mPyQt5\u001b[39;00m\u001b[38;5;21;01m.\u001b[39;00m\u001b[38;5;21;01mQtGui\u001b[39;00m \u001b[38;5;28;01mimport\u001b[39;00m \u001b[38;5;241m*\u001b[39m\n\u001b[1;32m     19\u001b[0m \u001b[38;5;28;01mfrom\u001b[39;00m \u001b[38;5;21;01mPyQt5\u001b[39;00m \u001b[38;5;28;01mimport\u001b[39;00m uic\n",
      "\u001b[0;31mImportError\u001b[0m: /home/addinedu/venv/pyQt_venv/lib/python3.10/site-packages/PyQt5/QtWidgets.abi3.so: undefined symbol: _ZdlPvm, version Qt_5"
     ]
    }
   ],
   "source": [
    "\n",
    "\n",
    "import sys\n",
    "from PyQt5.QtWidgets import *\n",
    "from PyQt5.QtGui import *\n",
    "from PyQt5 import uic\n",
    "\n",
    "from_class = uic.loadUiType(\"Test6.ui\")[0]\n",
    "\n",
    "class WindowClass(QMainWindow, from_class): \n",
    "    def __init__(self):\n",
    "\n",
    "        super().__init__()\n",
    "        self.setupUi(self)\n",
    "        self.setWindowTitle(\"Test6\")\n",
    "\n",
    "        self.tableWidget.horizontalHeader().setSectionResizeMode(QHeaderView.Stretch)\n",
    "        self.pushButton.clicked.connect(self.Add)\n",
    "\n",
    "    def Add(self):\n",
    "        row = self.tableWidget.rowCount()\n",
    "        self.tableWidget.insertRow(row)\n",
    "        for i in range(len(result)):\n",
    "            name = result[i][0]\n",
    "            gender = result[i][1]\n",
    "            birthday = result[i][2]\n",
    "\n",
    "            name_input = self.lineEdit.text(name)\n",
    "            gender_input = self.lineEdit.text(gender)\n",
    "            birthday_input = self.lineEdit.text(birthday)\n",
    "\n",
    "            self.tableWidget.setItem(row,0,QTableWidgetItem(self.Name.text(name_input)))\n",
    "            self.tableWidget.setItem(row,1,QTableWidgetItem(self.Gender.text(gender_input)))\n",
    "            self.tableWidget.setItem(row,2,QTableWidgetItem(self.Birthday.text(birthday_input)))\n",
    "\n",
    "\n",
    "\n",
    "if __name__ == \"__main__\":    \n",
    "    app = QApplication(sys.argv) \n",
    "    myWindows = WindowClass() \n",
    "    myWindows.show()\n",
    "\n",
    "    sys.exit(app.exec_())\n",
    "\n"
   ]
  }
 ],
 "metadata": {
  "kernelspec": {
   "display_name": "pyQt_venv",
   "language": "python",
   "name": "python3"
  },
  "language_info": {
   "codemirror_mode": {
    "name": "ipython",
    "version": 3
   },
   "file_extension": ".py",
   "mimetype": "text/x-python",
   "name": "python",
   "nbconvert_exporter": "python",
   "pygments_lexer": "ipython3",
   "version": "3.10.12"
  }
 },
 "nbformat": 4,
 "nbformat_minor": 2
}
