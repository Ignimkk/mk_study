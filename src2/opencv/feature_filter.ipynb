{
 "cells": [
  {
   "cell_type": "code",
   "execution_count": null,
   "metadata": {},
   "outputs": [],
   "source": [
    "import sys\n",
    "import numpy as np\n",
    "import cv2\n"
   ]
  },
  {
   "cell_type": "code",
   "execution_count": null,
   "metadata": {},
   "outputs": [],
   "source": [
    "src = cv2.imread('/home/addinedu/dev_ws/opencv/data/lenna.bmp', cv2.IMREAD_GRAYSCALE)\n",
    "\n",
    "if src is None:\n",
    "    print('no')\n",
    "    sys.exit()\n",
    "\n",
    "dx = cv2.Sobel(src, -1, 1, 0, delta=128)\n",
    "dy = cv2.Sobel(src, -1, 0, 1, delta=128)\n",
    "\n",
    "cv2.imshow('src', src)\n",
    "cv2.imshow('dx', dx)\n",
    "cv2.imshow('dy', dy)\n",
    "\n",
    "cv2.waitKey()\n",
    "cv2.destroyAllWindows()"
   ]
  },
  {
   "cell_type": "code",
   "execution_count": null,
   "metadata": {},
   "outputs": [],
   "source": [
    "src = cv2.imread('/home/addinedu/dev_ws/opencv/data/lenna.bmp', cv2.IMREAD_GRAYSCALE)\n",
    "\n",
    "if src is None:\n",
    "    print('no')\n",
    "    sys.exit()\n",
    "\n",
    "dx = cv2.Sobel(src, cv2.CV_32F, 1, 0)\n",
    "dy = cv2.Sobel(src, cv2.CV_32F, 0, 1)\n",
    "\n",
    "mag = cv2.magnitude(dx, dy)\n",
    "mag = np.clip(mag, 0 , 255).astype(np.uint8)\n",
    "\n",
    "dst = np.zeros(src.shape[:2], np.uint8)\n",
    "_, dst = cv2.threshold(mag, 120, 255, cv2.THRESH_BINARY)\n",
    "\n",
    "cv2.imshow('src', src)\n",
    "cv2.imshow('amg', mag)\n",
    "cv2.imshow('dst', dst)\n",
    "\n",
    "cv2.waitKey()\n",
    "cv2.destroyAllWindows()"
   ]
  },
  {
   "cell_type": "code",
   "execution_count": null,
   "metadata": {},
   "outputs": [],
   "source": [
    "src = cv2.imread('/home/addinedu/dev_ws/opencv/data/building.jpg', cv2.IMREAD_GRAYSCALE)\n",
    "\n",
    "if src is None:\n",
    "    print('no')\n",
    "    sys.exit()\n",
    "\n",
    "dst= cv2.Canny(src, 50,150)\n",
    "cv2.imshow('src', src)\n",
    "cv2.imshow('dst', dst)\n",
    "cv2.waitKey()\n",
    "\n",
    "cv2.destroyAllWindows()\n"
   ]
  },
  {
   "cell_type": "code",
   "execution_count": null,
   "metadata": {},
   "outputs": [],
   "source": [
    "src = cv2.imread('/home/addinedu/dev_ws/opencv/data/building.jpg', cv2.IMREAD_GRAYSCALE)\n",
    "\n",
    "if src is None:\n",
    "    print('no')\n",
    "    sys.exit()\n",
    "\n",
    "edges = cv2.Canny(src, 50,150)\n",
    "\n",
    "lines = cv2.HoughLinesP(edges, 1, np.pi/180. , 160, minLineLength=50, maxLineGap=5)\n",
    "dst = cv2.cvtColor(edges, cv2.COLOR_GRAY2BGR)\n",
    "\n",
    "if lines is not None:\n",
    "    for i in range(lines.shape[0]):\n",
    "        pt1 = (lines[i][0][0], lines[i][0][1])\n",
    "        pt2 = (lines[i][0][2], lines[i][0][3])\n",
    "        cv2.line(dst, pt1, pt2, (0,0,255),2,cv2.LINE_AA)\n",
    "\n",
    "cv2.imshow('src', src)\n",
    "cv2.imshow('dst', dst)\n",
    "\n",
    "cv2.waitKey()\n",
    "cv2.destroyAllWindows()"
   ]
  },
  {
   "cell_type": "code",
   "execution_count": 29,
   "metadata": {},
   "outputs": [
    {
     "ename": "error",
     "evalue": "OpenCV(4.9.0) /io/opencv/modules/imgproc/src/hough.cpp:2282: error: (-211:One of the arguments' values is out of range) acc_threshold must be a positive number in function 'HoughCircles'\n",
     "output_type": "error",
     "traceback": [
      "\u001b[0;31m---------------------------------------------------------------------------\u001b[0m",
      "\u001b[0;31merror\u001b[0m                                     Traceback (most recent call last)",
      "Cell \u001b[0;32mIn[29], line 15\u001b[0m, in \u001b[0;36mon_trackbar\u001b[0;34m(pos)\u001b[0m\n\u001b[1;32m     12\u001b[0m rmax \u001b[38;5;241m=\u001b[39m cv2\u001b[38;5;241m.\u001b[39mgetTrackbarPos(\u001b[38;5;124m'\u001b[39m\u001b[38;5;124mmaxRadius\u001b[39m\u001b[38;5;124m'\u001b[39m, \u001b[38;5;124m'\u001b[39m\u001b[38;5;124mimg\u001b[39m\u001b[38;5;124m'\u001b[39m)\n\u001b[1;32m     13\u001b[0m th \u001b[38;5;241m=\u001b[39m cv2\u001b[38;5;241m.\u001b[39mgetTrackbarPos(\u001b[38;5;124m'\u001b[39m\u001b[38;5;124mthreshold\u001b[39m\u001b[38;5;124m'\u001b[39m, \u001b[38;5;124m'\u001b[39m\u001b[38;5;124mimg\u001b[39m\u001b[38;5;124m'\u001b[39m)\n\u001b[0;32m---> 15\u001b[0m circles \u001b[38;5;241m=\u001b[39m \u001b[43mcv2\u001b[49m\u001b[38;5;241;43m.\u001b[39;49m\u001b[43mHoughCircles\u001b[49m\u001b[43m(\u001b[49m\u001b[43mblr\u001b[49m\u001b[43m,\u001b[49m\u001b[43m \u001b[49m\u001b[43mcv2\u001b[49m\u001b[38;5;241;43m.\u001b[39;49m\u001b[43mHOUGH_GRADIENT\u001b[49m\u001b[43m,\u001b[49m\u001b[43m \u001b[49m\u001b[38;5;241;43m1\u001b[39;49m\u001b[43m,\u001b[49m\u001b[43m \u001b[49m\u001b[38;5;241;43m50\u001b[39;49m\u001b[43m,\u001b[49m\u001b[43m \u001b[49m\u001b[43mparam1\u001b[49m\u001b[38;5;241;43m=\u001b[39;49m\u001b[38;5;241;43m120\u001b[39;49m\u001b[43m,\u001b[49m\u001b[43m \u001b[49m\u001b[43mparam2\u001b[49m\u001b[38;5;241;43m=\u001b[39;49m\u001b[43mth\u001b[49m\u001b[43m,\u001b[49m\u001b[43m \u001b[49m\u001b[43mminRadius\u001b[49m\u001b[38;5;241;43m=\u001b[39;49m\u001b[43mrmin\u001b[49m\u001b[43m,\u001b[49m\u001b[43m \u001b[49m\u001b[43mmaxRadius\u001b[49m\u001b[38;5;241;43m=\u001b[39;49m\u001b[43mrmax\u001b[49m\u001b[43m)\u001b[49m\n\u001b[1;32m     16\u001b[0m dst \u001b[38;5;241m=\u001b[39m src\u001b[38;5;241m.\u001b[39mcopy()\n\u001b[1;32m     17\u001b[0m \u001b[38;5;28;01mif\u001b[39;00m circles \u001b[38;5;129;01mis\u001b[39;00m \u001b[38;5;129;01mnot\u001b[39;00m \u001b[38;5;28;01mNone\u001b[39;00m:\n",
      "\u001b[0;31merror\u001b[0m: OpenCV(4.9.0) /io/opencv/modules/imgproc/src/hough.cpp:2282: error: (-211:One of the arguments' values is out of range) acc_threshold must be a positive number in function 'HoughCircles'\n"
     ]
    },
    {
     "ename": "error",
     "evalue": "OpenCV(4.9.0) /io/opencv/modules/imgproc/src/hough.cpp:2282: error: (-211:One of the arguments' values is out of range) acc_threshold must be a positive number in function 'HoughCircles'\n",
     "output_type": "error",
     "traceback": [
      "\u001b[0;31m---------------------------------------------------------------------------\u001b[0m",
      "\u001b[0;31merror\u001b[0m                                     Traceback (most recent call last)",
      "Cell \u001b[0;32mIn[29], line 15\u001b[0m, in \u001b[0;36mon_trackbar\u001b[0;34m(pos)\u001b[0m\n\u001b[1;32m     12\u001b[0m rmax \u001b[38;5;241m=\u001b[39m cv2\u001b[38;5;241m.\u001b[39mgetTrackbarPos(\u001b[38;5;124m'\u001b[39m\u001b[38;5;124mmaxRadius\u001b[39m\u001b[38;5;124m'\u001b[39m, \u001b[38;5;124m'\u001b[39m\u001b[38;5;124mimg\u001b[39m\u001b[38;5;124m'\u001b[39m)\n\u001b[1;32m     13\u001b[0m th \u001b[38;5;241m=\u001b[39m cv2\u001b[38;5;241m.\u001b[39mgetTrackbarPos(\u001b[38;5;124m'\u001b[39m\u001b[38;5;124mthreshold\u001b[39m\u001b[38;5;124m'\u001b[39m, \u001b[38;5;124m'\u001b[39m\u001b[38;5;124mimg\u001b[39m\u001b[38;5;124m'\u001b[39m)\n\u001b[0;32m---> 15\u001b[0m circles \u001b[38;5;241m=\u001b[39m \u001b[43mcv2\u001b[49m\u001b[38;5;241;43m.\u001b[39;49m\u001b[43mHoughCircles\u001b[49m\u001b[43m(\u001b[49m\u001b[43mblr\u001b[49m\u001b[43m,\u001b[49m\u001b[43m \u001b[49m\u001b[43mcv2\u001b[49m\u001b[38;5;241;43m.\u001b[39;49m\u001b[43mHOUGH_GRADIENT\u001b[49m\u001b[43m,\u001b[49m\u001b[43m \u001b[49m\u001b[38;5;241;43m1\u001b[39;49m\u001b[43m,\u001b[49m\u001b[43m \u001b[49m\u001b[38;5;241;43m50\u001b[39;49m\u001b[43m,\u001b[49m\u001b[43m \u001b[49m\u001b[43mparam1\u001b[49m\u001b[38;5;241;43m=\u001b[39;49m\u001b[38;5;241;43m120\u001b[39;49m\u001b[43m,\u001b[49m\u001b[43m \u001b[49m\u001b[43mparam2\u001b[49m\u001b[38;5;241;43m=\u001b[39;49m\u001b[43mth\u001b[49m\u001b[43m,\u001b[49m\u001b[43m \u001b[49m\u001b[43mminRadius\u001b[49m\u001b[38;5;241;43m=\u001b[39;49m\u001b[43mrmin\u001b[49m\u001b[43m,\u001b[49m\u001b[43m \u001b[49m\u001b[43mmaxRadius\u001b[49m\u001b[38;5;241;43m=\u001b[39;49m\u001b[43mrmax\u001b[49m\u001b[43m)\u001b[49m\n\u001b[1;32m     16\u001b[0m dst \u001b[38;5;241m=\u001b[39m src\u001b[38;5;241m.\u001b[39mcopy()\n\u001b[1;32m     17\u001b[0m \u001b[38;5;28;01mif\u001b[39;00m circles \u001b[38;5;129;01mis\u001b[39;00m \u001b[38;5;129;01mnot\u001b[39;00m \u001b[38;5;28;01mNone\u001b[39;00m:\n",
      "\u001b[0;31merror\u001b[0m: OpenCV(4.9.0) /io/opencv/modules/imgproc/src/hough.cpp:2282: error: (-211:One of the arguments' values is out of range) acc_threshold must be a positive number in function 'HoughCircles'\n"
     ]
    },
    {
     "name": "stdout",
     "output_type": "stream",
     "text": [
      "341.5 666.5 43.8\n",
      "452.5 663.5 43.5\n",
      "325.5 266.5 53.0\n",
      "530.5 313.5 49.4\n",
      "236.5 324.5 46.3\n",
      "544.5 605.5 41.6\n",
      "182.5 413.5 43.8\n",
      "434.5 265.5 53.0\n",
      "245.5 615.5 46.3\n",
      "185.5 518.5 43.0\n",
      "115.5 228.5 13.4\n",
      "42.5 577.5 14.2\n"
     ]
    }
   ],
   "source": [
    "src = cv2.imread('/home/addinedu/dev_ws/opencv/data/dial.jpg')\n",
    "\n",
    "if src is None:\n",
    "    print('no')\n",
    "    sys.exit()\n",
    "\n",
    "gray = cv2.cvtColor(src, cv2.COLOR_BGR2GRAY)\n",
    "blr = cv2.GaussianBlur(gray, (0,0), 1.0)\n",
    "\n",
    "def on_trackbar(pos):\n",
    "    rmin = cv2.getTrackbarPos('minRadius', 'img')\n",
    "    rmax = cv2.getTrackbarPos('maxRadius', 'img')\n",
    "    th = cv2.getTrackbarPos('threshold', 'img')\n",
    "\n",
    "    circles = cv2.HoughCircles(blr, cv2.HOUGH_GRADIENT, 1, 50, param1=120, param2=th, minRadius=rmin, maxRadius=rmax)\n",
    "    dst = src.copy()\n",
    "    if circles is not None:\n",
    "        for i in range(circles.shape[1]):\n",
    "            cx, cy, radius = circles[0][i]\n",
    "            print(cx,cy,radius)\n",
    "            cv2.circle(dst, (int(cx),int(cy)), int(radius), (0,0,255), 2, cv2.LINE_AA)\n",
    "\n",
    "    cv2.imshow('img', dst)\n",
    "\n",
    "cv2.imshow('img', src)\n",
    "cv2.createTrackbar('minRadius', 'img', 0, 100, on_trackbar)\n",
    "cv2.createTrackbar('maxRadius', 'img', 0, 150, on_trackbar)\n",
    "cv2.createTrackbar('threshold', 'img', 0, 100, on_trackbar)\n",
    "cv2.setTrackbarPos('minRadius', 'img', 10)\n",
    "cv2.setTrackbarPos('maxRadius', 'img', 80)\n",
    "cv2.setTrackbarPos('threshold', 'img', 40)\n",
    "\n",
    "cv2.waitKey()\n",
    "cv2.destroyAllWindows()"
   ]
  },
  {
   "cell_type": "code",
   "execution_count": null,
   "metadata": {},
   "outputs": [],
   "source": [
    "src = cv2.imread('/home/addinedu/dev_ws/opencv/data/coins1.jpg')\n",
    "\n",
    "if src is None:\n",
    "    print('no')\n",
    "    sys.exit()\n",
    "\n",
    "gray = cv2.cvtColor(src, cv2.COLOR_BGR2GRAY)\n",
    "blr = cv2.GaussianBlur(gray, (0,0), 1)\n",
    "circles = cv2.HoughCircles(blr, cv2.HOUGH_GRADIENT, 1, 50, param1=150, param2=40, minRadius=20, maxRadius=80)\n",
    "\n",
    "sum_of_money = 0\n",
    "dst = src.copy()\n",
    "\n",
    "if circles is not None:\n",
    "    for i in range(circles.shape[1]):\n",
    "        cx, cy, radius = circles[0][i]\n",
    "        cv2.circle(dst, (int(cx),int(cy)), int(radius), (0,0,255), 2, cv2.LINE_AA)\n",
    "\n",
    "        x1 = int(cx - radius)\n",
    "        y1 = int(cy - radius)\n",
    "        x2 = int(cx + radius)\n",
    "        y2 = int(cy + radius)\n",
    "        radius = int(radius)\n",
    "\n",
    "        crop = dst[y1:y2, x1:x2, :]\n",
    "        ch, cw = crop.shape[:2]\n",
    "\n",
    "        mask = np.zeros((ch, cw), np.uint8)\n",
    "        cv2.circle(mask, (int(cw//2), int(ch//2)), int(radius),255,-1)\n",
    "\n",
    "        hsv = cv2.cvtColor(crop, cv2.COLOR_BGR2HSV)\n",
    "        hue, _, _ = cv2.split(hsv)\n",
    "        hue_shift = (hue+40)%180\n",
    "        mean_of_hue = cv2.mean(hue_shift, mask)[0]\n",
    "\n",
    "        won = 100\n",
    "        if mean_of_hue < 52:\n",
    "            won = 10\n",
    "\n",
    "        sum_of_money += won\n",
    "\n",
    "        # cv2.putText(crop, str(won), (20, 50), cv2.FONT_HERSHEY_SIMPLEX, 0.75, (255,0,0), 2, cv2.LINE_AA)\n",
    "        cv2.putText(crop, str(won), (20, 50), cv2.FONT_HERSHEY_SIMPLEX, 0.75, (255,0,0), 2, cv2.LINE_AA)\n",
    "\n",
    "cv2.putText(dst, str(sum_of_money) + 'won', (40,80), cv2.FONT_HERSHEY_DUPLEX, 2, (255,0,0), 2, cv2.LINE_AA)\n",
    "\n",
    "cv2.imshow('src', src)\n",
    "cv2.imshow('dst', dst)\n",
    "cv2.waitKey()\n",
    "cv2.destroyAllWindows()"
   ]
  }
 ],
 "metadata": {
  "kernelspec": {
   "display_name": "opencv2_venv",
   "language": "python",
   "name": "python3"
  },
  "language_info": {
   "codemirror_mode": {
    "name": "ipython",
    "version": 3
   },
   "file_extension": ".py",
   "mimetype": "text/x-python",
   "name": "python",
   "nbconvert_exporter": "python",
   "pygments_lexer": "ipython3",
   "version": "3.10.12"
  }
 },
 "nbformat": 4,
 "nbformat_minor": 2
}
