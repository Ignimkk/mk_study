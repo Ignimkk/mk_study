{
 "cells": [
  {
   "cell_type": "code",
   "execution_count": 1,
   "metadata": {},
   "outputs": [],
   "source": [
    "import cv2\n",
    "\n",
    "capture = cv2.VideoCapture(-1)\n",
    "# capture.set(cv2.CAP_PROP_FRAME_WIDTH, 640)\n",
    "# capture.set(cv2.CAP_PROP_FRAME_HEIGHT, 480)\n",
    "while True:\n",
    "    ret, frame = capture.read()\n",
    "    src = cv2.cvtColor(frame, cv2.COLOR_BGR2GRAY)\n",
    "    src_canny = cv2.Canny(src, 50, 100)\n",
    "    cv2.imshow(\"VideoFrame\", frame)\n",
    "    cv2.imshow(\"Canny\", src_canny)\n",
    "    if cv2.waitKey(10) == 27:\n",
    "        break\n",
    "capture.release()\n",
    "cv2.destroyAllWindows()"
   ]
  }
 ],
 "metadata": {
  "kernelspec": {
   "display_name": "opencv2_venv",
   "language": "python",
   "name": "python3"
  },
  "language_info": {
   "codemirror_mode": {
    "name": "ipython",
    "version": 3
   },
   "file_extension": ".py",
   "mimetype": "text/x-python",
   "name": "python",
   "nbconvert_exporter": "python",
   "pygments_lexer": "ipython3",
   "version": "3.10.12"
  }
 },
 "nbformat": 4,
 "nbformat_minor": 2
}
