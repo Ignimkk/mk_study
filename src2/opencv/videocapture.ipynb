{
 "cells": [
  {
   "cell_type": "code",
   "execution_count": 9,
   "metadata": {},
   "outputs": [
    {
     "name": "stdout",
     "output_type": "stream",
     "text": [
      "width = 640, heigth = 480\n"
     ]
    }
   ],
   "source": [
    "import cv2\n",
    "cap = cv2.VideoCapture(0)\n",
    "if not cap.isOpened():\n",
    "    raise RuntimeError(\"ERROR! Unable to open camera\")\n",
    "try:\n",
    "    width = int(cap.get(cv2.CAP_PROP_FRAME_WIDTH))\n",
    "    heigth = int(cap.get(cv2.CAP_PROP_FRAME_HEIGHT))\n",
    "    print(f'width = {width}, heigth = {heigth}')\n",
    "\n",
    "    while True:\n",
    "        ret, frame = cap.read()\n",
    "\n",
    "        gray = cv2.cvtColor(frame, cv2.COLOR_BGR2GRAY)\n",
    "        flip_frame = cv2.flip(frame, 1)\n",
    "        cv2.imshow('frame', flip_frame)\n",
    "\n",
    "        if cv2.waitKey(1) == 27:\n",
    "             break\n",
    "finally:\n",
    "    cap.release()\n",
    "    cv2.destroyAllWindows()"
   ]
  },
  {
   "cell_type": "code",
   "execution_count": 12,
   "metadata": {},
   "outputs": [
    {
     "name": "stdout",
     "output_type": "stream",
     "text": [
      "width = 640, heigth = 480\n"
     ]
    }
   ],
   "source": [
    "import cv2\n",
    "cap = cv2.VideoCapture(\"/dev/video0\")\n",
    "if not cap.isOpened():\n",
    "    raise RuntimeError(\"ERROR! Unable to open camera\")\n",
    "try:\n",
    "    width = int(cap.get(cv2.CAP_PROP_FRAME_WIDTH))\n",
    "    heigth = int(cap.get(cv2.CAP_PROP_FRAME_HEIGHT))\n",
    "    print(f'width = {width}, heigth = {heigth}')\n",
    "\n",
    "    fourcc = cv2.VideoWriter_fourcc(*'DIVX')\n",
    "    out = cv2.VideoWriter('./test__.avi', fourcc, 20,\n",
    "    (width, heigth), isColor=False)\n",
    "\n",
    "    while True:\n",
    "        ret, frame = cap.read()\n",
    "        gray = cv2.cvtColor(frame, cv2.COLOR_BGR2GRAY)\n",
    "        dd = cv2.flip(gray, 1)\n",
    "        cv2.imshow('frame', dd)\n",
    "        out.write(dd)\n",
    "        if cv2.waitKey(1) == 27:\n",
    "            break\n",
    "\n",
    "finally:\n",
    "    cap.release()\n",
    "    out.release()\n",
    "    cv2.destroyAllWindows()"
   ]
  }
 ],
 "metadata": {
  "kernelspec": {
   "display_name": "opencv2_venv",
   "language": "python",
   "name": "python3"
  },
  "language_info": {
   "codemirror_mode": {
    "name": "ipython",
    "version": 3
   },
   "file_extension": ".py",
   "mimetype": "text/x-python",
   "name": "python",
   "nbconvert_exporter": "python",
   "pygments_lexer": "ipython3",
   "version": "3.10.12"
  }
 },
 "nbformat": 4,
 "nbformat_minor": 2
}
