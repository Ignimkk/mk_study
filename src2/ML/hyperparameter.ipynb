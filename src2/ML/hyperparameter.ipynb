{
 "cells": [
  {
   "cell_type": "code",
   "execution_count": 6,
   "metadata": {},
   "outputs": [],
   "source": [
    "import pandas as pd\n",
    "\n",
    "red_url = '/home/addinedu/dev_ws/data/machine/winequality-red.csv'\n",
    "\n",
    "white_url = '/home/addinedu/dev_ws/data/machine/winequality-white.csv'\n",
    "\n",
    "red_wine = pd.read_csv(red_url, sep=';')\n",
    "white_wine = pd.read_csv(white_url, sep=';')\n",
    "\n",
    "red_wine['color'] = 1.\n",
    "white_wine['color'] = 0.\n",
    "\n",
    "wine = pd.concat([red_wine, white_wine])"
   ]
  },
  {
   "cell_type": "code",
   "execution_count": 7,
   "metadata": {},
   "outputs": [],
   "source": [
    "wine['taste'] = [1. if grade>5 else 0. for grade in wine['quality']]\n",
    "\n",
    "X= wine.drop(['taste', 'quality'], axis=1)\n",
    "y = wine['taste']"
   ]
  },
  {
   "cell_type": "code",
   "execution_count": 8,
   "metadata": {},
   "outputs": [
    {
     "name": "stdout",
     "output_type": "stream",
     "text": [
      "Train Acc:  0.7294593034442948\n",
      "Test Acc:  0.7161538461538461\n"
     ]
    }
   ],
   "source": [
    "from sklearn.model_selection import train_test_split\n",
    "import numpy as np\n",
    "from sklearn.tree import DecisionTreeClassifier\n",
    "from sklearn.linear_model import LogisticRegression\n",
    "from sklearn.metrics import accuracy_score\n",
    "\n",
    "X_train, X_test, y_train, y_test = train_test_split(X, y ,test_size=0.2, random_state=13)\n",
    "\n",
    "\n",
    "wine_tree = DecisionTreeClassifier(max_depth=2, random_state=13)\n",
    "wine_tree.fit(X_train, y_train)\n",
    "\n",
    "y_pred_tr = wine_tree.predict(X_train)\n",
    "y_pred_test = wine_tree.predict(X_test)\n",
    "\n",
    "print('Train Acc: ', accuracy_score(y_train, y_pred_tr))\n",
    "print('Test Acc: ', accuracy_score(y_test, y_pred_test))\n"
   ]
  },
  {
   "cell_type": "code",
   "execution_count": 9,
   "metadata": {},
   "outputs": [],
   "source": [
    "from sklearn.model_selection import KFold\n",
    "\n",
    "kfold = KFold(n_splits=5)\n",
    "wine_tree_cv = DecisionTreeClassifier(max_depth=2, random_state=13)"
   ]
  },
  {
   "cell_type": "code",
   "execution_count": 10,
   "metadata": {},
   "outputs": [
    {
     "name": "stdout",
     "output_type": "stream",
     "text": [
      "5197 1300\n",
      "5197 1300\n",
      "5198 1299\n",
      "5198 1299\n",
      "5198 1299\n"
     ]
    }
   ],
   "source": [
    "for train_idx, test_idx in kfold.split(X):\n",
    "    print(len(train_idx), len(test_idx))"
   ]
  },
  {
   "cell_type": "code",
   "execution_count": 11,
   "metadata": {},
   "outputs": [
    {
     "data": {
      "text/plain": [
       "[0.6007692307692307,\n",
       " 0.6884615384615385,\n",
       " 0.7090069284064665,\n",
       " 0.7628945342571208,\n",
       " 0.7867590454195535]"
      ]
     },
     "execution_count": 11,
     "metadata": {},
     "output_type": "execute_result"
    }
   ],
   "source": [
    "cv_accuracy = []\n",
    "\n",
    "for train_idx, test_idx in kfold.split(X):\n",
    "    X_train, X_test = X.iloc[train_idx], X.iloc[test_idx]\n",
    "    y_train, y_test = y.iloc[train_idx], y.iloc[test_idx]\n",
    "    wine_tree_cv.fit(X_train, y_train)\n",
    "    pred = wine_tree_cv.predict(X_test)\n",
    "    cv_accuracy.append(accuracy_score(y_test, pred))\n",
    "\n",
    "cv_accuracy"
   ]
  },
  {
   "cell_type": "code",
   "execution_count": 12,
   "metadata": {},
   "outputs": [
    {
     "data": {
      "text/plain": [
       "0.709578255462782"
      ]
     },
     "execution_count": 12,
     "metadata": {},
     "output_type": "execute_result"
    }
   ],
   "source": [
    "np.mean(cv_accuracy)"
   ]
  },
  {
   "cell_type": "code",
   "execution_count": 16,
   "metadata": {},
   "outputs": [
    {
     "data": {
      "text/plain": [
       "[0.5523076923076923,\n",
       " 0.6884615384615385,\n",
       " 0.7143956889915319,\n",
       " 0.7321016166281755,\n",
       " 0.7567359507313318]"
      ]
     },
     "execution_count": 16,
     "metadata": {},
     "output_type": "execute_result"
    }
   ],
   "source": [
    "from sklearn.model_selection import StratifiedKFold\n",
    "\n",
    "skfold = StratifiedKFold(n_splits=5)\n",
    "wine_tree_cv = DecisionTreeClassifier(max_depth=2, random_state=13)\n",
    "\n",
    "cv_accuracy = []\n",
    "\n",
    "for train_idx, test_idx in skfold.split(X,y):\n",
    "    X_train, X_test = X.iloc[train_idx], X.iloc[test_idx]\n",
    "    y_train, y_test = y.iloc[train_idx], y.iloc[test_idx]\n",
    "    wine_tree_cv.fit(X_train, y_train)\n",
    "    pred = wine_tree_cv.predict(X_test)\n",
    "    cv_accuracy.append(accuracy_score(y_test, pred))\n",
    "\n",
    "cv_accuracy"
   ]
  },
  {
   "cell_type": "code",
   "execution_count": 17,
   "metadata": {},
   "outputs": [
    {
     "data": {
      "text/plain": [
       "0.6888004974240539"
      ]
     },
     "execution_count": 17,
     "metadata": {},
     "output_type": "execute_result"
    }
   ],
   "source": [
    "np.mean(cv_accuracy)"
   ]
  },
  {
   "cell_type": "code",
   "execution_count": 18,
   "metadata": {},
   "outputs": [
    {
     "data": {
      "text/plain": [
       "array([0.55230769, 0.68846154, 0.71439569, 0.73210162, 0.75673595])"
      ]
     },
     "execution_count": 18,
     "metadata": {},
     "output_type": "execute_result"
    }
   ],
   "source": [
    "from sklearn.model_selection import cross_val_score\n",
    "\n",
    "skfold = StratifiedKFold(n_splits=5)\n",
    "wine_tree_cv = DecisionTreeClassifier(max_depth=2, random_state=13)\n",
    "cross_val_score(wine_tree_cv, X, y, scoring=None, cv=skfold)"
   ]
  },
  {
   "cell_type": "code",
   "execution_count": 19,
   "metadata": {},
   "outputs": [
    {
     "data": {
      "text/plain": [
       "array([0.50076923, 0.62615385, 0.69745958, 0.7582756 , 0.74903772])"
      ]
     },
     "execution_count": 19,
     "metadata": {},
     "output_type": "execute_result"
    }
   ],
   "source": [
    "from sklearn.model_selection import cross_val_score\n",
    "\n",
    "skfold = StratifiedKFold(n_splits=5)\n",
    "wine_tree_cv = DecisionTreeClassifier(max_depth=5, random_state=13)\n",
    "cross_val_score(wine_tree_cv, X, y, scoring=None, cv=skfold)"
   ]
  },
  {
   "cell_type": "code",
   "execution_count": 20,
   "metadata": {},
   "outputs": [
    {
     "data": {
      "text/plain": [
       "{'fit_time': array([0.01382518, 0.01470113, 0.0183773 , 0.01610661, 0.01682734]),\n",
       " 'score_time': array([0.00306439, 0.00295234, 0.00415349, 0.00311446, 0.0038116 ]),\n",
       " 'test_score': array([0.50076923, 0.62615385, 0.69745958, 0.7582756 , 0.74903772]),\n",
       " 'train_score': array([0.78795459, 0.78045026, 0.77568295, 0.76356291, 0.76279338])}"
      ]
     },
     "execution_count": 20,
     "metadata": {},
     "output_type": "execute_result"
    }
   ],
   "source": [
    "from sklearn.model_selection import cross_validate\n",
    "\n",
    "cross_validate(wine_tree_cv, X, y, scoring=None, cv=skfold, return_train_score=True)"
   ]
  },
  {
   "cell_type": "code",
   "execution_count": null,
   "metadata": {},
   "outputs": [],
   "source": []
  }
 ],
 "metadata": {
  "kernelspec": {
   "display_name": "opencv2_venv",
   "language": "python",
   "name": "python3"
  },
  "language_info": {
   "codemirror_mode": {
    "name": "ipython",
    "version": 3
   },
   "file_extension": ".py",
   "mimetype": "text/x-python",
   "name": "python",
   "nbconvert_exporter": "python",
   "pygments_lexer": "ipython3",
   "version": "3.10.12"
  }
 },
 "nbformat": 4,
 "nbformat_minor": 2
}
