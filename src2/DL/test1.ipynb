{
 "cells": [
  {
   "cell_type": "code",
   "execution_count": 28,
   "metadata": {},
   "outputs": [
    {
     "name": "stdout",
     "output_type": "stream",
     "text": [
      "이미지를 저장했습니다.\n"
     ]
    }
   ],
   "source": [
    "import cv2\n",
    "\n",
    "def capture_image():\n",
    "    # 웹캠에 접근\n",
    "    cap = cv2.VideoCapture(2)\n",
    "\n",
    "    if not cap.isOpened():\n",
    "        print(\"웹캠을 열 수 없습니다.\")\n",
    "        return\n",
    "\n",
    "    while True:\n",
    "        # 프레임 읽기\n",
    "        ret, frame = cap.read()\n",
    "\n",
    "        # 프레임 표시\n",
    "        cv2.imshow('Webcam', frame)\n",
    "\n",
    "        # 'q' 키를 누르면 종료\n",
    "        if cv2.waitKey(1) & 0xFF == ord('q'):\n",
    "            break\n",
    "\n",
    "        # 's' 키를 누르면 이미지 저장\n",
    "        elif cv2.waitKey(1) & 0xFF == ord('s'):\n",
    "            cv2.imwrite('captured_image1.jpg', frame)\n",
    "            print(\"이미지를 저장했습니다.\")\n",
    "\n",
    "    # 종료 시 리소스 해제\n",
    "    cap.release()\n",
    "    cv2.destroyAllWindows()\n",
    "\n",
    "# 이미지 캡처 함수 호출\n",
    "capture_image()\n"
   ]
  },
  {
   "cell_type": "markdown",
   "metadata": {},
   "source": [
    "모델 예측 1"
   ]
  },
  {
   "cell_type": "code",
   "execution_count": 31,
   "metadata": {},
   "outputs": [
    {
     "name": "stderr",
     "output_type": "stream",
     "text": [
      "WARNING:absl:Compiled the loaded model, but the compiled metrics have yet to be built. `model.compile_metrics` will be empty until you train or evaluate the model.\n"
     ]
    },
    {
     "name": "stdout",
     "output_type": "stream",
     "text": [
      "\u001b[1m1/1\u001b[0m \u001b[32m━━━━━━━━━━━━━━━━━━━━\u001b[0m\u001b[37m\u001b[0m \u001b[1m0s\u001b[0m 179ms/step\n",
      "Predicted class probabilities: [[1.000000e+00 3.316801e-16]]\n",
      "Predicted class: 0\n"
     ]
    }
   ],
   "source": [
    "import cv2\n",
    "import numpy as np\n",
    "import tensorflow as tf\n",
    "\n",
    "# 모델 로드\n",
    "model = tf.keras.models.load_model('/home/addinedu/dev_ws/DL/cnn1_model.h5')\n",
    "\n",
    "def preprocess_image(image_path):\n",
    "    image = cv2.imread(image_path)\n",
    "    resized_image = cv2.resize(image, (32, 32))\n",
    "    normalized_image = resized_image / 255.0\n",
    "    return normalized_image\n",
    "\n",
    "\n",
    "test_image_path = '/home/addinedu/dev_ws/DL/captured_image.jpg'\n",
    "\n",
    "# 이미지 전처리\n",
    "test_image = preprocess_image(test_image_path)\n",
    "\n",
    "# 이미지를 배치 형태로 변환\n",
    "test_image = np.expand_dims(test_image, axis=0)\n",
    "\n",
    "# 예측\n",
    "prediction = model.predict(test_image)\n",
    "\n",
    "# 예측 결과 출력\n",
    "print(\"Predicted class probabilities:\", prediction)\n",
    "predicted_class = np.argmax(prediction)\n",
    "print(\"Predicted class:\", predicted_class)\n"
   ]
  },
  {
   "cell_type": "markdown",
   "metadata": {},
   "source": [
    "모델 예측2\n"
   ]
  },
  {
   "cell_type": "code",
   "execution_count": 33,
   "metadata": {},
   "outputs": [
    {
     "name": "stderr",
     "output_type": "stream",
     "text": [
      "WARNING:absl:Compiled the loaded model, but the compiled metrics have yet to be built. `model.compile_metrics` will be empty until you train or evaluate the model.\n"
     ]
    },
    {
     "name": "stdout",
     "output_type": "stream",
     "text": [
      "WARNING:tensorflow:5 out of the last 5 calls to <function TensorFlowTrainer.make_predict_function.<locals>.one_step_on_data_distributed at 0x7e92a2d51d80> triggered tf.function retracing. Tracing is expensive and the excessive number of tracings could be due to (1) creating @tf.function repeatedly in a loop, (2) passing tensors with different shapes, (3) passing Python objects instead of tensors. For (1), please define your @tf.function outside of the loop. For (2), @tf.function has reduce_retracing=True option that can avoid unnecessary retracing. For (3), please refer to https://www.tensorflow.org/guide/function#controlling_retracing and https://www.tensorflow.org/api_docs/python/tf/function for  more details.\n"
     ]
    },
    {
     "name": "stderr",
     "output_type": "stream",
     "text": [
      "WARNING:tensorflow:5 out of the last 5 calls to <function TensorFlowTrainer.make_predict_function.<locals>.one_step_on_data_distributed at 0x7e92a2d51d80> triggered tf.function retracing. Tracing is expensive and the excessive number of tracings could be due to (1) creating @tf.function repeatedly in a loop, (2) passing tensors with different shapes, (3) passing Python objects instead of tensors. For (1), please define your @tf.function outside of the loop. For (2), @tf.function has reduce_retracing=True option that can avoid unnecessary retracing. For (3), please refer to https://www.tensorflow.org/guide/function#controlling_retracing and https://www.tensorflow.org/api_docs/python/tf/function for  more details.\n"
     ]
    },
    {
     "name": "stdout",
     "output_type": "stream",
     "text": [
      "\u001b[1m1/1\u001b[0m \u001b[32m━━━━━━━━━━━━━━━━━━━━\u001b[0m\u001b[37m\u001b[0m \u001b[1m0s\u001b[0m 168ms/step\n",
      "Predicted class probabilities: [[5.97e-43 1.00e+00]]\n",
      "Predicted class: 1\n"
     ]
    }
   ],
   "source": [
    "import cv2\n",
    "import numpy as np\n",
    "import tensorflow as tf\n",
    "\n",
    "# 모델 로드\n",
    "model = tf.keras.models.load_model('/home/addinedu/dev_ws/DL/cnn1_model.h5')\n",
    "\n",
    "def load_and_preprocess_image(image_path, grayscale=True, threshold=True):\n",
    "    image = cv2.imread(image_path)\n",
    "    if grayscale:\n",
    "        image = cv2.cvtColor(image, cv2.COLOR_BGR2GRAY)  # 그레이 스케일 변환\n",
    "    if threshold:\n",
    "        _, image = cv2.threshold(image, 150, 255, cv2.THRESH_BINARY)  # 이진화\n",
    "    image = cv2.resize(image, (32, 32))  # 이미지 크기를 32x32로 조정\n",
    "    image = image / 255.0  # 이미지를 0과 1 사이의 값으로 정규화\n",
    "    return image.reshape((32, 32, 1 if grayscale else 3)) if not threshold else image.reshape((32, 32, 1))\n",
    "\n",
    "\n",
    "test_image_path = '/home/addinedu/dev_ws/DL/captured_image1.jpg'\n",
    "\n",
    "# 이미지 전처리\n",
    "test_image = preprocess_image(test_image_path)\n",
    "\n",
    "# 이미지를 배치 형태로 변환\n",
    "test_image = np.expand_dims(test_image, axis=0)\n",
    "\n",
    "# 예측\n",
    "prediction = model.predict(test_image)\n",
    "\n",
    "# 예측 결과 출력\n",
    "print(\"Predicted class probabilities:\", prediction)\n",
    "predicted_class = np.argmax(prediction)\n",
    "print(\"Predicted class:\", predicted_class)\n"
   ]
  },
  {
   "cell_type": "code",
   "execution_count": 34,
   "metadata": {},
   "outputs": [
    {
     "data": {
      "image/png": "[encoded data removed]",
      "text/plain": [
       "<Figure size 1000x500 with 5 Axes>"
      ]
     },
     "metadata": {},
     "output_type": "display_data"
    }
   ],
   "source": [
    "import matplotlib.pyplot as plt\n",
    "import tensorflow as tf\n",
    "from tensorflow.keras import layers, models\n",
    "from sklearn.model_selection import train_test_split\n",
    "import pandas as pd\n",
    "import numpy as np\n",
    "import cv2\n",
    "import os\n",
    "\n",
    "# 데이터 경로\n",
    "X_image_folder = \"/home/addinedu/dev_ws/data/handwritten_dataset/train/x_new_train1000\"\n",
    "O_image_folder = \"/home/addinedu/dev_ws/data/images.cv_cda9n6fio287zp8fuwsivo/data/new_train1000\"\n",
    "X_label_csv_path = \"/home/addinedu/dev_ws/data/handwritten_dataset/train/X2_labels.csv\"\n",
    "O_label_csv_path = \"/home/addinedu/dev_ws/data/images.cv_cda9n6fio287zp8fuwsivo/data/new_train1000.csv\"\n",
    "\n",
    "# 이미지 로드 및 전처리 함수\n",
    "def load_and_preprocess_image(image_path, grayscale=True, threshold=True):\n",
    "    image = cv2.imread(image_path)\n",
    "    if grayscale:\n",
    "        image = cv2.cvtColor(image, cv2.COLOR_BGR2GRAY)  # 그레이 스케일 변환\n",
    "    if threshold:\n",
    "        _, image = cv2.threshold(image, 150, 255, cv2.THRESH_BINARY)  # 이진화\n",
    "    image = cv2.resize(image, (32, 32))  # 이미지 크기를 32x32로 조정\n",
    "    image = image / 255.0  # 이미지를 0과 1 사이의 값으로 정규화\n",
    "    return image.reshape((32, 32, 1 if grayscale else 3)) if not threshold else image.reshape((32, 32, 1))\n",
    "\n",
    "\n",
    "# 데이터셋 생성 함수\n",
    "def create_dataset(image_folder, label_csv_path, grayscale=True, threshold=True):\n",
    "    # 라벨 CSV 파일 로드\n",
    "    label_df = pd.read_csv(label_csv_path)\n",
    "    \n",
    "    images = []\n",
    "    labels = []\n",
    "\n",
    "    # 각 이미지에 대해 라벨을 매핑하여 이미지와 라벨 데이터 생성\n",
    "    for index, row in label_df.iterrows():\n",
    "        image_path = os.path.join(image_folder, row[\"Image_Path\"])\n",
    "        label = row[\"Label\"]\n",
    "        image = load_and_preprocess_image(image_path, grayscale, threshold)\n",
    "        images.append(image)\n",
    "        labels.append(label)\n",
    "\n",
    "    return np.array(images), np.array(labels)\n",
    "\n",
    "# X 데이터셋 생성\n",
    "X_images, _ = create_dataset(X_image_folder, X_label_csv_path)\n",
    "X_labels = np.zeros(len(X_images), dtype=int)  # X 이미지는 0으로 라벨링\n",
    "\n",
    "# O 데이터셋 생성\n",
    "O_images, _ = create_dataset(O_image_folder, O_label_csv_path)\n",
    "O_labels = np.ones(len(O_images), dtype=int)  # O 이미지는 1로 라벨링\n",
    "\n",
    "# 이미지 데이터와 라벨 데이터를 합치기\n",
    "images = np.concatenate((X_images, O_images), axis=0)\n",
    "labels = np.concatenate((X_labels, O_labels), axis=0)\n",
    "\n",
    "# 이미지 데이터와 라벨 데이터를 훈련 및 검증 세트로 분할\n",
    "X_train, X_val, y_train, y_val = train_test_split(images, labels, shuffle=True,test_size=0.2, random_state=13)\n",
    "\n",
    "# 몇 장의 이미지를 확인할지 정의\n",
    "num_images_to_visualize = 5\n",
    "\n",
    "# 플로팅\n",
    "plt.figure(figsize=(10, 5))\n",
    "for i in range(num_images_to_visualize):\n",
    "    # 랜덤한 인덱스 선택\n",
    "    idx = np.random.randint(0, len(images))\n",
    "    \n",
    "    # 이미지와 라벨 가져오기\n",
    "    image = images[idx]\n",
    "    label = \"X\" if labels[idx] == 0 else \"O\"\n",
    "    \n",
    "    # 이미지 플로팅\n",
    "    plt.subplot(1, num_images_to_visualize, i+1)\n",
    "    plt.imshow(image.squeeze(), cmap='gray')  # 1채널인 경우에는 squeeze\n",
    "    plt.title(f\"Label: {label}\")\n",
    "    plt.axis('off')\n",
    "\n",
    "plt.show()"
   ]
  },
  {
   "cell_type": "code",
   "execution_count": 26,
   "metadata": {},
   "outputs": [
    {
     "name": "stderr",
     "output_type": "stream",
     "text": [
      "/home/addinedu/venv/opencv2_venv/lib/python3.10/site-packages/keras/src/layers/convolutional/base_conv.py:107: UserWarning: Do not pass an `input_shape`/`input_dim` argument to a layer. When using Sequential models, prefer using an `Input(shape)` object as the first layer in the model instead.\n",
      "  super().__init__(activity_regularizer=activity_regularizer, **kwargs)\n"
     ]
    },
    {
     "name": "stdout",
     "output_type": "stream",
     "text": [
      "Epoch 1/10\n",
      "\u001b[1m508/508\u001b[0m \u001b[32m━━━━━━━━━━━━━━━━━━━━\u001b[0m\u001b[37m\u001b[0m \u001b[1m7s\u001b[0m 8ms/step - accuracy: 0.9678 - loss: 0.0846 - val_accuracy: 1.0000 - val_loss: 5.9977e-04\n",
      "Epoch 2/10\n",
      "\u001b[1m508/508\u001b[0m \u001b[32m━━━━━━━━━━━━━━━━━━━━\u001b[0m\u001b[37m\u001b[0m \u001b[1m1s\u001b[0m 3ms/step - accuracy: 0.9998 - loss: 7.1174e-04 - val_accuracy: 1.0000 - val_loss: 2.7295e-04\n",
      "Epoch 3/10\n",
      "\u001b[1m508/508\u001b[0m \u001b[32m━━━━━━━━━━━━━━━━━━━━\u001b[0m\u001b[37m\u001b[0m \u001b[1m1s\u001b[0m 3ms/step - accuracy: 1.0000 - loss: 3.3128e-05 - val_accuracy: 1.0000 - val_loss: 2.1814e-06\n",
      "Epoch 4/10\n",
      "\u001b[1m508/508\u001b[0m \u001b[32m━━━━━━━━━━━━━━━━━━━━\u001b[0m\u001b[37m\u001b[0m \u001b[1m1s\u001b[0m 2ms/step - accuracy: 1.0000 - loss: 1.4516e-05 - val_accuracy: 1.0000 - val_loss: 1.7432e-06\n",
      "Epoch 5/10\n",
      "\u001b[1m508/508\u001b[0m \u001b[32m━━━━━━━━━━━━━━━━━━━━\u001b[0m\u001b[37m\u001b[0m \u001b[1m1s\u001b[0m 2ms/step - accuracy: 1.0000 - loss: 2.2261e-06 - val_accuracy: 1.0000 - val_loss: 6.0967e-07\n",
      "Epoch 6/10\n",
      "\u001b[1m508/508\u001b[0m \u001b[32m━━━━━━━━━━━━━━━━━━━━\u001b[0m\u001b[37m\u001b[0m \u001b[1m1s\u001b[0m 2ms/step - accuracy: 1.0000 - loss: 9.5726e-07 - val_accuracy: 1.0000 - val_loss: 1.7747e-07\n",
      "Epoch 7/10\n",
      "\u001b[1m508/508\u001b[0m \u001b[32m━━━━━━━━━━━━━━━━━━━━\u001b[0m\u001b[37m\u001b[0m \u001b[1m2s\u001b[0m 3ms/step - accuracy: 1.0000 - loss: 6.6406e-07 - val_accuracy: 1.0000 - val_loss: 3.3734e-07\n",
      "Epoch 8/10\n",
      "\u001b[1m508/508\u001b[0m \u001b[32m━━━━━━━━━━━━━━━━━━━━\u001b[0m\u001b[37m\u001b[0m \u001b[1m2s\u001b[0m 3ms/step - accuracy: 1.0000 - loss: 1.2464e-06 - val_accuracy: 1.0000 - val_loss: 1.4151e-07\n",
      "Epoch 9/10\n",
      "\u001b[1m508/508\u001b[0m \u001b[32m━━━━━━━━━━━━━━━━━━━━\u001b[0m\u001b[37m\u001b[0m \u001b[1m2s\u001b[0m 3ms/step - accuracy: 1.0000 - loss: 2.3919e-07 - val_accuracy: 1.0000 - val_loss: 6.7925e-08\n",
      "Epoch 10/10\n",
      "\u001b[1m508/508\u001b[0m \u001b[32m━━━━━━━━━━━━━━━━━━━━\u001b[0m\u001b[37m\u001b[0m \u001b[1m2s\u001b[0m 3ms/step - accuracy: 1.0000 - loss: 3.1918e-07 - val_accuracy: 1.0000 - val_loss: 4.1889e-08\n"
     ]
    }
   ],
   "source": [
    "import tensorflow as tf\n",
    "from tensorflow.keras import layers, models\n",
    "from sklearn.model_selection import train_test_split\n",
    "import pandas as pd\n",
    "import numpy as np\n",
    "import cv2\n",
    "import os\n",
    "\n",
    "# 데이터 경로\n",
    "X_image_folder = \"/home/addinedu/dev_ws/data/handwritten_dataset/train/x_new_train1000\"\n",
    "O_image_folder = \"/home/addinedu/dev_ws/data/images.cv_cda9n6fio287zp8fuwsivo/data/new_train1000\"\n",
    "X_label_csv_path = \"/home/addinedu/dev_ws/data/handwritten_dataset/train/X2_labels.csv\"\n",
    "O_label_csv_path = \"/home/addinedu/dev_ws/data/images.cv_cda9n6fio287zp8fuwsivo/data/new_train1000.csv\"\n",
    "\n",
    "def load_and_preprocess_image(image_path, grayscale=True, threshold=True):\n",
    "    image = cv2.imread(image_path)\n",
    "    if grayscale:\n",
    "        image = cv2.cvtColor(image, cv2.COLOR_BGR2GRAY)  # 그레이 스케일 변환\n",
    "    if threshold:\n",
    "        _, image = cv2.threshold(image, 150, 255, cv2.THRESH_BINARY)  # 이진화\n",
    "    image = cv2.resize(image, (32, 32))  # 이미지 크기를 32x32로 조정\n",
    "    image = image / 255.0  # 이미지를 0과 1 사이의 값으로 정규화\n",
    "    return image.reshape((32, 32, 1 if grayscale else 3)) if not threshold else image.reshape((32, 32, 1))\n",
    "\n",
    "# 데이터셋 생성 함수\n",
    "def create_dataset(image_folder, label_csv_path, grayscale=True, threshold=True):\n",
    "    # 라벨 CSV 파일 로드\n",
    "    label_df = pd.read_csv(label_csv_path)\n",
    "    \n",
    "    images = []\n",
    "    labels = []\n",
    "\n",
    "    # 각 이미지에 대해 라벨을 매핑하여 이미지와 라벨 데이터 생성\n",
    "    for index, row in label_df.iterrows():\n",
    "        image_path = os.path.join(image_folder, row[\"Image_Path\"])\n",
    "        label = row[\"Label\"]\n",
    "        image = load_and_preprocess_image(image_path, grayscale, threshold)\n",
    "        images.append(image)\n",
    "        labels.append(label)\n",
    "\n",
    "    return np.array(images), np.array(labels)\n",
    "\n",
    "# X 데이터셋 생성\n",
    "X_images, _ = create_dataset(X_image_folder, X_label_csv_path)\n",
    "X_labels = np.zeros(len(X_images), dtype=int)  # X 이미지는 0으로 라벨링\n",
    "\n",
    "# O 데이터셋 생성\n",
    "O_images, _ = create_dataset(O_image_folder, O_label_csv_path)\n",
    "O_labels = np.ones(len(O_images), dtype=int)  # O 이미지는 1로 라벨링\n",
    "\n",
    "# 이미지 데이터와 라벨 데이터를 합치기\n",
    "images = np.concatenate((X_images, O_images), axis=0)\n",
    "labels = np.concatenate((X_labels, O_labels), axis=0)\n",
    "\n",
    "# 이미지 데이터와 라벨 데이터를 훈련 및 검증 세트로 분할\n",
    "X_train, X_val, y_train, y_val = train_test_split(images, labels, shuffle=True,test_size=0.2, random_state=13)\n",
    "\n",
    "# 클래스 개수 계산\n",
    "num_classes = len(np.unique(X_labels))\n",
    "\n",
    "# CNN 모델 생성\n",
    "model = models.Sequential([\n",
    "    layers.Conv2D(32, (3, 3), activation='relu', input_shape=(32, 32, 1)),\n",
    "    layers.MaxPooling2D((2, 2)),\n",
    "    layers.Conv2D(64, (3, 3), activation='relu'),\n",
    "    layers.MaxPooling2D((2, 2)),\n",
    "    layers.Conv2D(64, (3, 3), activation='relu'),\n",
    "    layers.Flatten(),\n",
    "    layers.Dense(64, activation='relu'),\n",
    "    layers.Dropout(0.25),\n",
    "    layers.Dense(2, activation='softmax')\n",
    "])\n",
    "\n",
    "# 모델 컴파일\n",
    "model.compile(optimizer='adam',\n",
    "              loss='sparse_categorical_crossentropy',\n",
    "              metrics=['accuracy'])\n",
    "\n",
    "# 모델 훈련\n",
    "history = model.fit(X_train, y_train, epochs=10, validation_data=(X_val, y_val))\n"
   ]
  },
  {
   "cell_type": "code",
   "execution_count": 35,
   "metadata": {},
   "outputs": [
    {
     "name": "stderr",
     "output_type": "stream",
     "text": [
      "WARNING:absl:You are saving your model as an HDF5 file via `model.save()` or `keras.saving.save_model(model)`. This file format is considered legacy. We recommend using instead the native Keras format, e.g. `model.save('my_model.keras')` or `keras.saving.save_model(model, 'my_model.keras')`. \n"
     ]
    }
   ],
   "source": [
    "# 다른 디렉토리에 훈련된 모델 저장\n",
    "model.save(\"/home/addinedu/dev_ws/DL/cnn2_model.h5\")"
   ]
  },
  {
   "cell_type": "code",
   "execution_count": 36,
   "metadata": {},
   "outputs": [
    {
     "name": "stderr",
     "output_type": "stream",
     "text": [
      "WARNING:absl:Compiled the loaded model, but the compiled metrics have yet to be built. `model.compile_metrics` will be empty until you train or evaluate the model.\n"
     ]
    }
   ],
   "source": [
    "import cv2\n",
    "import numpy as np\n",
    "import tensorflow as tf\n",
    "model = tf.keras.models.load_model('/home/addinedu/dev_ws/DL/cnn2_model.h5')  # 모델 파일 경로 지정\n",
    "\n",
    "def nothing(x):\n",
    "    pass\n",
    "cap = cv2.VideoCapture(2)\n",
    "\n",
    "#cap.set(cv2.CAP_PROP_FRAME_WIDTH, 1280)\n",
    "#cap.set(cv2.CAP_PROP_FRAME_HEIGHT, 720)\n",
    "\n",
    "cv2.namedWindow(\"Trackbars\")\n",
    "\n",
    "cv2.createTrackbar(\"Min Radius\", \"Trackbars\", 16, 30, nothing)\n",
    "cv2.createTrackbar(\"Max Radius\", \"Trackbars\", 22, 80, nothing)\n",
    "\n",
    "def preprocess_image(img):\n",
    "    img = cv2.resize(img, (32, 32), interpolation=cv2.INTER_AREA)\n",
    "    img = img.astype(\"float32\") / 255.0\n",
    "    return img\n",
    "\n",
    "\n",
    "\n",
    "if cap.isOpened():\n",
    "    while True:\n",
    "        ret, img = cap.read()\n",
    "        if ret:\n",
    "            min_radius = cv2.getTrackbarPos(\"Min Radius\", \"Trackbars\")\n",
    "            max_radius = cv2.getTrackbarPos(\"Max Radius\", \"Trackbars\")\n",
    "            \n",
    "            g_img = cv2.cvtColor(img, cv2.COLOR_BGR2GRAY)\n",
    "            # thr, bin_img = cv2.threshold(g_img, 110, 255, cv2.THRESH_BINARY_INV)\n",
    "            thr, bin_img = cv2.threshold(g_img, 110, 255, cv2.THRESH_BINARY)\n",
    "            \n",
    "            contours, hierarchy = cv2.findContours(bin_img, cv2.RETR_EXTERNAL, \n",
    "                                                   cv2.CHAIN_APPROX_SIMPLE)\n",
    "            digits = []\n",
    "            #number_counts = {}\n",
    "            try:\n",
    "                for contour in contours:\n",
    "                    (x, y), radius = cv2.minEnclosingCircle(contour)\n",
    "                    if 20 < radius < 200:\n",
    "                        xs, xe = int(x-radius), int(x+radius)\n",
    "                        ys, ye = int(y-radius), int(y+radius)\n",
    "                        cv2.rectangle(bin_img, (xs, ys), (xe, ye), (200, 0, 0), 1)\n",
    "                        roi = bin_img[ys:ye, xs:xe]\n",
    "                        \n",
    "                        roi = cv2.resize(roi, (32, 32), interpolation=cv2.INTER_AREA)\n",
    "                        roi = roi.astype(\"float32\") / 255.0\n",
    "                        roi = np.expand_dims(roi, axis=0)\n",
    "                        \n",
    "                        # PyTorch 텐서로 변환\n",
    "                        processed_roi = preprocess_image(roi)\n",
    "                        processed_roi = np.expand_dims(processed_roi, axis=0)\n",
    "                    \n",
    "                        # 모델을 사용하여 예측 진행\n",
    "                        prediction = model.predict(processed_roi)\n",
    "                        num = np.argmax(prediction)\n",
    "                        \n",
    "                        cv2.putText(bin_img, str(num), (xs, ys), cv2.FONT_HERSHEY_PLAIN, 2, (200, 0, 0))\n",
    "            \n",
    "            except Exception as e:\n",
    "                pass\n",
    "\n",
    "            cv2.imshow(\"Video Capture\", bin_img)\n",
    "            \n",
    "            if cv2.waitKey(1) & 0xFF == ord('q'):\n",
    "                break\n",
    "        else:\n",
    "            print(\"No Frame...\")\n",
    "            break\n",
    "else:\n",
    "    print(\"Camera not opened...\")\n",
    "cap.release()\n",
    "cv2.destroyAllWindows() "
   ]
  },
  {
   "cell_type": "markdown",
   "metadata": {},
   "source": [
    "flatten>> dense"
   ]
  },
  {
   "cell_type": "code",
   "execution_count": 5,
   "metadata": {},
   "outputs": [
    {
     "name": "stderr",
     "output_type": "stream",
     "text": [
      "/home/addinedu/venv/opencv2_venv/lib/python3.10/site-packages/keras/src/layers/reshaping/flatten.py:37: UserWarning: Do not pass an `input_shape`/`input_dim` argument to a layer. When using Sequential models, prefer using an `Input(shape)` object as the first layer in the model instead.\n",
      "  super().__init__(**kwargs)\n"
     ]
    },
    {
     "name": "stdout",
     "output_type": "stream",
     "text": [
      "Epoch 1/9\n",
      "\u001b[1m508/508\u001b[0m \u001b[32m━━━━━━━━━━━━━━━━━━━━\u001b[0m\u001b[37m\u001b[0m \u001b[1m3s\u001b[0m 4ms/step - accuracy: 0.8972 - loss: 1.2664 - val_accuracy: 0.9993 - val_loss: 0.0019\n",
      "Epoch 2/9\n",
      "\u001b[1m508/508\u001b[0m \u001b[32m━━━━━━━━━━━━━━━━━━━━\u001b[0m\u001b[37m\u001b[0m \u001b[1m1s\u001b[0m 1ms/step - accuracy: 0.9730 - loss: 0.0963 - val_accuracy: 0.9855 - val_loss: 0.2106\n",
      "Epoch 3/9\n",
      "\u001b[1m508/508\u001b[0m \u001b[32m━━━━━━━━━━━━━━━━━━━━\u001b[0m\u001b[37m\u001b[0m \u001b[1m1s\u001b[0m 1ms/step - accuracy: 0.9977 - loss: 0.0131 - val_accuracy: 0.9995 - val_loss: 9.4490e-04\n",
      "Epoch 4/9\n",
      "\u001b[1m508/508\u001b[0m \u001b[32m━━━━━━━━━━━━━━━━━━━━\u001b[0m\u001b[37m\u001b[0m \u001b[1m1s\u001b[0m 2ms/step - accuracy: 0.9959 - loss: 0.0153 - val_accuracy: 0.9995 - val_loss: 0.0021\n",
      "Epoch 5/9\n",
      "\u001b[1m508/508\u001b[0m \u001b[32m━━━━━━━━━━━━━━━━━━━━\u001b[0m\u001b[37m\u001b[0m \u001b[1m1s\u001b[0m 2ms/step - accuracy: 0.9992 - loss: 0.0043 - val_accuracy: 0.9941 - val_loss: 0.0253\n",
      "Epoch 6/9\n",
      "\u001b[1m508/508\u001b[0m \u001b[32m━━━━━━━━━━━━━━━━━━━━\u001b[0m\u001b[37m\u001b[0m \u001b[1m1s\u001b[0m 2ms/step - accuracy: 0.9916 - loss: 0.0362 - val_accuracy: 0.9995 - val_loss: 7.7087e-04\n",
      "Epoch 7/9\n",
      "\u001b[1m508/508\u001b[0m \u001b[32m━━━━━━━━━━━━━━━━━━━━\u001b[0m\u001b[37m\u001b[0m \u001b[1m1s\u001b[0m 2ms/step - accuracy: 0.9992 - loss: 0.0024 - val_accuracy: 0.9995 - val_loss: 0.0051\n",
      "Epoch 8/9\n",
      "\u001b[1m508/508\u001b[0m \u001b[32m━━━━━━━━━━━━━━━━━━━━\u001b[0m\u001b[37m\u001b[0m \u001b[1m1s\u001b[0m 1ms/step - accuracy: 0.9999 - loss: 5.3639e-04 - val_accuracy: 0.9988 - val_loss: 0.0017\n",
      "Epoch 9/9\n",
      "\u001b[1m508/508\u001b[0m \u001b[32m━━━━━━━━━━━━━━━━━━━━\u001b[0m\u001b[37m\u001b[0m \u001b[1m1s\u001b[0m 2ms/step - accuracy: 0.9992 - loss: 0.0026 - val_accuracy: 1.0000 - val_loss: 3.6798e-04\n"
     ]
    }
   ],
   "source": [
    "import tensorflow as tf\n",
    "from tensorflow.keras import layers, models\n",
    "from sklearn.model_selection import train_test_split\n",
    "import pandas as pd\n",
    "import numpy as np\n",
    "import cv2\n",
    "import os\n",
    "\n",
    "X_image_folder = \"/home/addinedu/dev_ws/data/handwritten_dataset/train/x_new_train1000\"\n",
    "O_image_folder = \"/home/addinedu/dev_ws/data/images.cv_cda9n6fio287zp8fuwsivo/data/new_train1000\"\n",
    "X_label_csv_path = \"/home/addinedu/dev_ws/data/handwritten_dataset/train/X2_labels.csv\"\n",
    "O_label_csv_path = \"/home/addinedu/dev_ws/data/images.cv_cda9n6fio287zp8fuwsivo/data/new_train1000.csv\"\n",
    "\n",
    "def load_and_preprocess_image(image_path):\n",
    "    image = cv2.imread(image_path, cv2.IMREAD_GRAYSCALE)  \n",
    "    image = cv2.resize(image, (32, 32))  \n",
    "    image = image / 255.0  \n",
    "    return image\n",
    "\n",
    "\n",
    "def create_dataset(image_folder, label_csv_path):\n",
    "    \n",
    "    label_df = pd.read_csv(label_csv_path)\n",
    "    \n",
    "    images = []\n",
    "    labels = []\n",
    "\n",
    "    for index, row in label_df.iterrows():\n",
    "        image_path = os.path.join(image_folder, row[\"Image_Path\"])\n",
    "        label = row[\"Label\"]\n",
    "        image = load_and_preprocess_image(image_path)\n",
    "        images.append(image)\n",
    "        labels.append(label)\n",
    "\n",
    "    return np.array(images), np.array(labels)\n",
    "\n",
    "X_images, _ = create_dataset(X_image_folder, X_label_csv_path)\n",
    "X_labels = np.zeros(len(X_images), dtype=int)  # X 이미지는 0으로 라벨링\n",
    "\n",
    "O_images, _ = create_dataset(O_image_folder, O_label_csv_path)\n",
    "O_labels = np.ones(len(O_images), dtype=int)  # O 이미지는 1로 라벨링\n",
    "\n",
    "images = np.concatenate((X_images, O_images), axis=0)\n",
    "labels = np.concatenate((X_labels, O_labels), axis=0)\n",
    "\n",
    "\n",
    "X_train, X_val, y_train, y_val = train_test_split(images, labels, shuffle=True, test_size=0.2, random_state=13)\n",
    "\n",
    "num_classes = len(np.unique(labels))\n",
    "\n",
    "def initialize_model():\n",
    "    model = models.Sequential([\n",
    "        layers.Flatten(input_shape=(32, 32, 1)),\n",
    "        layers.Dense(128, activation='relu'),\n",
    "        layers.Dense(64, activation='relu'),\n",
    "        layers.Dense(2, activation='softmax')\n",
    "    ])\n",
    "\n",
    "    optimizer = tf.keras.optimizers.Adam(learning_rate=0.02)\n",
    "\n",
    "    model.compile(optimizer=optimizer,\n",
    "                  loss='sparse_categorical_crossentropy',\n",
    "                  metrics=['accuracy'])\n",
    "    \n",
    "    return model\n",
    "\n",
    "\n",
    "\n",
    "model = initialize_model()\n",
    "\n",
    "\n",
    "history = model.fit(X_train, y_train, epochs=9, validation_data=(X_val, y_val))\n"
   ]
  },
  {
   "cell_type": "code",
   "execution_count": 6,
   "metadata": {},
   "outputs": [
    {
     "data": {
      "image/png": "[encoded data removed]",
      "text/plain": [
       "<Figure size 1200x400 with 2 Axes>"
      ]
     },
     "metadata": {},
     "output_type": "display_data"
    }
   ],
   "source": [
    "import seaborn as sns\n",
    "import matplotlib.pyplot as plt\n",
    "\n",
    "fig, axes = plt.subplots(1, 2, figsize=(12, 4))\n",
    "\n",
    "sns.lineplot(x=range(len(history.history['loss'])),\n",
    "             y=history.history['loss'], ax=axes[0],\n",
    "             label='Training Loss')\n",
    "sns.lineplot(x=range(len(history.history['val_loss'])),\n",
    "             y=history.history['val_loss'], ax=axes[0],\n",
    "             label='Validation Loss')\n",
    "\n",
    "sns.lineplot(x=range(len(history.history['accuracy'])),\n",
    "             y=history.history['accuracy'], ax=axes[1],\n",
    "             label='Training Accuracy')\n",
    "sns.lineplot(x=range(len(history.history['val_accuracy'])),\n",
    "             y=history.history['val_accuracy'], ax=axes[1],\n",
    "             label='Validation Accuracy')\n",
    "axes[0].set_title('Loss')\n",
    "axes[1].set_title('Accuracy')\n",
    "\n",
    "sns.despine()\n",
    "plt.show()\n"
   ]
  }
 ],
 "metadata": {
  "kernelspec": {
   "display_name": "opencv2_venv",
   "language": "python",
   "name": "python3"
  },
  "language_info": {
   "codemirror_mode": {
    "name": "ipython",
    "version": 3
   },
   "file_extension": ".py",
   "mimetype": "text/x-python",
   "name": "python",
   "nbconvert_exporter": "python",
   "pygments_lexer": "ipython3",
   "version": "3.10.12"
  }
 },
 "nbformat": 4,
 "nbformat_minor": 2
}
