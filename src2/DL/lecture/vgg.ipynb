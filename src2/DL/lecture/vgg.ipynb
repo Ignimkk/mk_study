{
 "cells": [
  {
   "cell_type": "code",
   "execution_count": 2,
   "metadata": {},
   "outputs": [],
   "source": [
    "from numba import cuda\n",
    "\n",
    "device = cuda.get_current_device(); device.reset()"
   ]
  },
  {
   "cell_type": "code",
   "execution_count": 1,
   "metadata": {},
   "outputs": [
    {
     "name": "stderr",
     "output_type": "stream",
     "text": [
      "2024-05-13 11:32:51.828323: I tensorflow/core/platform/cpu_feature_guard.cc:210] This TensorFlow binary is optimized to use available CPU instructions in performance-critical operations.\n",
      "To enable the following instructions: AVX2 FMA, in other operations, rebuild TensorFlow with the appropriate compiler flags.\n",
      "2024-05-13 11:32:52.851563: W tensorflow/compiler/tf2tensorrt/utils/py_utils.cc:38] TF-TRT Warning: Could not find TensorRT\n"
     ]
    }
   ],
   "source": [
    "import cv2\n",
    "\n",
    "from tensorflow.keras.applications.vgg16 import VGG16\n",
    "\n",
    "from tensorflow.keras.preprocessing.image import img_to_array\n",
    "\n",
    "from tensorflow.keras.applications.vgg16 import preprocess_input, decode_predictions"
   ]
  },
  {
   "cell_type": "code",
   "execution_count": 3,
   "metadata": {},
   "outputs": [
    {
     "name": "stderr",
     "output_type": "stream",
     "text": [
      "2024-05-13 11:32:58.131008: I external/local_xla/xla/stream_executor/cuda/cuda_executor.cc:998] successful NUMA node read from SysFS had negative value (-1), but there must be at least one NUMA node, so returning NUMA node zero. See more at https://github.com/torvalds/linux/blob/v6.0/Documentation/ABI/testing/sysfs-bus-pci#L344-L355\n",
      "2024-05-13 11:32:58.160256: I external/local_xla/xla/stream_executor/cuda/cuda_executor.cc:998] successful NUMA node read from SysFS had negative value (-1), but there must be at least one NUMA node, so returning NUMA node zero. See more at https://github.com/torvalds/linux/blob/v6.0/Documentation/ABI/testing/sysfs-bus-pci#L344-L355\n",
      "2024-05-13 11:32:58.160430: I external/local_xla/xla/stream_executor/cuda/cuda_executor.cc:998] successful NUMA node read from SysFS had negative value (-1), but there must be at least one NUMA node, so returning NUMA node zero. See more at https://github.com/torvalds/linux/blob/v6.0/Documentation/ABI/testing/sysfs-bus-pci#L344-L355\n",
      "2024-05-13 11:32:58.162127: I external/local_xla/xla/stream_executor/cuda/cuda_executor.cc:998] successful NUMA node read from SysFS had negative value (-1), but there must be at least one NUMA node, so returning NUMA node zero. See more at https://github.com/torvalds/linux/blob/v6.0/Documentation/ABI/testing/sysfs-bus-pci#L344-L355\n",
      "2024-05-13 11:32:58.162284: I external/local_xla/xla/stream_executor/cuda/cuda_executor.cc:998] successful NUMA node read from SysFS had negative value (-1), but there must be at least one NUMA node, so returning NUMA node zero. See more at https://github.com/torvalds/linux/blob/v6.0/Documentation/ABI/testing/sysfs-bus-pci#L344-L355\n",
      "2024-05-13 11:32:58.162376: I external/local_xla/xla/stream_executor/cuda/cuda_executor.cc:998] successful NUMA node read from SysFS had negative value (-1), but there must be at least one NUMA node, so returning NUMA node zero. See more at https://github.com/torvalds/linux/blob/v6.0/Documentation/ABI/testing/sysfs-bus-pci#L344-L355\n",
      "2024-05-13 11:32:58.208030: I external/local_xla/xla/stream_executor/cuda/cuda_executor.cc:998] successful NUMA node read from SysFS had negative value (-1), but there must be at least one NUMA node, so returning NUMA node zero. See more at https://github.com/torvalds/linux/blob/v6.0/Documentation/ABI/testing/sysfs-bus-pci#L344-L355\n",
      "2024-05-13 11:32:58.208201: I external/local_xla/xla/stream_executor/cuda/cuda_executor.cc:998] successful NUMA node read from SysFS had negative value (-1), but there must be at least one NUMA node, so returning NUMA node zero. See more at https://github.com/torvalds/linux/blob/v6.0/Documentation/ABI/testing/sysfs-bus-pci#L344-L355\n",
      "2024-05-13 11:32:58.208307: I external/local_xla/xla/stream_executor/cuda/cuda_executor.cc:998] successful NUMA node read from SysFS had negative value (-1), but there must be at least one NUMA node, so returning NUMA node zero. See more at https://github.com/torvalds/linux/blob/v6.0/Documentation/ABI/testing/sysfs-bus-pci#L344-L355\n",
      "2024-05-13 11:32:58.208391: I tensorflow/core/common_runtime/gpu/gpu_device.cc:1928] Created device /job:localhost/replica:0/task:0/device:GPU:0 with 714 MB memory:  -> device: 0, name: NVIDIA GeForce RTX 2060, pci bus id: 0000:01:00.0, compute capability: 7.5\n",
      "2024-05-13 11:33:08.333039: W external/local_tsl/tsl/framework/bfc_allocator.cc:487] Allocator (GPU_0_bfc) ran out of memory trying to allocate 392.00MiB (rounded to 411041792)requested by op Mul\n",
      "If the cause is memory fragmentation maybe the environment variable 'TF_GPU_ALLOCATOR=cuda_malloc_async' will improve the situation. \n",
      "Current allocation summary follows.\n",
      "Current allocation summary follows.\n",
      "2024-05-13 11:33:08.333124: I external/local_tsl/tsl/framework/bfc_allocator.cc:1044] BFCAllocator dump for GPU_0_bfc\n",
      "2024-05-13 11:33:08.333186: I external/local_tsl/tsl/framework/bfc_allocator.cc:1051] Bin (256): \tTotal Chunks: 25, Chunks in use: 25. 6.2KiB allocated for chunks. 6.2KiB in use in bin. 624B client-requested in use in bin.\n",
      "2024-05-13 11:33:08.333214: I external/local_tsl/tsl/framework/bfc_allocator.cc:1051] Bin (512): \tTotal Chunks: 2, Chunks in use: 2. 1.0KiB allocated for chunks. 1.0KiB in use in bin. 1.0KiB client-requested in use in bin.\n",
      "2024-05-13 11:33:08.333238: I external/local_tsl/tsl/framework/bfc_allocator.cc:1051] Bin (1024): \tTotal Chunks: 4, Chunks in use: 4. 4.2KiB allocated for chunks. 4.2KiB in use in bin. 4.0KiB client-requested in use in bin.\n",
      "2024-05-13 11:33:08.333265: I external/local_tsl/tsl/framework/bfc_allocator.cc:1051] Bin (2048): \tTotal Chunks: 6, Chunks in use: 6. 12.0KiB allocated for chunks. 12.0KiB in use in bin. 12.0KiB client-requested in use in bin.\n",
      "2024-05-13 11:33:08.333290: I external/local_tsl/tsl/framework/bfc_allocator.cc:1051] Bin (4096): \tTotal Chunks: 1, Chunks in use: 1. 6.8KiB allocated for chunks. 6.8KiB in use in bin. 6.8KiB client-requested in use in bin.\n",
      "2024-05-13 11:33:08.333314: I external/local_tsl/tsl/framework/bfc_allocator.cc:1051] Bin (8192): \tTotal Chunks: 0, Chunks in use: 0. 0B allocated for chunks. 0B in use in bin. 0B client-requested in use in bin.\n",
      "2024-05-13 11:33:08.333336: I external/local_tsl/tsl/framework/bfc_allocator.cc:1051] Bin (16384): \tTotal Chunks: 0, Chunks in use: 0. 0B allocated for chunks. 0B in use in bin. 0B client-requested in use in bin.\n",
      "2024-05-13 11:33:08.333356: I external/local_tsl/tsl/framework/bfc_allocator.cc:1051] Bin (32768): \tTotal Chunks: 0, Chunks in use: 0. 0B allocated for chunks. 0B in use in bin. 0B client-requested in use in bin.\n",
      "2024-05-13 11:33:08.333377: I external/local_tsl/tsl/framework/bfc_allocator.cc:1051] Bin (65536): \tTotal Chunks: 0, Chunks in use: 0. 0B allocated for chunks. 0B in use in bin. 0B client-requested in use in bin.\n",
      "2024-05-13 11:33:08.333404: I external/local_tsl/tsl/framework/bfc_allocator.cc:1051] Bin (131072): \tTotal Chunks: 1, Chunks in use: 1. 144.0KiB allocated for chunks. 144.0KiB in use in bin. 144.0KiB client-requested in use in bin.\n",
      "2024-05-13 11:33:08.333430: I external/local_tsl/tsl/framework/bfc_allocator.cc:1051] Bin (262144): \tTotal Chunks: 3, Chunks in use: 1. 856.8KiB allocated for chunks. 288.0KiB in use in bin. 288.0KiB client-requested in use in bin.\n",
      "2024-05-13 11:33:08.333457: I external/local_tsl/tsl/framework/bfc_allocator.cc:1051] Bin (524288): \tTotal Chunks: 1, Chunks in use: 1. 576.0KiB allocated for chunks. 576.0KiB in use in bin. 576.0KiB client-requested in use in bin.\n",
      "2024-05-13 11:33:08.333478: I external/local_tsl/tsl/framework/bfc_allocator.cc:1051] Bin (1048576): \tTotal Chunks: 3, Chunks in use: 1. 3.38MiB allocated for chunks. 1.12MiB in use in bin. 1.12MiB client-requested in use in bin.\n",
      "2024-05-13 11:33:08.333498: I external/local_tsl/tsl/framework/bfc_allocator.cc:1051] Bin (2097152): \tTotal Chunks: 2, Chunks in use: 2. 4.50MiB allocated for chunks. 4.50MiB in use in bin. 4.50MiB client-requested in use in bin.\n",
      "2024-05-13 11:33:08.333544: I external/local_tsl/tsl/framework/bfc_allocator.cc:1051] Bin (4194304): \tTotal Chunks: 3, Chunks in use: 1. 13.50MiB allocated for chunks. 4.50MiB in use in bin. 4.50MiB client-requested in use in bin.\n",
      "2024-05-13 11:33:08.333571: I external/local_tsl/tsl/framework/bfc_allocator.cc:1051] Bin (8388608): \tTotal Chunks: 5, Chunks in use: 5. 45.00MiB allocated for chunks. 45.00MiB in use in bin. 45.00MiB client-requested in use in bin.\n",
      "2024-05-13 11:33:08.333596: I external/local_tsl/tsl/framework/bfc_allocator.cc:1051] Bin (16777216): \tTotal Chunks: 1, Chunks in use: 0. 18.00MiB allocated for chunks. 0B in use in bin. 0B client-requested in use in bin.\n",
      "2024-05-13 11:33:08.333621: I external/local_tsl/tsl/framework/bfc_allocator.cc:1051] Bin (33554432): \tTotal Chunks: 0, Chunks in use: 0. 0B allocated for chunks. 0B in use in bin. 0B client-requested in use in bin.\n",
      "2024-05-13 11:33:08.333659: I external/local_tsl/tsl/framework/bfc_allocator.cc:1051] Bin (67108864): \tTotal Chunks: 0, Chunks in use: 0. 0B allocated for chunks. 0B in use in bin. 0B client-requested in use in bin.\n",
      "2024-05-13 11:33:08.333689: I external/local_tsl/tsl/framework/bfc_allocator.cc:1051] Bin (134217728): \tTotal Chunks: 1, Chunks in use: 0. 236.24MiB allocated for chunks. 0B in use in bin. 0B client-requested in use in bin.\n",
      "2024-05-13 11:33:08.333718: I external/local_tsl/tsl/framework/bfc_allocator.cc:1051] Bin (268435456): \tTotal Chunks: 1, Chunks in use: 1. 392.00MiB allocated for chunks. 392.00MiB in use in bin. 392.00MiB client-requested in use in bin.\n",
      "2024-05-13 11:33:08.333743: I external/local_tsl/tsl/framework/bfc_allocator.cc:1067] Bin for 392.00MiB was 256.00MiB, Chunk State: \n",
      "2024-05-13 11:33:08.333778: I external/local_tsl/tsl/framework/bfc_allocator.cc:1080] Next region of size 748879872\n",
      "2024-05-13 11:33:08.333821: I external/local_tsl/tsl/framework/bfc_allocator.cc:1100] InUse at 79bb92000000 of size 256 next 1\n",
      "2024-05-13 11:33:08.333856: I external/local_tsl/tsl/framework/bfc_allocator.cc:1100] InUse at 79bb92000100 of size 1280 next 2\n",
      "2024-05-13 11:33:08.333900: I external/local_tsl/tsl/framework/bfc_allocator.cc:1100] InUse at 79bb92000600 of size 256 next 3\n",
      "2024-05-13 11:33:08.333920: I external/local_tsl/tsl/framework/bfc_allocator.cc:1100] InUse at 79bb92000700 of size 256 next 4\n",
      "2024-05-13 11:33:08.333941: I external/local_tsl/tsl/framework/bfc_allocator.cc:1100] InUse at 79bb92000800 of size 256 next 6\n",
      "2024-05-13 11:33:08.333961: I external/local_tsl/tsl/framework/bfc_allocator.cc:1100] InUse at 79bb92000900 of size 256 next 7\n",
      "2024-05-13 11:33:08.333978: I external/local_tsl/tsl/framework/bfc_allocator.cc:1100] InUse at 79bb92000a00 of size 256 next 5\n",
      "2024-05-13 11:33:08.333997: I external/local_tsl/tsl/framework/bfc_allocator.cc:1100] InUse at 79bb92000b00 of size 256 next 8\n",
      "2024-05-13 11:33:08.334017: I external/local_tsl/tsl/framework/bfc_allocator.cc:1100] InUse at 79bb92000c00 of size 256 next 13\n",
      "2024-05-13 11:33:08.334033: I external/local_tsl/tsl/framework/bfc_allocator.cc:1100] InUse at 79bb92000d00 of size 256 next 11\n",
      "2024-05-13 11:33:08.334053: I external/local_tsl/tsl/framework/bfc_allocator.cc:1100] InUse at 79bb92000e00 of size 256 next 12\n",
      "2024-05-13 11:33:08.334078: I external/local_tsl/tsl/framework/bfc_allocator.cc:1100] InUse at 79bb92000f00 of size 512 next 16\n",
      "2024-05-13 11:33:08.334103: I external/local_tsl/tsl/framework/bfc_allocator.cc:1100] InUse at 79bb92001100 of size 256 next 17\n",
      "2024-05-13 11:33:08.334180: I external/local_tsl/tsl/framework/bfc_allocator.cc:1100] InUse at 79bb92001200 of size 256 next 20\n",
      "2024-05-13 11:33:08.334218: I external/local_tsl/tsl/framework/bfc_allocator.cc:1100] InUse at 79bb92001300 of size 512 next 23\n",
      "2024-05-13 11:33:08.334250: I external/local_tsl/tsl/framework/bfc_allocator.cc:1100] InUse at 79bb92001500 of size 256 next 21\n",
      "2024-05-13 11:33:08.334273: I external/local_tsl/tsl/framework/bfc_allocator.cc:1100] InUse at 79bb92001600 of size 256 next 22\n",
      "2024-05-13 11:33:08.334292: I external/local_tsl/tsl/framework/bfc_allocator.cc:1100] InUse at 79bb92001700 of size 1024 next 26\n",
      "2024-05-13 11:33:08.334308: I external/local_tsl/tsl/framework/bfc_allocator.cc:1100] InUse at 79bb92001b00 of size 256 next 27\n",
      "2024-05-13 11:33:08.334325: I external/local_tsl/tsl/framework/bfc_allocator.cc:1100] InUse at 79bb92001c00 of size 256 next 30\n",
      "2024-05-13 11:33:08.334342: I external/local_tsl/tsl/framework/bfc_allocator.cc:1100] InUse at 79bb92001d00 of size 1024 next 33\n",
      "2024-05-13 11:33:08.334358: I external/local_tsl/tsl/framework/bfc_allocator.cc:1100] InUse at 79bb92002100 of size 1024 next 36\n",
      "2024-05-13 11:33:08.334374: I external/local_tsl/tsl/framework/bfc_allocator.cc:1100] InUse at 79bb92002500 of size 256 next 31\n",
      "2024-05-13 11:33:08.334389: I external/local_tsl/tsl/framework/bfc_allocator.cc:1100] InUse at 79bb92002600 of size 256 next 32\n",
      "2024-05-13 11:33:08.334411: I external/local_tsl/tsl/framework/bfc_allocator.cc:1100] InUse at 79bb92002700 of size 2048 next 38\n",
      "2024-05-13 11:33:08.334429: I external/local_tsl/tsl/framework/bfc_allocator.cc:1100] InUse at 79bb92002f00 of size 256 next 39\n",
      "2024-05-13 11:33:08.334446: I external/local_tsl/tsl/framework/bfc_allocator.cc:1100] InUse at 79bb92003000 of size 256 next 42\n",
      "2024-05-13 11:33:08.334463: I external/local_tsl/tsl/framework/bfc_allocator.cc:1100] InUse at 79bb92003100 of size 2048 next 45\n",
      "2024-05-13 11:33:08.334480: I external/local_tsl/tsl/framework/bfc_allocator.cc:1100] InUse at 79bb92003900 of size 2048 next 9\n",
      "2024-05-13 11:33:08.334497: I external/local_tsl/tsl/framework/bfc_allocator.cc:1100] InUse at 79bb92004100 of size 6912 next 10\n",
      "2024-05-13 11:33:08.334513: I external/local_tsl/tsl/framework/bfc_allocator.cc:1100] InUse at 79bb92005c00 of size 2048 next 44\n",
      "2024-05-13 11:33:08.334529: I external/local_tsl/tsl/framework/bfc_allocator.cc:1100] InUse at 79bb92006400 of size 2048 next 51\n",
      "2024-05-13 11:33:08.334545: I external/local_tsl/tsl/framework/bfc_allocator.cc:1100] InUse at 79bb92006c00 of size 2048 next 53\n",
      "2024-05-13 11:33:08.334561: I external/local_tsl/tsl/framework/bfc_allocator.cc:1100] InUse at 79bb92007400 of size 256 next 48\n",
      "2024-05-13 11:33:08.334578: I external/local_tsl/tsl/framework/bfc_allocator.cc:1100] InUse at 79bb92007500 of size 256 next 43\n",
      "2024-05-13 11:33:08.334593: I external/local_tsl/tsl/framework/bfc_allocator.cc:1100] InUse at 79bb92007600 of size 256 next 55\n",
      "2024-05-13 11:33:08.334609: I external/local_tsl/tsl/framework/bfc_allocator.cc:1100] InUse at 79bb92007700 of size 256 next 56\n",
      "2024-05-13 11:33:08.334625: I external/local_tsl/tsl/framework/bfc_allocator.cc:1100] InUse at 79bb92007800 of size 256 next 58\n",
      "2024-05-13 11:33:08.334642: I external/local_tsl/tsl/framework/bfc_allocator.cc:1100] Free  at 79bb92007900 of size 287488 next 15\n",
      "2024-05-13 11:33:08.334659: I external/local_tsl/tsl/framework/bfc_allocator.cc:1100] InUse at 79bb9204dc00 of size 147456 next 14\n",
      "2024-05-13 11:33:08.334674: I external/local_tsl/tsl/framework/bfc_allocator.cc:1100] Free  at 79bb92071c00 of size 294912 next 19\n",
      "2024-05-13 11:33:08.334690: I external/local_tsl/tsl/framework/bfc_allocator.cc:1100] InUse at 79bb920b9c00 of size 294912 next 18\n",
      "2024-05-13 11:33:08.334705: I external/local_tsl/tsl/framework/bfc_allocator.cc:1100] Free  at 79bb92101c00 of size 1179648 next 25\n",
      "2024-05-13 11:33:08.334740: I external/local_tsl/tsl/framework/bfc_allocator.cc:1100] InUse at 79bb92221c00 of size 589824 next 24\n",
      "2024-05-13 11:33:08.334759: I external/local_tsl/tsl/framework/bfc_allocator.cc:1100] Free  at 79bb922b1c00 of size 1179648 next 29\n",
      "2024-05-13 11:33:08.334778: I external/local_tsl/tsl/framework/bfc_allocator.cc:1100] InUse at 79bb923d1c00 of size 1179648 next 28\n",
      "2024-05-13 11:33:08.334796: I external/local_tsl/tsl/framework/bfc_allocator.cc:1100] Free  at 79bb924f1c00 of size 4718592 next 35\n",
      "2024-05-13 11:33:08.334814: I external/local_tsl/tsl/framework/bfc_allocator.cc:1100] InUse at 79bb92971c00 of size 2359296 next 34\n",
      "2024-05-13 11:33:08.334832: I external/local_tsl/tsl/framework/bfc_allocator.cc:1100] InUse at 79bb92bb1c00 of size 2359296 next 37\n",
      "2024-05-13 11:33:08.334849: I external/local_tsl/tsl/framework/bfc_allocator.cc:1100] Free  at 79bb92df1c00 of size 4718592 next 41\n",
      "2024-05-13 11:33:08.334868: I external/local_tsl/tsl/framework/bfc_allocator.cc:1100] InUse at 79bb93271c00 of size 4718592 next 40\n",
      "2024-05-13 11:33:08.334886: I external/local_tsl/tsl/framework/bfc_allocator.cc:1100] Free  at 79bb936f1c00 of size 18874368 next 47\n",
      "2024-05-13 11:33:08.334907: I external/local_tsl/tsl/framework/bfc_allocator.cc:1100] InUse at 79bb948f1c00 of size 9437184 next 46\n",
      "2024-05-13 11:33:08.334924: I external/local_tsl/tsl/framework/bfc_allocator.cc:1100] InUse at 79bb951f1c00 of size 9437184 next 49\n",
      "2024-05-13 11:33:08.334941: I external/local_tsl/tsl/framework/bfc_allocator.cc:1100] InUse at 79bb95af1c00 of size 9437184 next 50\n",
      "2024-05-13 11:33:08.334958: I external/local_tsl/tsl/framework/bfc_allocator.cc:1100] InUse at 79bb963f1c00 of size 9437184 next 52\n",
      "2024-05-13 11:33:08.334977: I external/local_tsl/tsl/framework/bfc_allocator.cc:1100] InUse at 79bb96cf1c00 of size 9437184 next 54\n",
      "2024-05-13 11:33:08.334996: I external/local_tsl/tsl/framework/bfc_allocator.cc:1100] InUse at 79bb975f1c00 of size 411041792 next 57\n",
      "2024-05-13 11:33:08.335015: I external/local_tsl/tsl/framework/bfc_allocator.cc:1100] Free  at 79bbafdf1c00 of size 247718912 next 18446744073709551615\n",
      "2024-05-13 11:33:08.335034: I external/local_tsl/tsl/framework/bfc_allocator.cc:1105]      Summary of in-use Chunks by size: \n",
      "2024-05-13 11:33:08.335061: I external/local_tsl/tsl/framework/bfc_allocator.cc:1108] 25 Chunks of size 256 totalling 6.2KiB\n",
      "2024-05-13 11:33:08.335082: I external/local_tsl/tsl/framework/bfc_allocator.cc:1108] 2 Chunks of size 512 totalling 1.0KiB\n",
      "2024-05-13 11:33:08.335102: I external/local_tsl/tsl/framework/bfc_allocator.cc:1108] 3 Chunks of size 1024 totalling 3.0KiB\n",
      "2024-05-13 11:33:08.335122: I external/local_tsl/tsl/framework/bfc_allocator.cc:1108] 1 Chunks of size 1280 totalling 1.2KiB\n",
      "2024-05-13 11:33:08.335142: I external/local_tsl/tsl/framework/bfc_allocator.cc:1108] 6 Chunks of size 2048 totalling 12.0KiB\n",
      "2024-05-13 11:33:08.335166: I external/local_tsl/tsl/framework/bfc_allocator.cc:1108] 1 Chunks of size 6912 totalling 6.8KiB\n",
      "2024-05-13 11:33:08.335189: I external/local_tsl/tsl/framework/bfc_allocator.cc:1108] 1 Chunks of size 147456 totalling 144.0KiB\n",
      "2024-05-13 11:33:08.335231: I external/local_tsl/tsl/framework/bfc_allocator.cc:1108] 1 Chunks of size 294912 totalling 288.0KiB\n",
      "2024-05-13 11:33:08.335245: I external/local_tsl/tsl/framework/bfc_allocator.cc:1108] 1 Chunks of size 589824 totalling 576.0KiB\n",
      "2024-05-13 11:33:08.335256: I external/local_tsl/tsl/framework/bfc_allocator.cc:1108] 1 Chunks of size 1179648 totalling 1.12MiB\n",
      "2024-05-13 11:33:08.335267: I external/local_tsl/tsl/framework/bfc_allocator.cc:1108] 2 Chunks of size 2359296 totalling 4.50MiB\n",
      "2024-05-13 11:33:08.335276: I external/local_tsl/tsl/framework/bfc_allocator.cc:1108] 1 Chunks of size 4718592 totalling 4.50MiB\n",
      "2024-05-13 11:33:08.335287: I external/local_tsl/tsl/framework/bfc_allocator.cc:1108] 5 Chunks of size 9437184 totalling 45.00MiB\n",
      "2024-05-13 11:33:08.335304: I external/local_tsl/tsl/framework/bfc_allocator.cc:1108] 1 Chunks of size 411041792 totalling 392.00MiB\n",
      "2024-05-13 11:33:08.335322: I external/local_tsl/tsl/framework/bfc_allocator.cc:1112] Sum Total of in-use chunks: 448.14MiB\n",
      "2024-05-13 11:33:08.335337: I external/local_tsl/tsl/framework/bfc_allocator.cc:1114] Total bytes in pool: 748879872 memory_limit_: 748879872 available bytes: 0 curr_region_allocation_bytes_: 1497759744\n",
      "2024-05-13 11:33:08.335362: I external/local_tsl/tsl/framework/bfc_allocator.cc:1119] Stats: \n",
      "Limit:                       748879872\n",
      "InUse:                       469907712\n",
      "MaxInUse:                    469907712\n",
      "NumAllocs:                         129\n",
      "MaxAllocSize:                411041792\n",
      "Reserved:                            0\n",
      "PeakReserved:                        0\n",
      "LargestFreeBlock:                    0\n",
      "\n",
      "2024-05-13 11:33:08.335387: W external/local_tsl/tsl/framework/bfc_allocator.cc:499] ****_**************************************************************_________________________________\n",
      "2024-05-13 11:33:08.335427: W tensorflow/core/framework/op_kernel.cc:1827] RESOURCE_EXHAUSTED: failed to allocate memory\n",
      "2024-05-13 11:33:08.335464: W tensorflow/core/framework/local_rendezvous.cc:404] Local rendezvous is aborting with status: RESOURCE_EXHAUSTED: failed to allocate memory\n"
     ]
    },
    {
     "ename": "ResourceExhaustedError",
     "evalue": "{{function_node __wrapped__Mul_device_/job:localhost/replica:0/task:0/device:GPU:0}} failed to allocate memory [Op:Mul] name: ",
     "output_type": "error",
     "traceback": [
      "\u001b[0;31m---------------------------------------------------------------------------\u001b[0m",
      "\u001b[0;31mResourceExhaustedError\u001b[0m                    Traceback (most recent call last)",
      "Cell \u001b[0;32mIn[3], line 1\u001b[0m\n\u001b[0;32m----> 1\u001b[0m model \u001b[38;5;241m=\u001b[39m \u001b[43mVGG16\u001b[49m\u001b[43m(\u001b[49m\u001b[43mweights\u001b[49m\u001b[38;5;241;43m=\u001b[39;49m\u001b[38;5;124;43m'\u001b[39;49m\u001b[38;5;124;43mimagenet\u001b[39;49m\u001b[38;5;124;43m'\u001b[39;49m\u001b[43m)\u001b[49m\n",
      "File \u001b[0;32m~/venv/opencv2_venv/lib/python3.10/site-packages/keras/src/applications/vgg16.py:183\u001b[0m, in \u001b[0;36mVGG16\u001b[0;34m(include_top, weights, input_tensor, input_shape, pooling, classes, classifier_activation)\u001b[0m\n\u001b[1;32m    180\u001b[0m \u001b[38;5;28;01mif\u001b[39;00m include_top:\n\u001b[1;32m    181\u001b[0m     \u001b[38;5;66;03m# Classification block\u001b[39;00m\n\u001b[1;32m    182\u001b[0m     x \u001b[38;5;241m=\u001b[39m layers\u001b[38;5;241m.\u001b[39mFlatten(name\u001b[38;5;241m=\u001b[39m\u001b[38;5;124m\"\u001b[39m\u001b[38;5;124mflatten\u001b[39m\u001b[38;5;124m\"\u001b[39m)(x)\n\u001b[0;32m--> 183\u001b[0m     x \u001b[38;5;241m=\u001b[39m \u001b[43mlayers\u001b[49m\u001b[38;5;241;43m.\u001b[39;49m\u001b[43mDense\u001b[49m\u001b[43m(\u001b[49m\u001b[38;5;241;43m4096\u001b[39;49m\u001b[43m,\u001b[49m\u001b[43m \u001b[49m\u001b[43mactivation\u001b[49m\u001b[38;5;241;43m=\u001b[39;49m\u001b[38;5;124;43m\"\u001b[39;49m\u001b[38;5;124;43mrelu\u001b[39;49m\u001b[38;5;124;43m\"\u001b[39;49m\u001b[43m,\u001b[49m\u001b[43m \u001b[49m\u001b[43mname\u001b[49m\u001b[38;5;241;43m=\u001b[39;49m\u001b[38;5;124;43m\"\u001b[39;49m\u001b[38;5;124;43mfc1\u001b[39;49m\u001b[38;5;124;43m\"\u001b[39;49m\u001b[43m)\u001b[49m\u001b[43m(\u001b[49m\u001b[43mx\u001b[49m\u001b[43m)\u001b[49m\n\u001b[1;32m    184\u001b[0m     x \u001b[38;5;241m=\u001b[39m layers\u001b[38;5;241m.\u001b[39mDense(\u001b[38;5;241m4096\u001b[39m, activation\u001b[38;5;241m=\u001b[39m\u001b[38;5;124m\"\u001b[39m\u001b[38;5;124mrelu\u001b[39m\u001b[38;5;124m\"\u001b[39m, name\u001b[38;5;241m=\u001b[39m\u001b[38;5;124m\"\u001b[39m\u001b[38;5;124mfc2\u001b[39m\u001b[38;5;124m\"\u001b[39m)(x)\n\u001b[1;32m    186\u001b[0m     imagenet_utils\u001b[38;5;241m.\u001b[39mvalidate_activation(classifier_activation, weights)\n",
      "File \u001b[0;32m~/venv/opencv2_venv/lib/python3.10/site-packages/keras/src/utils/traceback_utils.py:122\u001b[0m, in \u001b[0;36mfilter_traceback.<locals>.error_handler\u001b[0;34m(*args, **kwargs)\u001b[0m\n\u001b[1;32m    119\u001b[0m     filtered_tb \u001b[38;5;241m=\u001b[39m _process_traceback_frames(e\u001b[38;5;241m.\u001b[39m__traceback__)\n\u001b[1;32m    120\u001b[0m     \u001b[38;5;66;03m# To get the full stack trace, call:\u001b[39;00m\n\u001b[1;32m    121\u001b[0m     \u001b[38;5;66;03m# `keras.config.disable_traceback_filtering()`\u001b[39;00m\n\u001b[0;32m--> 122\u001b[0m     \u001b[38;5;28;01mraise\u001b[39;00m e\u001b[38;5;241m.\u001b[39mwith_traceback(filtered_tb) \u001b[38;5;28;01mfrom\u001b[39;00m \u001b[38;5;28;01mNone\u001b[39;00m\n\u001b[1;32m    123\u001b[0m \u001b[38;5;28;01mfinally\u001b[39;00m:\n\u001b[1;32m    124\u001b[0m     \u001b[38;5;28;01mdel\u001b[39;00m filtered_tb\n",
      "File \u001b[0;32m~/venv/opencv2_venv/lib/python3.10/site-packages/tensorflow/python/framework/ops.py:5983\u001b[0m, in \u001b[0;36mraise_from_not_ok_status\u001b[0;34m(e, name)\u001b[0m\n\u001b[1;32m   5981\u001b[0m \u001b[38;5;28;01mdef\u001b[39;00m \u001b[38;5;21mraise_from_not_ok_status\u001b[39m(e, name) \u001b[38;5;241m-\u001b[39m\u001b[38;5;241m>\u001b[39m NoReturn:\n\u001b[1;32m   5982\u001b[0m   e\u001b[38;5;241m.\u001b[39mmessage \u001b[38;5;241m+\u001b[39m\u001b[38;5;241m=\u001b[39m (\u001b[38;5;124m\"\u001b[39m\u001b[38;5;124m name: \u001b[39m\u001b[38;5;124m\"\u001b[39m \u001b[38;5;241m+\u001b[39m \u001b[38;5;28mstr\u001b[39m(name \u001b[38;5;28;01mif\u001b[39;00m name \u001b[38;5;129;01mis\u001b[39;00m \u001b[38;5;129;01mnot\u001b[39;00m \u001b[38;5;28;01mNone\u001b[39;00m \u001b[38;5;28;01melse\u001b[39;00m \u001b[38;5;124m\"\u001b[39m\u001b[38;5;124m\"\u001b[39m))\n\u001b[0;32m-> 5983\u001b[0m   \u001b[38;5;28;01mraise\u001b[39;00m core\u001b[38;5;241m.\u001b[39m_status_to_exception(e) \u001b[38;5;28;01mfrom\u001b[39;00m \u001b[38;5;28;01mNone\u001b[39;00m\n",
      "\u001b[0;31mResourceExhaustedError\u001b[0m: {{function_node __wrapped__Mul_device_/job:localhost/replica:0/task:0/device:GPU:0}} failed to allocate memory [Op:Mul] name: "
     ]
    }
   ],
   "source": [
    "model = VGG16(weights='imagenet')"
   ]
  },
  {
   "cell_type": "code",
   "execution_count": null,
   "metadata": {},
   "outputs": [],
   "source": [
    "import matplotlib.pyplot as plt\n",
    "\n",
    "image = cv2.imread(\"dog. jpo\")\n",
    "plt.imshow(cv2.cvtColor (image, cv2.COLOR_BGR2RGB));"
   ]
  },
  {
   "cell_type": "code",
   "execution_count": null,
   "metadata": {},
   "outputs": [],
   "source": [
    "image = cv2.resize(image,dsize=(224, 224))\n",
    "image = img_to_array(image)\n",
    "image = image.reshape((1, image. shape[0] ,image.shape[1],image.shape[2]))\n",
    "\n",
    "image = preprocess_input (image)"
   ]
  },
  {
   "cell_type": "code",
   "execution_count": null,
   "metadata": {},
   "outputs": [],
   "source": [
    "yhat = model.predict(image)\n",
    "\n",
    "label = decode_predictions(yhat)\n",
    "\n",
    "label = label[0](0)\n",
    "\n",
    "print(\"%s (%.2f%%)\" ¥ (label[1], label[2]+100))"
   ]
  },
  {
   "cell_type": "code",
   "execution_count": null,
   "metadata": {},
   "outputs": [],
   "source": [
    "decode_predictions(yhat)"
   ]
  },
  {
   "cell_type": "code",
   "execution_count": null,
   "metadata": {},
   "outputs": [],
   "source": [
    "import os\n",
    "\n",
    "path = \"/home/addinedu/dev_ws/data/machine/cat_dog/train/\"\n",
    "full_names = os.Listdir(path)\n",
    "labels = [each.split('.')[0] for each in full_names]\n",
    "file_id = [each.split('.')[1] for each in full_names]"
   ]
  },
  {
   "cell_type": "code",
   "execution_count": null,
   "metadata": {},
   "outputs": [],
   "source": [
    "import random\n",
    "import matplotlib.image as mpimg"
   ]
  },
  {
   "cell_type": "code",
   "execution_count": null,
   "metadata": {},
   "outputs": [],
   "source": [
    "image = mpimg.imread(path + full_names[0])\n",
    "plt.imshow(image)\n",
    "plt.show()"
   ]
  },
  {
   "cell_type": "code",
   "execution_count": null,
   "metadata": {},
   "outputs": [],
   "source": [
    "image = cv2.resize(image, dsize=(224,224))\n",
    "\n",
    "image = img_to_array(image)\n",
    "\n",
    "image = image.reshape((1, image. shape[0], image. shape[1] ,image. shape(2)))\n",
    "image = preprocess_input (image)\n",
    "\n",
    "yhat = model.predict (image)\n",
    "\n",
    "label = decode_predictions(yhat)\n",
    "\n",
    "label = label[0][0]\n",
    "\n",
    "print('%s (%.2f%%)' % (label[1], label[2]+100))"
   ]
  },
  {
   "cell_type": "code",
   "execution_count": null,
   "metadata": {},
   "outputs": [],
   "source": [
    "def resize_and_preprocess_vgg(image) :\n",
    "\n",
    "    image = cv2.resize(image, dsize=(224,224))\n",
    "    image = img_to_array(image)\n",
    "    image = image.reshape((1, image.shape[0], image.shape[1], image.shape[2]))\n",
    "\n",
    "    return preprocess_input (image)\n"
   ]
  },
  {
   "cell_type": "code",
   "execution_count": null,
   "metadata": {},
   "outputs": [],
   "source": [
    "def predict_vag(model, image):\n",
    "    yhat = model.predict(image)\n",
    "    label = decode_predictions(yhat)\n",
    "    return label[0][0][1]"
   ]
  },
  {
   "cell_type": "code",
   "execution_count": null,
   "metadata": {},
   "outputs": [],
   "source": [
    "plt.figure(figsize=(14,12))\n",
    "\n",
    "idx = 1\n",
    "\n",
    "for each in random.choices(full_names, k=6):\n",
    "    image = mpimg.imread(path + each)\n",
    "    plt.subplot(3,2, idx)\n",
    "    idx +=1\n",
    "    plt.imshow(image)\n",
    "\n",
    "    image = resize_and_preprocess_vgg(image)\n",
    "    result = predict_vgg(model, image)\n",
    "\n",
    "    plt.title(result)\n",
    "    plt.axis('off')\n",
    "\n",
    "plt.show()"
   ]
  }
 ],
 "metadata": {
  "kernelspec": {
   "display_name": "opencv2_venv",
   "language": "python",
   "name": "python3"
  },
  "language_info": {
   "codemirror_mode": {
    "name": "ipython",
    "version": 3
   },
   "file_extension": ".py",
   "mimetype": "text/x-python",
   "name": "python",
   "nbconvert_exporter": "python",
   "pygments_lexer": "ipython3",
   "version": "3.10.12"
  }
 },
 "nbformat": 4,
 "nbformat_minor": 2
}
