{
 "cells": [
  {
   "cell_type": "markdown",
   "metadata": {},
   "source": [
    "O 데이터셋: https://images.cv/dataset/0-image-classification-dataset\n",
    "\n",
    "X 데이터 셋은 폰트 생성 코드사용"
   ]
  },
  {
   "cell_type": "markdown",
   "metadata": {},
   "source": [
    "데이터 개수 확인"
   ]
  },
  {
   "cell_type": "code",
   "execution_count": 6,
   "metadata": {},
   "outputs": [
    {
     "name": "stdout",
     "output_type": "stream",
     "text": [
      "폴더 내 데이터 개수: 392\n"
     ]
    }
   ],
   "source": [
    "import os\n",
    "\n",
    "def count_files_in_directory(directory):\n",
    "    total_files = 0\n",
    "    for root, dirs, files in os.walk(directory):\n",
    "        total_files += len(files)\n",
    "    return total_files\n",
    "\n",
    "directory_path = \"/home/addinedu/dev_ws/data/xxxxx/x\"\n",
    "total_files = count_files_in_directory(directory_path)\n",
    "print(\"폴더 내 데이터 개수:\", total_files)\n"
   ]
  },
  {
   "cell_type": "code",
   "execution_count": 6,
   "metadata": {},
   "outputs": [
    {
     "name": "stdout",
     "output_type": "stream",
     "text": [
      "임의로 선택된 이미지 파일: ['x_334.jpg', 'x_281.jpg', 'x_380.jpg', 'x_90.jpg', 'x_368.jpg']\n"
     ]
    },
    {
     "data": {
      "image/png": "[encoded data removed]",
      "text/plain": [
       "<Figure size 1000x600 with 5 Axes>"
      ]
     },
     "metadata": {},
     "output_type": "display_data"
    }
   ],
   "source": [
    "import os\n",
    "import random\n",
    "import matplotlib.pyplot as plt\n",
    "import matplotlib.image as mpimg\n",
    "\n",
    "directory_path = \"/home/addinedu/dev_ws/data/xxxxx/x\"\n",
    "\n",
    "def get_random_images(directory, num_images=5):\n",
    "    image_files = [file for file in os.listdir(directory) if file.endswith(('.jpg', '.jpeg', '.png'))]\n",
    "    random_images = random.sample(image_files, min(num_images, len(image_files)))\n",
    "    return random_images\n",
    "def apply_grayscale(image):\n",
    "    grayscale_image = cv2.cvtColor(image, cv2.COLOR_BGR2GRAY)\n",
    "    return grayscale_image\n",
    "# 임의의 5장 이미지 파일 추출\n",
    "random_images = get_random_images(directory_path, num_images=5)\n",
    "print(\"임의로 선택된 이미지 파일:\", random_images)\n",
    "\n",
    "# 이미지를 그레이 스케일로 변환하여 출력\n",
    "plt.figure(figsize=(10, 6))\n",
    "for i, img_name in enumerate(random_images, 1):\n",
    "    img_path = os.path.join(directory_path, img_name)\n",
    "    img = cv2.imread(img_path)\n",
    "    # 그레이 스케일 적용\n",
    "    gray_img = apply_grayscale(img)\n",
    "    plt.subplot(1, 5, i)\n",
    "    plt.imshow(gray_img, cmap='gray')\n",
    "    plt.axis('off')\n",
    "\n",
    "plt.show()"
   ]
  },
  {
   "cell_type": "code",
   "execution_count": 7,
   "metadata": {},
   "outputs": [
    {
     "name": "stdout",
     "output_type": "stream",
     "text": [
      "임의로 선택된 이미지 파일: ['gray-ZVGPFCGP8SGV.jpg', 'gray-D9K6ELU7X7RX.jpg', 'gray-MXMD2EXONVNG.jpg', 'gray-HGTU2IIKFCWW.jpg', 'gray-RVRRWRT76P0C.jpg']\n"
     ]
    },
    {
     "data": {
      "image/png": "[encoded data removed]",
      "text/plain": [
       "<Figure size 1000x600 with 5 Axes>"
      ]
     },
     "metadata": {},
     "output_type": "display_data"
    }
   ],
   "source": [
    "import os\n",
    "import random\n",
    "import matplotlib.pyplot as plt\n",
    "import matplotlib.image as mpimg\n",
    "\n",
    "directory_path = \"/home/addinedu/dev_ws/data/images.cv_cda9n6fio287zp8fuwsivo/data/OOOOO/math_symbols 0\"\n",
    "\n",
    "def get_random_images(directory, num_images=5):\n",
    "    image_files = [file for file in os.listdir(directory) if file.endswith(('.jpg', '.jpeg', '.png'))]\n",
    "    random_images = random.sample(image_files, min(num_images, len(image_files)))\n",
    "    return random_images\n",
    "def apply_grayscale(image):\n",
    "    grayscale_image = cv2.cvtColor(image, cv2.COLOR_BGR2GRAY)\n",
    "    return grayscale_image\n",
    "# 임의의 5장 이미지 파일 추출\n",
    "random_images = get_random_images(directory_path, num_images=5)\n",
    "print(\"임의로 선택된 이미지 파일:\", random_images)\n",
    "\n",
    "# 이미지를 그레이 스케일로 변환하여 출력\n",
    "plt.figure(figsize=(10, 6))\n",
    "for i, img_name in enumerate(random_images, 1):\n",
    "    img_path = os.path.join(directory_path, img_name)\n",
    "    img = cv2.imread(img_path)\n",
    "    # 그레이 스케일 적용\n",
    "    gray_img = apply_grayscale(img)\n",
    "    plt.subplot(1, 5, i)\n",
    "    plt.imshow(gray_img, cmap='gray')\n",
    "    plt.axis('off')\n",
    "\n",
    "plt.show()"
   ]
  },
  {
   "cell_type": "markdown",
   "metadata": {},
   "source": [
    "리사이즈"
   ]
  },
  {
   "cell_type": "code",
   "execution_count": 15,
   "metadata": {},
   "outputs": [],
   "source": [
    "import os\n",
    "import cv2\n",
    "\n",
    "source_folder = \"/home/addinedu/dev_ws/data/X\"\n",
    "\n",
    "destination_folder = \"/home/addinedu/dev_ws/data/new_0\"\n",
    "\n",
    "if not os.path.exists(destination_folder):\n",
    "    os.makedirs(destination_folder)\n",
    "\n",
    "file_list = os.listdir(source_folder)\n",
    "\n",
    "for file_name in file_list:\n",
    "    source_file_path = os.path.join(source_folder, file_name)\n",
    "    \n",
    "    image = cv2.imread(source_file_path)\n",
    "    \n",
    "    if image is not None:\n",
    "        resized_image = cv2.resize(image, (32, 32))\n",
    "        \n",
    "        destination_file_path = os.path.join(destination_folder, file_name)\n",
    "        \n",
    "        cv2.imwrite(destination_file_path, resized_image)\n"
   ]
  },
  {
   "cell_type": "markdown",
   "metadata": {},
   "source": [
    "+-15 회전시켜서 데이터 증강\n"
   ]
  },
  {
   "cell_type": "code",
   "execution_count": 23,
   "metadata": {},
   "outputs": [
    {
     "name": "stdout",
     "output_type": "stream",
     "text": [
      "이미지 회전 및 저장이 완료되었습니다.\n"
     ]
    }
   ],
   "source": [
    "import cv2\n",
    "import os\n",
    "\n",
    "input_directory = \"/home/addinedu/dev_ws/data/handwritten_dataset/train/x\"\n",
    "output_directory = \"/home/addinedu/dev_ws/data/handwritten_dataset/train/x_new_train1000\"\n",
    "image_extension = \".jpg\"\n",
    "\n",
    "rotation_angles = range(-15, 16)\n",
    "\n",
    "if not os.path.exists(output_directory):\n",
    "    os.makedirs(output_directory)\n",
    "\n",
    "for filename in os.listdir(input_directory):\n",
    "    if filename.endswith(image_extension):\n",
    "        image_path = os.path.join(input_directory, filename)\n",
    "        image = cv2.imread(image_path)\n",
    "        for angle in rotation_angles:\n",
    "            rotation_matrix = cv2.getRotationMatrix2D((image.shape[1] / 2, image.shape[0] / 2), angle, 1)\n",
    "            rotated_image = cv2.warpAffine(image, rotation_matrix, (image.shape[1], image.shape[0]))\n",
    "            output_filename = os.path.splitext(filename)[0] + \"_rotated_\" + str(angle) + image_extension\n",
    "            output_path = os.path.join(output_directory, output_filename)\n",
    "            cv2.imwrite(output_path, rotated_image)\n",
    "\n",
    "print(\"이미지 회전 및 저장이 완료되었습니다.\")\n"
   ]
  },
  {
   "cell_type": "code",
   "execution_count": 1,
   "metadata": {},
   "outputs": [
    {
     "name": "stderr",
     "output_type": "stream",
     "text": [
      "2024-05-14 14:21:46.246275: I tensorflow/core/platform/cpu_feature_guard.cc:210] This TensorFlow binary is optimized to use available CPU instructions in performance-critical operations.\n",
      "To enable the following instructions: AVX2 FMA, in other operations, rebuild TensorFlow with the appropriate compiler flags.\n",
      "2024-05-14 14:21:47.128450: W tensorflow/compiler/tf2tensorrt/utils/py_utils.cc:38] TF-TRT Warning: Could not find TensorRT\n"
     ]
    },
    {
     "data": {
      "image/png": "[encoded data removed]",
      "text/plain": [
       "<Figure size 1000x500 with 5 Axes>"
      ]
     },
     "metadata": {},
     "output_type": "display_data"
    }
   ],
   "source": [
    "import matplotlib.pyplot as plt\n",
    "import tensorflow as tf\n",
    "from tensorflow.keras import layers, models\n",
    "from sklearn.model_selection import train_test_split\n",
    "import pandas as pd\n",
    "import numpy as np\n",
    "import cv2\n",
    "import os\n",
    "\n",
    "# 데이터 경로\n",
    "X_image_folder = \"/home/addinedu/dev_ws/data/handwritten_dataset/train/x_new_train1000\"\n",
    "O_image_folder = \"/home/addinedu/dev_ws/data/images.cv_cda9n6fio287zp8fuwsivo/data/new_train1000\"\n",
    "X_label_csv_path = \"/home/addinedu/dev_ws/data/handwritten_dataset/train/X2_labels.csv\"\n",
    "O_label_csv_path = \"/home/addinedu/dev_ws/data/images.cv_cda9n6fio287zp8fuwsivo/data/new_train1000.csv\"\n",
    "\n",
    "def load_and_preprocess_image(image_path, grayscale=True, threshold=True):\n",
    "    image = cv2.imread(image_path)\n",
    "    if grayscale:\n",
    "        image = cv2.cvtColor(image, cv2.COLOR_BGR2GRAY)  # 그레이 스케일 변환\n",
    "    if threshold:\n",
    "        _, image = cv2.threshold(image, 150, 255, cv2.THRESH_BINARY)  # 이진화\n",
    "    image = cv2.resize(image, (32, 32))  # 이미지 크기를 32x32로 조정\n",
    "    image = image / 255.0  # 이미지를 0과 1 사이의 값으로 정규화\n",
    "    return image.reshape((32, 32, 1 if grayscale else 3)) if not threshold else image.reshape((32, 32, 1))\n",
    "\n",
    "\n",
    "def create_dataset(image_folder, label_csv_path, grayscale=True, threshold=True):\n",
    "    label_df = pd.read_csv(label_csv_path)\n",
    "    \n",
    "    images = []\n",
    "    labels = []\n",
    "\n",
    "    for index, row in label_df.iterrows():\n",
    "        image_path = os.path.join(image_folder, row[\"Image_Path\"])\n",
    "        label = row[\"Label\"]\n",
    "        image = load_and_preprocess_image(image_path, grayscale, threshold)\n",
    "        images.append(image)\n",
    "        labels.append(label)\n",
    "\n",
    "    return np.array(images), np.array(labels)\n",
    "\n",
    "X_images, _ = create_dataset(X_image_folder, X_label_csv_path)\n",
    "X_labels = np.zeros(len(X_images), dtype=int)  # X 이미지는 0으로 라벨링\n",
    "\n",
    "O_images, _ = create_dataset(O_image_folder, O_label_csv_path)\n",
    "O_labels = np.ones(len(O_images), dtype=int)  # O 이미지는 1로 라벨링\n",
    "\n",
    "# 이미지 데이터와 라벨 데이터를 합치기\n",
    "images = np.concatenate((X_images, O_images), axis=0)\n",
    "labels = np.concatenate((X_labels, O_labels), axis=0)\n",
    "\n",
    "X_train, X_val, y_train, y_val = train_test_split(images, labels, shuffle=True,test_size=0.2, random_state=13)\n",
    "\n",
    "num_images_to_visualize = 5\n",
    "\n",
    "\n",
    "plt.figure(figsize=(10, 5))\n",
    "for i in range(num_images_to_visualize):\n",
    "    idx = np.random.randint(0, len(images))\n",
    "    \n",
    "    image = images[idx]\n",
    "    label = \"X\" if labels[idx] == 0 else \"O\"\n",
    "    \n",
    "    plt.subplot(1, num_images_to_visualize, i+1)\n",
    "    plt.imshow(image.squeeze(), cmap='gray')  \n",
    "    plt.title(f\"Label: {label}\")\n",
    "    plt.axis('off')\n",
    "\n",
    "plt.show()"
   ]
  },
  {
   "cell_type": "markdown",
   "metadata": {},
   "source": [
    "지정영역 제외하고 흰색으로 만들기"
   ]
  },
  {
   "cell_type": "code",
   "execution_count": 26,
   "metadata": {},
   "outputs": [
    {
     "name": "stdout",
     "output_type": "stream",
     "text": [
      "이미지 처리가 완료되었습니다.\n"
     ]
    }
   ],
   "source": [
    "import cv2\n",
    "import os\n",
    "import numpy as np\n",
    "\n",
    "input_directory = \"/home/addinedu/dev_ws/data/handwritten_dataset/train/x_new_train1000\"\n",
    "output_directory = \"/home/addinedu/dev_ws/data/handwritten_dataset/train/a_x_new_train1000\"\n",
    "exclude_area = [(5, 5), (25, 25)]  # (x1, y1), (x2, y2)\n",
    "\n",
    "if not os.path.exists(output_directory):\n",
    "    os.makedirs(output_directory)\n",
    "\n",
    "for filename in os.listdir(input_directory):\n",
    "    image_path = os.path.join(input_directory, filename)\n",
    "    image = cv2.imread(image_path)\n",
    "    height, width, _ = image.shape\n",
    "    mask = np.zeros((height, width), dtype=np.uint8)\n",
    "    cv2.rectangle(mask, exclude_area[0], exclude_area[1], (255), thickness=cv2.FILLED)\n",
    "    result = np.where(mask[:, :, None] == 255, image, 255)\n",
    "    output_path = os.path.join(output_directory, filename)\n",
    "    cv2.imwrite(output_path, result)\n",
    "\n",
    "print(\"이미지 처리가 완료되었습니다.\")\n"
   ]
  },
  {
   "cell_type": "code",
   "execution_count": 8,
   "metadata": {},
   "outputs": [
    {
     "name": "stdout",
     "output_type": "stream",
     "text": [
      "임의로 선택된 이미지 파일: ['x_247_rotated_4.jpg', 'x_70_rotated_10.jpg', 'x_143_rotated_-14.jpg', 'x_234_rotated_9.jpg', 'x_34_rotated_-11.jpg']\n"
     ]
    },
    {
     "data": {
      "image/png": "[encoded data removed]",
      "text/plain": [
       "<Figure size 1000x600 with 5 Axes>"
      ]
     },
     "metadata": {},
     "output_type": "display_data"
    }
   ],
   "source": [
    "directory_path = \"/home/addinedu/dev_ws/data/handwritten_dataset/train/a_x_new_train1000\"\n",
    "\n",
    "def get_random_images(directory, num_images=5):\n",
    "    image_files = [file for file in os.listdir(directory) if file.endswith(('.jpg', '.jpeg', '.png'))]\n",
    "    random_images = random.sample(image_files, min(num_images, len(image_files)))\n",
    "    return random_images\n",
    "def apply_grayscale(image):\n",
    "    grayscale_image = cv2.cvtColor(image, cv2.COLOR_BGR2GRAY)\n",
    "    return grayscale_image\n",
    "# 임의의 5장 이미지 파일 추출\n",
    "random_images = get_random_images(directory_path, num_images=5)\n",
    "print(\"임의로 선택된 이미지 파일:\", random_images)\n",
    "\n",
    "# 이미지를 그레이 스케일로 변환하여 출력\n",
    "plt.figure(figsize=(10, 6))\n",
    "for i, img_name in enumerate(random_images, 1):\n",
    "    img_path = os.path.join(directory_path, img_name)\n",
    "    img = cv2.imread(img_path)\n",
    "    # 그레이 스케일 적용\n",
    "    gray_img = apply_grayscale(img)\n",
    "    plt.subplot(1, 5, i)\n",
    "    plt.imshow(gray_img, cmap='gray')\n",
    "    plt.axis('off')\n",
    "\n",
    "plt.show()"
   ]
  },
  {
   "cell_type": "markdown",
   "metadata": {},
   "source": [
    "데이터 라벨링 후 .csv로 저장"
   ]
  },
  {
   "cell_type": "code",
   "execution_count": 10,
   "metadata": {},
   "outputs": [
    {
     "name": "stdout",
     "output_type": "stream",
     "text": [
      "라벨링이 완료되었습니다. 라벨링된 데이터는 /home/addinedu/dev_ws/data/xxxxx/x_labels.csv 에 저장되었습니다.\n"
     ]
    }
   ],
   "source": [
    "import os\n",
    "import pandas as pd\n",
    "\n",
    "image_folder = \"/home/addinedu/dev_ws/data/xxxxx/x\"\n",
    "label = \"1\"\n",
    "\n",
    "# 이미지 파일 목록\n",
    "image_files = os.listdir(image_folder)\n",
    "\n",
    "# 빈 리스트 생성\n",
    "data = []\n",
    "\n",
    "# 이미지 파일에 대해 반복하면서 라벨링\n",
    "for image_file in image_files:\n",
    "    # 이미지 파일 경로\n",
    "    image_path = os.path.join(image_folder, image_file)\n",
    "    # 이미지 파일 경로와 라벨을 튜플로 묶어 리스트에 추가\n",
    "    data.append((image_path, label))\n",
    "\n",
    "# 리스트를 데이터프레임으로 변환\n",
    "df = pd.DataFrame(data, columns=[\"Image_Path\", \"Label\"])\n",
    "\n",
    "# 라벨링된 데이터를 CSV 파일로 저장\n",
    "output_csv_path = \"/home/addinedu/dev_ws/data/xxxxx/x_labels.csv\"\n",
    "df.to_csv(output_csv_path, index=False)\n",
    "\n",
    "print(\"라벨링이 완료되었습니다. 라벨링된 데이터는\", output_csv_path, \"에 저장되었습니다.\")\n"
   ]
  },
  {
   "cell_type": "markdown",
   "metadata": {},
   "source": [
    "라벨링2"
   ]
  },
  {
   "cell_type": "code",
   "execution_count": 4,
   "metadata": {},
   "outputs": [
    {
     "name": "stdout",
     "output_type": "stream",
     "text": [
      "라벨링된 데이터가 CSV 파일로 저장되었습니다: /home/addinedu/dev_ws/data/ox_images/train_labels.csv\n"
     ]
    }
   ],
   "source": [
    "import os\n",
    "import pandas as pd\n",
    "\n",
    "# 이미지 파일이 있는 폴더 경로\n",
    "image_folder = \"/home/addinedu/dev_ws/data/ox_images/test\"\n",
    "\n",
    "# 이미지 파일 목록\n",
    "image_files = os.listdir(image_folder)\n",
    "\n",
    "# 라벨과 이미지 파일명을 저장할 리스트\n",
    "labels = []\n",
    "file_names = []\n",
    "\n",
    "# 각 이미지 파일의 첫 글자를 라벨로 하여 저장\n",
    "for image_file in image_files:\n",
    "    label = image_file[0]  # 파일명의 첫 글자를 라벨로 설정\n",
    "    labels.append(label)\n",
    "    file_names.append(image_file)\n",
    "\n",
    "# 데이터프레임 생성\n",
    "data = pd.DataFrame({\"File_Name\": file_names, \"Label\": labels})\n",
    "\n",
    "# CSV 파일로 저장\n",
    "output_csv_path = \"/home/addinedu/dev_ws/data/ox_images/test_labels.csv\"\n",
    "data.to_csv(output_csv_path, index=False)\n",
    "\n",
    "print(\"라벨링된 데이터가 CSV 파일로 저장되었습니다:\", output_csv_path)\n"
   ]
  },
  {
   "cell_type": "markdown",
   "metadata": {},
   "source": [
    "라벨링(이미지 파일의 첫글자를 라벨로 함) >> 숫자로 'O'면 0으로 그 이외는 1"
   ]
  },
  {
   "cell_type": "code",
   "execution_count": 2,
   "metadata": {},
   "outputs": [
    {
     "name": "stdout",
     "output_type": "stream",
     "text": [
      "라벨링된 데이터가 CSV 파일로 저장되었습니다: /home/addinedu/dev_ws/data/ox_images/test_labels.csv\n"
     ]
    }
   ],
   "source": [
    "import os\n",
    "import pandas as pd\n",
    "\n",
    "# 이미지 파일이 있는 폴더 경로\n",
    "image_folder = \"/home/addinedu/dev_ws/data/ox_images/test\"\n",
    "\n",
    "# 이미지 파일 목록\n",
    "image_files = os.listdir(image_folder)\n",
    "\n",
    "# 라벨과 이미지 파일명을 저장할 리스트\n",
    "labels = []\n",
    "file_names = []\n",
    "\n",
    "# 각 이미지 파일의 첫 글자를 라벨로 하여 저장\n",
    "for image_file in image_files:\n",
    "    label = 0 if image_file[0] == 'O' else 1\n",
    "    labels.append(label)\n",
    "    file_names.append(image_file)\n",
    "\n",
    "# 데이터프레임 생성\n",
    "data = pd.DataFrame({\"File_Name\": file_names, \"Label\": labels})\n",
    "\n",
    "# CSV 파일로 저장\n",
    "output_csv_path = \"/home/addinedu/dev_ws/data/ox_images/test_labels.csv\"\n",
    "data.to_csv(output_csv_path, index=False)\n",
    "\n",
    "print(\"라벨링된 데이터가 CSV 파일로 저장되었습니다:\", output_csv_path)\n"
   ]
  },
  {
   "cell_type": "markdown",
   "metadata": {},
   "source": [
    "라벨링확인\n"
   ]
  },
  {
   "cell_type": "code",
   "execution_count": 12,
   "metadata": {},
   "outputs": [],
   "source": [
    "import os\n",
    "import cv2\n",
    "import random\n",
    "import pandas as pd\n",
    "\n",
    "image_folder = \"/home/addinedu/dev_ws/data/ox_images/train\"\n",
    "label_csv_path = \"/home/addinedu/dev_ws/data/ox_images/train_labels.csv\"\n",
    "\n",
    "label_df = pd.read_csv(label_csv_path)\n",
    "\n",
    "image_files = os.listdir(image_folder)\n",
    "\n",
    "random_index = random.randint(0, len(image_files) - 1)\n",
    "image_file = image_files[random_index]\n",
    "label = label_df.loc[label_df['File_Name'] == image_file, 'Label'].iloc[0]\n",
    "\n",
    "image_path = os.path.join(image_folder, image_file)\n",
    "image = cv2.imread(image_path)\n",
    "\n",
    "cv2.putText(image, label, (20, 40), cv2.FONT_HERSHEY_SIMPLEX, 1, (0, 255, 0), 2)\n",
    "cv2.imshow(\"Image with Label\", image)\n",
    "cv2.waitKey(0)\n",
    "cv2.destroyAllWindows()\n"
   ]
  },
  {
   "cell_type": "markdown",
   "metadata": {},
   "source": [
    "라벨링 확인"
   ]
  },
  {
   "cell_type": "code",
   "execution_count": 11,
   "metadata": {},
   "outputs": [
    {
     "name": "stdout",
     "output_type": "stream",
     "text": [
      "                                     Image_Path  Label\n",
      "0  /home/addinedu/dev_ws/data/xxxxx/x/x_311.jpg      1\n",
      "1  /home/addinedu/dev_ws/data/xxxxx/x/x_131.jpg      1\n",
      "2  /home/addinedu/dev_ws/data/xxxxx/x/x_120.jpg      1\n",
      "3  /home/addinedu/dev_ws/data/xxxxx/x/x_381.jpg      1\n",
      "4  /home/addinedu/dev_ws/data/xxxxx/x/x_309.jpg      1\n"
     ]
    }
   ],
   "source": [
    "import pandas as pd\n",
    "\n",
    "# 라벨링된 CSV 파일 경로\n",
    "csv_file_path = \"/home/addinedu/dev_ws/data/xxxxx/x_labels.csv\"\n",
    "\n",
    "# CSV 파일 로드\n",
    "df = pd.read_csv(csv_file_path)\n",
    "\n",
    "# 데이터프레임 출력\n",
    "print(df.head())\n"
   ]
  }
 ],
 "metadata": {
  "kernelspec": {
   "display_name": "opencv2_venv",
   "language": "python",
   "name": "python3"
  },
  "language_info": {
   "codemirror_mode": {
    "name": "ipython",
    "version": 3
   },
   "file_extension": ".py",
   "mimetype": "text/x-python",
   "name": "python",
   "nbconvert_exporter": "python",
   "pygments_lexer": "ipython3",
   "version": "3.10.12"
  }
 },
 "nbformat": 4,
 "nbformat_minor": 2
}
