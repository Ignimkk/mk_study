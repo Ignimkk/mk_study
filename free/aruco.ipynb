{
 "cells": [
  {
   "cell_type": "code",
   "execution_count": 10,
   "metadata": {},
   "outputs": [
    {
     "ename": "AttributeError",
     "evalue": "module 'cv2.aruco' has no attribute 'detectMarkers'",
     "output_type": "error",
     "traceback": [
      "\u001b[0;31m---------------------------------------------------------------------------\u001b[0m",
      "\u001b[0;31mAttributeError\u001b[0m                            Traceback (most recent call last)",
      "Cell \u001b[0;32mIn[10], line 16\u001b[0m\n\u001b[1;32m     13\u001b[0m     \u001b[38;5;28;01mbreak\u001b[39;00m\n\u001b[1;32m     15\u001b[0m gray_frame \u001b[38;5;241m=\u001b[39m cv2\u001b[38;5;241m.\u001b[39mcvtColor(frame, cv2\u001b[38;5;241m.\u001b[39mCOLOR_BGR2GRAY)\n\u001b[0;32m---> 16\u001b[0m marker_corners, marker_IDs, _ \u001b[38;5;241m=\u001b[39m \u001b[43mcv2\u001b[49m\u001b[38;5;241;43m.\u001b[39;49m\u001b[43maruco\u001b[49m\u001b[38;5;241;43m.\u001b[39;49m\u001b[43mdetectMarkers\u001b[49m(\n\u001b[1;32m     17\u001b[0m     gray_frame, aruco_dict, parameters\u001b[38;5;241m=\u001b[39mparameters\n\u001b[1;32m     18\u001b[0m )\n\u001b[1;32m     19\u001b[0m \u001b[38;5;28;01mif\u001b[39;00m marker_corners:\n\u001b[1;32m     20\u001b[0m     \u001b[38;5;28;01mfor\u001b[39;00m ids, corners \u001b[38;5;129;01min\u001b[39;00m \u001b[38;5;28mzip\u001b[39m(marker_IDs, marker_corners):\n",
      "\u001b[0;31mAttributeError\u001b[0m: module 'cv2.aruco' has no attribute 'detectMarkers'"
     ]
    }
   ],
   "source": [
    "import cv2\n",
    "from cv2 import aruco\n",
    "import numpy as np\n",
    "\n",
    "dictionary = cv2.aruco.getPredefinedDictionary(cv2.aruco.DICT_4X4_250)\n",
    "parameters =  cv2.aruco.DetectorParameters()\n",
    "detector = cv2.aruco.ArucoDetector(dictionary, parameters)\n",
    "\n",
    "cap = cv2.VideoCapture(0)\n",
    "\n",
    "while cap.isOpened():\n",
    "    ret, frame = cap.read()\n",
    "    if not ret:\n",
    "        break\n",
    "\n",
    "    gray_frame = cv2.cvtColor(frame, cv2.COLOR_BGR2GRAY)\n",
    "    marker_corners, marker_IDs, _ = cv2.aruco.detectMarkers(\n",
    "        gray_frame, dictionary, parameters=parameters\n",
    "    )\n",
    "    if marker_corners:\n",
    "        for ids, corners in zip(marker_IDs, marker_corners):\n",
    "            cv2.polylines(frame, [np.array(corners, np.int32)], True, (0, 255, 255), 4, cv2.LINE_AA)\n",
    "\n",
    "    cv2.imshow(\"frame\", frame)\n",
    "    key = cv2.waitKey(1)\n",
    "    if key == ord(\"q\"):\n",
    "        break\n",
    "\n",
    "cap.release()\n",
    "cv2.destroyAllWindows()\n"
   ]
  },
  {
   "cell_type": "code",
   "execution_count": 14,
   "metadata": {},
   "outputs": [
    {
     "name": "stderr",
     "output_type": "stream",
     "text": [
      "[ WARN:0@927.847] global cap_v4l.cpp:982 open VIDEOIO(V4L2:/dev/video0): can't open camera by index\n",
      "[ERROR:0@927.848] global obsensor_uvc_stream_channel.cpp:156 getStreamChannelGroup Camera index out of range\n"
     ]
    }
   ],
   "source": [
    "import numpy as np\n",
    "import cv2\n",
    "from cv2 import aruco\n",
    "\n",
    "cap = cv2.VideoCapture(0)\n",
    "\n",
    "while cap.isOpened():\n",
    "    ret, frame = cap.read()\n",
    "\n",
    "    if not ret:\n",
    "        print(\"Failed to capture frame from camera.\")\n",
    "        break\n",
    "\n",
    "    gray = cv2.cvtColor(frame, cv2.COLOR_BGR2GRAY)\n",
    "    dictionary = cv2.aruco.getPredefinedDictionary(cv2.aruco.DICT_4X4_50)\n",
    "    parameters = cv2.aruco.DetectorParameters()\n",
    "    markerCorners, markerIds, rejectedCandidates = cv2.aruco.detectMarkers(frame, dictionary, parameters=parameters)\n",
    "\n",
    "    if markerIds is not None:\n",
    "        frame_markers = aruco.drawDetectedMarkers(frame.copy(), markerCorners, markerIds)\n",
    "        for i in range(len(markerIds)):\n",
    "            c = markerCorners[i][0]\n",
    "            cv2.circle(frame_markers, (int(c[:, 0].mean()), int(c[:, 1].mean())), 4, (0, 255, 0), -1)\n",
    "            cv2.putText(frame_markers, \"id={}\".format(markerIds[i]), (int(c[:, 0].mean()) - 10, int(c[:, 1].mean()) - 10),\n",
    "                        cv2.FONT_HERSHEY_SIMPLEX, 0.5, (0, 255, 0), 2)\n",
    "\n",
    "        cv2.imshow('frame', frame_markers)\n",
    "    else:\n",
    "        cv2.imshow('frame', frame)\n",
    "\n",
    "    if cv2.waitKey(1) & 0xFF == ord('q'):\n",
    "        break\n",
    "\n",
    "cap.release()\n",
    "cv2.destroyAllWindows()\n"
   ]
  }
 ],
 "metadata": {
  "kernelspec": {
   "display_name": "YOLO_venv",
   "language": "python",
   "name": "python3"
  },
  "language_info": {
   "codemirror_mode": {
    "name": "ipython",
    "version": 3
   },
   "file_extension": ".py",
   "mimetype": "text/x-python",
   "name": "python",
   "nbconvert_exporter": "python",
   "pygments_lexer": "ipython3",
   "version": "3.10.12"
  }
 },
 "nbformat": 4,
 "nbformat_minor": 2
}
