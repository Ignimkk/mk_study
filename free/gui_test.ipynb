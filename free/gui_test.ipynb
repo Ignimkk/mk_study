{
 "cells": [
  {
   "cell_type": "markdown",
   "metadata": {},
   "source": [
    "1. 5개의 옵션 및 각 옵션에 하위옵션 5개\n",
    "2. 조회 버튼"
   ]
  },
  {
   "cell_type": "code",
   "execution_count": 1,
   "metadata": {},
   "outputs": [
    {
     "name": "stderr",
     "output_type": "stream",
     "text": [
      "QSocketNotifier: Can only be used with threads started with QThread\n"
     ]
    },
    {
     "ename": "SystemExit",
     "evalue": "0",
     "output_type": "error",
     "traceback": [
      "An exception has occurred, use %tb to see the full traceback.\n",
      "\u001b[0;31mSystemExit\u001b[0m\u001b[0;31m:\u001b[0m 0\n"
     ]
    },
    {
     "name": "stderr",
     "output_type": "stream",
     "text": [
      "/home/addinedu/venv/eda_venv/lib/python3.10/site-packages/IPython/core/interactiveshell.py:3561: UserWarning: To exit: use 'exit', 'quit', or Ctrl-D.\n",
      "  warn(\"To exit: use 'exit', 'quit', or Ctrl-D.\", stacklevel=1)\n"
     ]
    }
   ],
   "source": [
    "import sys\n",
    "from PyQt5.QtWidgets import QApplication, QWidget, QVBoxLayout, QComboBox, QPushButton, QLabel, QTextEdit\n",
    "from PyQt5.QtCore import Qt\n",
    "\n",
    "class MyGUI(QWidget):\n",
    "    def __init__(self):\n",
    "        super().__init__()\n",
    "\n",
    "        self.setWindowTitle(\"옵션 조회\")\n",
    "        self.setGeometry(100, 100, 600, 400)  # 전체 GUI 크기 조정\n",
    "\n",
    "        layout = QVBoxLayout()\n",
    "        self.combo_boxes = []\n",
    "\n",
    "        # 각 옵션 박스에 대한 하위 옵션 추가\n",
    "        for i in range(4):\n",
    "            combo_box = QComboBox()\n",
    "            combo_box.addItem(\"옵션1\")\n",
    "            combo_box.addItem(\"옵션2\")\n",
    "            combo_box.addItem(\"옵션3\")\n",
    "            combo_box.addItem(\"옵션4\")\n",
    "            combo_box.addItem(\"옵션5\")\n",
    "            combo_box.currentIndexChanged.connect(self.update_suboptions)\n",
    "            self.combo_boxes.append(combo_box)\n",
    "            layout.addWidget(combo_box)\n",
    "\n",
    "        # 결과 표시를 위한 텍스트 에디터 추가\n",
    "        self.result_label = QLabel(\"조회 결과:\", self)\n",
    "        layout.addWidget(self.result_label)\n",
    "\n",
    "        self.result_text_edit = QTextEdit(self)\n",
    "        self.result_text_edit.setReadOnly(True)\n",
    "        layout.addWidget(self.result_text_edit)\n",
    "\n",
    "        # 조회 버튼 추가\n",
    "        search_button = QPushButton(\"조회\", self)\n",
    "        search_button.clicked.connect(self.search)\n",
    "        layout.addWidget(search_button)\n",
    "\n",
    "        self.setLayout(layout)\n",
    "\n",
    "    def keyPressEvent(self, event):\n",
    "        # 키보드 이벤트 처리 (키 'c'가 눌리면 종료)\n",
    "        if event.key() == Qt.Key_C:\n",
    "            self.close()\n",
    "\n",
    "    def update_suboptions(self):\n",
    "        for i, combo_box in enumerate(self.combo_boxes):\n",
    "            current_index = combo_box.currentIndex()\n",
    "            suboptions = self.get_suboptions(current_index)\n",
    "            self.update_combo_box(self.combo_boxes[i+1], suboptions)\n",
    "\n",
    "    def get_suboptions(self, option_index):\n",
    "        # 각 옵션에 따른 하위 옵션을 반환하는 함수\n",
    "        if option_index == 0:\n",
    "            return [\"하위옵션1-1\", \"하위옵션1-2\", \"하위옵션1-3\", \"하위옵션1-4\", \"하위옵션1-5\"]\n",
    "        elif option_index == 1:\n",
    "            return [\"하위옵션2-1\", \"하위옵션2-2\", \"하위옵션2-3\", \"하위옵션2-4\", \"하위옵션2-5\"]\n",
    "        elif option_index == 2:\n",
    "            return [\"하위옵션3-1\", \"하위옵션3-2\", \"하위옵션3-3\", \"하위옵션3-4\", \"하위옵션3-5\"]\n",
    "        elif option_index == 3:\n",
    "            return [\"하위옵션4-1\", \"하위옵션4-2\", \"하위옵션4-3\", \"하위옵션4-4\", \"하위옵션4-5\"]\n",
    "        else:\n",
    "            return []\n",
    "\n",
    "    def update_combo_box(self, combo_box, suboptions):\n",
    "        combo_box.clear()\n",
    "        for option in suboptions:\n",
    "            combo_box.addItem(option)\n",
    "\n",
    "    def search(self):\n",
    "        # 여기서 데이터베이스 조회 함수를 호출하고, 선택한 옵션을 조건으로 사용하여 결과를 표시합니다.\n",
    "        selected_options = []\n",
    "        for combo_box in self.combo_boxes:\n",
    "            selected_options.append(combo_box.currentText())\n",
    "        result_text = '\\n'.join(selected_options)\n",
    "        self.result_text_edit.setPlainText(result_text)\n",
    "\n",
    "if __name__ == '__main__':\n",
    "    app = QApplication(sys.argv)\n",
    "    gui = MyGUI()\n",
    "    gui.show()\n",
    "    sys.exit(app.exec_())"
   ]
  }
 ],
 "metadata": {
  "kernelspec": {
   "display_name": "eda_venv",
   "language": "python",
   "name": "python3"
  },
  "language_info": {
   "codemirror_mode": {
    "name": "ipython",
    "version": 3
   },
   "file_extension": ".py",
   "mimetype": "text/x-python",
   "name": "python",
   "nbconvert_exporter": "python",
   "pygments_lexer": "ipython3",
   "version": "3.10.12"
  }
 },
 "nbformat": 4,
 "nbformat_minor": 2
}
