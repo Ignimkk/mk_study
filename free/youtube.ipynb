{
 "cells": [
  {
   "cell_type": "code",
   "execution_count": null,
   "metadata": {},
   "outputs": [],
   "source": [
    "from selenium import webdriver\n",
    "from selenium.webdriver.chrome.service import Service\n",
    "from selenium.webdriver.chrome.options import Options\n",
    "from selenium.webdriver.common.by import By\n",
    "from bs4 import BeautifulSoup\n",
    "import time\n",
    "from tqdm import tqdm \n",
    "import re\n",
    "\n",
    "#리눅스 환경\n",
    "\n",
    "url = \"https://www.youtube.com/\"\n",
    "driver = webdriver.Chrome(service=Service(\"/home/addinedu/dev_ws/driver/chromedriver-linux64/chromedriver\"))\n",
    "\n",
    " \n",
    "\n",
    "   \n",
    "\n",
    "driver. get(url)"
   ]
  },
  {
   "cell_type": "markdown",
   "metadata": {},
   "source": [
    "유튜브 검색창에 원하는 택스트 입력 (단, 입력전에는 싹 지우고 작성)"
   ]
  },
  {
   "cell_type": "code",
   "execution_count": null,
   "metadata": {},
   "outputs": [],
   "source": [
    "from selenium.webdriver.common.keys import Keys\n",
    "\n",
    "serch = driver.find_element(By.XPATH, '//*[@id=\"search-input\"]')\n",
    "search_doc = serch.find_element(By.CSS_SELECTOR, \"#search\")\n",
    "\n",
    "search_doc.clear()\n",
    "time.sleep(1)\n",
    "search_doc.send_keys('ROS2')\n",
    "time.sleep(1)\n",
    "search_doc.send_keys(Keys.ENTER)"
   ]
  },
  {
   "cell_type": "markdown",
   "metadata": {},
   "source": [
    "유튜브 배너를 클릭해서 홈으로 가기"
   ]
  },
  {
   "cell_type": "code",
   "execution_count": null,
   "metadata": {},
   "outputs": [],
   "source": [
    "Home = driver.find_element(By.XPATH, '//*[@id=\"logo-icon\"]/yt-icon-shape/icon-shape/div')\n",
    "Home.click()"
   ]
  },
  {
   "cell_type": "code",
   "execution_count": null,
   "metadata": {},
   "outputs": [],
   "source": [
    "\n",
    "req = driver.page_source\n",
    "soup = BeautifulSoup(req,'html.parser') \n",
    "print(soup.prettify())"
   ]
  },
  {
   "cell_type": "code",
   "execution_count": null,
   "metadata": {},
   "outputs": [],
   "source": [
    "\n",
    "all_video = soup.find('ytd-page-manager',id='page-manager')\n",
    "all_video_list = all_video.find(id= 'primary')\n",
    "all_video_list2 = all_video.find_all(id= 'contents')\n",
    "\n"
   ]
  },
  {
   "cell_type": "code",
   "execution_count": null,
   "metadata": {},
   "outputs": [],
   "source": [
    "# print(all_video_list2.prettify())\n",
    "all_video_list2"
   ]
  },
  {
   "cell_type": "code",
   "execution_count": 52,
   "metadata": {},
   "outputs": [
    {
     "name": "stdout",
     "output_type": "stream",
     "text": [
      "없\n"
     ]
    },
    {
     "data": {
      "text/plain": [
       "['하루 종일 듣기 좋은 노래 🎶 일할때 듣기좋은 발라드 추천 광고없는 노래모음🎶 김범수 /임창정 /박효신/성시경/ 백지영/ 더원/태연/박명수/에일리/찬열, 펀치/다비치/로꼬, 펀치',\n",
       " '하루 종일 듣기 좋은 노래 🎶 일할때 듣기좋은 발라드 추천 광고없는 노래모음🎶 김범수 /임창정 /박효신/성시경/ 백지영/ 더원/태연/박명수/에일리/찬열, 펀치/다비치/로꼬, 펀치',\n",
       " '[KPOP Playlist] 요즘 듣는 케이팝 노래 모음 ➄',\n",
       " '아주 빠른 그 남자의 쿨타임은 30분ㅋㅋ #snl4',\n",
       " '[𝐖𝐎𝐑𝐊&𝐉𝐀𝐙𝐙] 사무실에서 일하다가 몰래 리듬타기 좋은 펑키한 재즈비지엠😎💖 l Relaxing Jazz Piano Music for Office, Work, Study',\n",
       " '𝐏𝐥𝐚𝐲𝐥𝐢𝐬𝐭 | You can stay by my side forever, Old Pop Playlist',\n",
       " '손흥민, 13호골 폭발+최고 평점+MOM까지 싹쓸이 #SPOTIME',\n",
       " 'Music that makes u more inspired to study & work 🌿 Study music ~ lofi / relax/ stress relief',\n",
       " '\\n        ROS2 Tutorials - ROS2 Humble For Beginners\\n      ',\n",
       " '\\n        ROS2 Tutorials - ROS2 Humble For Beginners\\n      ',\n",
       " '\\n        ROS2 Tutorials - ROS2 Humble For Beginners\\n      ',\n",
       " '\\n\\n[R36S] 그것이 알고싶다- [10가지 궁금증]\\n',\n",
       " 'ROS2 Moveit 2 Control of XArm 1S robot arm',\n",
       " '\\n\\nROSBOT - ROS2 open source SLAM robot\\n',\n",
       " 'Should I learn ROS 1 or ROS 2?',\n",
       " 'Turtlesim Node (ROS2)']"
      ]
     },
     "execution_count": 52,
     "metadata": {},
     "output_type": "execute_result"
    }
   ],
   "source": [
    "invidual_video_list = []\n",
    "for i in range(len(all_video_list2)):\n",
    "    try:\n",
    "\n",
    "        a = all_video_list2[i]\n",
    "        invidual_video = a.find(id='video-title').get_text()\n",
    "    except:\n",
    "        print('없')\n",
    "    invidual_video_list.append(invidual_video)\n",
    "\n",
    "invidual_video_list"
   ]
  }
 ],
 "metadata": {
  "kernelspec": {
   "display_name": "eda_venv",
   "language": "python",
   "name": "python3"
  },
  "language_info": {
   "codemirror_mode": {
    "name": "ipython",
    "version": 3
   },
   "file_extension": ".py",
   "mimetype": "text/x-python",
   "name": "python",
   "nbconvert_exporter": "python",
   "pygments_lexer": "ipython3",
   "version": "3.10.12"
  }
 },
 "nbformat": 4,
 "nbformat_minor": 2
}
