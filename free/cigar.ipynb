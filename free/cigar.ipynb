{
 "cells": [
  {
   "cell_type": "code",
   "execution_count": 2,
   "metadata": {},
   "outputs": [
    {
     "name": "stdout",
     "output_type": "stream",
     "text": [
      "loading Roboflow workspace...\n",
      "loading Roboflow project...\n"
     ]
    },
    {
     "name": "stderr",
     "output_type": "stream",
     "text": [
      "Downloading Dataset Version Zip in Diplom-4 to yolov5pytorch:: 100%|██████████| 232788/232788 [00:12<00:00, 18775.74it/s]"
     ]
    },
    {
     "name": "stdout",
     "output_type": "stream",
     "text": [
      "\n"
     ]
    },
    {
     "name": "stderr",
     "output_type": "stream",
     "text": [
      "\n",
      "Extracting Dataset Version Zip to Diplom-4 in yolov5pytorch:: 100%|██████████| 11977/11977 [00:01<00:00, 10174.44it/s]\n"
     ]
    }
   ],
   "source": [
    "\n",
    "\n",
    "from roboflow import Roboflow\n",
    "rf = Roboflow(api_key=\"A9FeYLNllljYJ9rzI8vK\")\n",
    "project = rf.workspace(\"mejnar\").project(\"diplom-grweq\")\n",
    "version = project.version(4)\n",
    "dataset = version.download(\"yolov5\")\n"
   ]
  }
 ],
 "metadata": {
  "kernelspec": {
   "display_name": "YOLO_venv",
   "language": "python",
   "name": "python3"
  },
  "language_info": {
   "codemirror_mode": {
    "name": "ipython",
    "version": 3
   },
   "file_extension": ".py",
   "mimetype": "text/x-python",
   "name": "python",
   "nbconvert_exporter": "python",
   "pygments_lexer": "ipython3",
   "version": "3.10.12"
  }
 },
 "nbformat": 4,
 "nbformat_minor": 2
}
